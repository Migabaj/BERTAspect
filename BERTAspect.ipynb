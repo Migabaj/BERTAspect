{
  "nbformat": 4,
  "nbformat_minor": 0,
  "metadata": {
    "colab": {
      "provenance": []
    },
    "kernelspec": {
      "name": "python3",
      "display_name": "Python 3"
    },
    "language_info": {
      "name": "python"
    },
    "accelerator": "TPU",
    "widgets": {
      "application/vnd.jupyter.widget-state+json": {
        "0e82c253617a4a0fa4295d342fd05d8b": {
          "model_module": "@jupyter-widgets/controls",
          "model_name": "HBoxModel",
          "model_module_version": "1.5.0",
          "state": {
            "_dom_classes": [],
            "_model_module": "@jupyter-widgets/controls",
            "_model_module_version": "1.5.0",
            "_model_name": "HBoxModel",
            "_view_count": null,
            "_view_module": "@jupyter-widgets/controls",
            "_view_module_version": "1.5.0",
            "_view_name": "HBoxView",
            "box_style": "",
            "children": [
              "IPY_MODEL_fe1385971bff475a8461614600d25f63",
              "IPY_MODEL_ecf674285e3943fd8bf4a00025c38988",
              "IPY_MODEL_9ced6a91981d415e99659a0de4d510c4"
            ],
            "layout": "IPY_MODEL_77429898a11248c6a1ce3149015f5f9c"
          }
        },
        "fe1385971bff475a8461614600d25f63": {
          "model_module": "@jupyter-widgets/controls",
          "model_name": "HTMLModel",
          "model_module_version": "1.5.0",
          "state": {
            "_dom_classes": [],
            "_model_module": "@jupyter-widgets/controls",
            "_model_module_version": "1.5.0",
            "_model_name": "HTMLModel",
            "_view_count": null,
            "_view_module": "@jupyter-widgets/controls",
            "_view_module_version": "1.5.0",
            "_view_name": "HTMLView",
            "description": "",
            "description_tooltip": null,
            "layout": "IPY_MODEL_afb0a7dd10a5466b8444f4b294787c85",
            "placeholder": "​",
            "style": "IPY_MODEL_779ef4921a9d43ba82fc148f1c21e53e",
            "value": "Downloading (…)okenizer_config.json: 100%"
          }
        },
        "ecf674285e3943fd8bf4a00025c38988": {
          "model_module": "@jupyter-widgets/controls",
          "model_name": "FloatProgressModel",
          "model_module_version": "1.5.0",
          "state": {
            "_dom_classes": [],
            "_model_module": "@jupyter-widgets/controls",
            "_model_module_version": "1.5.0",
            "_model_name": "FloatProgressModel",
            "_view_count": null,
            "_view_module": "@jupyter-widgets/controls",
            "_view_module_version": "1.5.0",
            "_view_name": "ProgressView",
            "bar_style": "success",
            "description": "",
            "description_tooltip": null,
            "layout": "IPY_MODEL_8e84a245518247a3940bf53c13e79253",
            "max": 24,
            "min": 0,
            "orientation": "horizontal",
            "style": "IPY_MODEL_8eda54a4d64a4dbfb2b869524d538d3f",
            "value": 24
          }
        },
        "9ced6a91981d415e99659a0de4d510c4": {
          "model_module": "@jupyter-widgets/controls",
          "model_name": "HTMLModel",
          "model_module_version": "1.5.0",
          "state": {
            "_dom_classes": [],
            "_model_module": "@jupyter-widgets/controls",
            "_model_module_version": "1.5.0",
            "_model_name": "HTMLModel",
            "_view_count": null,
            "_view_module": "@jupyter-widgets/controls",
            "_view_module_version": "1.5.0",
            "_view_name": "HTMLView",
            "description": "",
            "description_tooltip": null,
            "layout": "IPY_MODEL_c518370c03eb4a4eacda6475b666d357",
            "placeholder": "​",
            "style": "IPY_MODEL_454810895ea24135ab4c73c44553d60a",
            "value": " 24.0/24.0 [00:00&lt;00:00, 854B/s]"
          }
        },
        "77429898a11248c6a1ce3149015f5f9c": {
          "model_module": "@jupyter-widgets/base",
          "model_name": "LayoutModel",
          "model_module_version": "1.2.0",
          "state": {
            "_model_module": "@jupyter-widgets/base",
            "_model_module_version": "1.2.0",
            "_model_name": "LayoutModel",
            "_view_count": null,
            "_view_module": "@jupyter-widgets/base",
            "_view_module_version": "1.2.0",
            "_view_name": "LayoutView",
            "align_content": null,
            "align_items": null,
            "align_self": null,
            "border": null,
            "bottom": null,
            "display": null,
            "flex": null,
            "flex_flow": null,
            "grid_area": null,
            "grid_auto_columns": null,
            "grid_auto_flow": null,
            "grid_auto_rows": null,
            "grid_column": null,
            "grid_gap": null,
            "grid_row": null,
            "grid_template_areas": null,
            "grid_template_columns": null,
            "grid_template_rows": null,
            "height": null,
            "justify_content": null,
            "justify_items": null,
            "left": null,
            "margin": null,
            "max_height": null,
            "max_width": null,
            "min_height": null,
            "min_width": null,
            "object_fit": null,
            "object_position": null,
            "order": null,
            "overflow": null,
            "overflow_x": null,
            "overflow_y": null,
            "padding": null,
            "right": null,
            "top": null,
            "visibility": null,
            "width": null
          }
        },
        "afb0a7dd10a5466b8444f4b294787c85": {
          "model_module": "@jupyter-widgets/base",
          "model_name": "LayoutModel",
          "model_module_version": "1.2.0",
          "state": {
            "_model_module": "@jupyter-widgets/base",
            "_model_module_version": "1.2.0",
            "_model_name": "LayoutModel",
            "_view_count": null,
            "_view_module": "@jupyter-widgets/base",
            "_view_module_version": "1.2.0",
            "_view_name": "LayoutView",
            "align_content": null,
            "align_items": null,
            "align_self": null,
            "border": null,
            "bottom": null,
            "display": null,
            "flex": null,
            "flex_flow": null,
            "grid_area": null,
            "grid_auto_columns": null,
            "grid_auto_flow": null,
            "grid_auto_rows": null,
            "grid_column": null,
            "grid_gap": null,
            "grid_row": null,
            "grid_template_areas": null,
            "grid_template_columns": null,
            "grid_template_rows": null,
            "height": null,
            "justify_content": null,
            "justify_items": null,
            "left": null,
            "margin": null,
            "max_height": null,
            "max_width": null,
            "min_height": null,
            "min_width": null,
            "object_fit": null,
            "object_position": null,
            "order": null,
            "overflow": null,
            "overflow_x": null,
            "overflow_y": null,
            "padding": null,
            "right": null,
            "top": null,
            "visibility": null,
            "width": null
          }
        },
        "779ef4921a9d43ba82fc148f1c21e53e": {
          "model_module": "@jupyter-widgets/controls",
          "model_name": "DescriptionStyleModel",
          "model_module_version": "1.5.0",
          "state": {
            "_model_module": "@jupyter-widgets/controls",
            "_model_module_version": "1.5.0",
            "_model_name": "DescriptionStyleModel",
            "_view_count": null,
            "_view_module": "@jupyter-widgets/base",
            "_view_module_version": "1.2.0",
            "_view_name": "StyleView",
            "description_width": ""
          }
        },
        "8e84a245518247a3940bf53c13e79253": {
          "model_module": "@jupyter-widgets/base",
          "model_name": "LayoutModel",
          "model_module_version": "1.2.0",
          "state": {
            "_model_module": "@jupyter-widgets/base",
            "_model_module_version": "1.2.0",
            "_model_name": "LayoutModel",
            "_view_count": null,
            "_view_module": "@jupyter-widgets/base",
            "_view_module_version": "1.2.0",
            "_view_name": "LayoutView",
            "align_content": null,
            "align_items": null,
            "align_self": null,
            "border": null,
            "bottom": null,
            "display": null,
            "flex": null,
            "flex_flow": null,
            "grid_area": null,
            "grid_auto_columns": null,
            "grid_auto_flow": null,
            "grid_auto_rows": null,
            "grid_column": null,
            "grid_gap": null,
            "grid_row": null,
            "grid_template_areas": null,
            "grid_template_columns": null,
            "grid_template_rows": null,
            "height": null,
            "justify_content": null,
            "justify_items": null,
            "left": null,
            "margin": null,
            "max_height": null,
            "max_width": null,
            "min_height": null,
            "min_width": null,
            "object_fit": null,
            "object_position": null,
            "order": null,
            "overflow": null,
            "overflow_x": null,
            "overflow_y": null,
            "padding": null,
            "right": null,
            "top": null,
            "visibility": null,
            "width": null
          }
        },
        "8eda54a4d64a4dbfb2b869524d538d3f": {
          "model_module": "@jupyter-widgets/controls",
          "model_name": "ProgressStyleModel",
          "model_module_version": "1.5.0",
          "state": {
            "_model_module": "@jupyter-widgets/controls",
            "_model_module_version": "1.5.0",
            "_model_name": "ProgressStyleModel",
            "_view_count": null,
            "_view_module": "@jupyter-widgets/base",
            "_view_module_version": "1.2.0",
            "_view_name": "StyleView",
            "bar_color": null,
            "description_width": ""
          }
        },
        "c518370c03eb4a4eacda6475b666d357": {
          "model_module": "@jupyter-widgets/base",
          "model_name": "LayoutModel",
          "model_module_version": "1.2.0",
          "state": {
            "_model_module": "@jupyter-widgets/base",
            "_model_module_version": "1.2.0",
            "_model_name": "LayoutModel",
            "_view_count": null,
            "_view_module": "@jupyter-widgets/base",
            "_view_module_version": "1.2.0",
            "_view_name": "LayoutView",
            "align_content": null,
            "align_items": null,
            "align_self": null,
            "border": null,
            "bottom": null,
            "display": null,
            "flex": null,
            "flex_flow": null,
            "grid_area": null,
            "grid_auto_columns": null,
            "grid_auto_flow": null,
            "grid_auto_rows": null,
            "grid_column": null,
            "grid_gap": null,
            "grid_row": null,
            "grid_template_areas": null,
            "grid_template_columns": null,
            "grid_template_rows": null,
            "height": null,
            "justify_content": null,
            "justify_items": null,
            "left": null,
            "margin": null,
            "max_height": null,
            "max_width": null,
            "min_height": null,
            "min_width": null,
            "object_fit": null,
            "object_position": null,
            "order": null,
            "overflow": null,
            "overflow_x": null,
            "overflow_y": null,
            "padding": null,
            "right": null,
            "top": null,
            "visibility": null,
            "width": null
          }
        },
        "454810895ea24135ab4c73c44553d60a": {
          "model_module": "@jupyter-widgets/controls",
          "model_name": "DescriptionStyleModel",
          "model_module_version": "1.5.0",
          "state": {
            "_model_module": "@jupyter-widgets/controls",
            "_model_module_version": "1.5.0",
            "_model_name": "DescriptionStyleModel",
            "_view_count": null,
            "_view_module": "@jupyter-widgets/base",
            "_view_module_version": "1.2.0",
            "_view_name": "StyleView",
            "description_width": ""
          }
        },
        "b4cb1087c6f94667b597b8e38fdcc098": {
          "model_module": "@jupyter-widgets/controls",
          "model_name": "HBoxModel",
          "model_module_version": "1.5.0",
          "state": {
            "_dom_classes": [],
            "_model_module": "@jupyter-widgets/controls",
            "_model_module_version": "1.5.0",
            "_model_name": "HBoxModel",
            "_view_count": null,
            "_view_module": "@jupyter-widgets/controls",
            "_view_module_version": "1.5.0",
            "_view_name": "HBoxView",
            "box_style": "",
            "children": [
              "IPY_MODEL_acc41ba9d05b4aedb1b030ab5c6ffafa",
              "IPY_MODEL_25915adfa2544ef1b56d006f2a1e2381",
              "IPY_MODEL_27b2434178124c349be07207b2f0b5ca"
            ],
            "layout": "IPY_MODEL_4f8b7b9e5ff741189c2a748141d6be5d"
          }
        },
        "acc41ba9d05b4aedb1b030ab5c6ffafa": {
          "model_module": "@jupyter-widgets/controls",
          "model_name": "HTMLModel",
          "model_module_version": "1.5.0",
          "state": {
            "_dom_classes": [],
            "_model_module": "@jupyter-widgets/controls",
            "_model_module_version": "1.5.0",
            "_model_name": "HTMLModel",
            "_view_count": null,
            "_view_module": "@jupyter-widgets/controls",
            "_view_module_version": "1.5.0",
            "_view_name": "HTMLView",
            "description": "",
            "description_tooltip": null,
            "layout": "IPY_MODEL_d4036650d14747beb7d1a7a8e8f7d9cb",
            "placeholder": "​",
            "style": "IPY_MODEL_6a8c66df247e403bb167130743ea20b1",
            "value": "Downloading (…)lve/main/config.json: 100%"
          }
        },
        "25915adfa2544ef1b56d006f2a1e2381": {
          "model_module": "@jupyter-widgets/controls",
          "model_name": "FloatProgressModel",
          "model_module_version": "1.5.0",
          "state": {
            "_dom_classes": [],
            "_model_module": "@jupyter-widgets/controls",
            "_model_module_version": "1.5.0",
            "_model_name": "FloatProgressModel",
            "_view_count": null,
            "_view_module": "@jupyter-widgets/controls",
            "_view_module_version": "1.5.0",
            "_view_name": "ProgressView",
            "bar_style": "success",
            "description": "",
            "description_tooltip": null,
            "layout": "IPY_MODEL_1db0fdaf059548eea555e3c4f4e13a2e",
            "max": 642,
            "min": 0,
            "orientation": "horizontal",
            "style": "IPY_MODEL_232dfe3d5881404ab885f9446c36897d",
            "value": 642
          }
        },
        "27b2434178124c349be07207b2f0b5ca": {
          "model_module": "@jupyter-widgets/controls",
          "model_name": "HTMLModel",
          "model_module_version": "1.5.0",
          "state": {
            "_dom_classes": [],
            "_model_module": "@jupyter-widgets/controls",
            "_model_module_version": "1.5.0",
            "_model_name": "HTMLModel",
            "_view_count": null,
            "_view_module": "@jupyter-widgets/controls",
            "_view_module_version": "1.5.0",
            "_view_name": "HTMLView",
            "description": "",
            "description_tooltip": null,
            "layout": "IPY_MODEL_774be06039c3403c9c9338d0a6d3184e",
            "placeholder": "​",
            "style": "IPY_MODEL_ef649d8644ed4a0fb1be33cc80757d07",
            "value": " 642/642 [00:00&lt;00:00, 30.1kB/s]"
          }
        },
        "4f8b7b9e5ff741189c2a748141d6be5d": {
          "model_module": "@jupyter-widgets/base",
          "model_name": "LayoutModel",
          "model_module_version": "1.2.0",
          "state": {
            "_model_module": "@jupyter-widgets/base",
            "_model_module_version": "1.2.0",
            "_model_name": "LayoutModel",
            "_view_count": null,
            "_view_module": "@jupyter-widgets/base",
            "_view_module_version": "1.2.0",
            "_view_name": "LayoutView",
            "align_content": null,
            "align_items": null,
            "align_self": null,
            "border": null,
            "bottom": null,
            "display": null,
            "flex": null,
            "flex_flow": null,
            "grid_area": null,
            "grid_auto_columns": null,
            "grid_auto_flow": null,
            "grid_auto_rows": null,
            "grid_column": null,
            "grid_gap": null,
            "grid_row": null,
            "grid_template_areas": null,
            "grid_template_columns": null,
            "grid_template_rows": null,
            "height": null,
            "justify_content": null,
            "justify_items": null,
            "left": null,
            "margin": null,
            "max_height": null,
            "max_width": null,
            "min_height": null,
            "min_width": null,
            "object_fit": null,
            "object_position": null,
            "order": null,
            "overflow": null,
            "overflow_x": null,
            "overflow_y": null,
            "padding": null,
            "right": null,
            "top": null,
            "visibility": null,
            "width": null
          }
        },
        "d4036650d14747beb7d1a7a8e8f7d9cb": {
          "model_module": "@jupyter-widgets/base",
          "model_name": "LayoutModel",
          "model_module_version": "1.2.0",
          "state": {
            "_model_module": "@jupyter-widgets/base",
            "_model_module_version": "1.2.0",
            "_model_name": "LayoutModel",
            "_view_count": null,
            "_view_module": "@jupyter-widgets/base",
            "_view_module_version": "1.2.0",
            "_view_name": "LayoutView",
            "align_content": null,
            "align_items": null,
            "align_self": null,
            "border": null,
            "bottom": null,
            "display": null,
            "flex": null,
            "flex_flow": null,
            "grid_area": null,
            "grid_auto_columns": null,
            "grid_auto_flow": null,
            "grid_auto_rows": null,
            "grid_column": null,
            "grid_gap": null,
            "grid_row": null,
            "grid_template_areas": null,
            "grid_template_columns": null,
            "grid_template_rows": null,
            "height": null,
            "justify_content": null,
            "justify_items": null,
            "left": null,
            "margin": null,
            "max_height": null,
            "max_width": null,
            "min_height": null,
            "min_width": null,
            "object_fit": null,
            "object_position": null,
            "order": null,
            "overflow": null,
            "overflow_x": null,
            "overflow_y": null,
            "padding": null,
            "right": null,
            "top": null,
            "visibility": null,
            "width": null
          }
        },
        "6a8c66df247e403bb167130743ea20b1": {
          "model_module": "@jupyter-widgets/controls",
          "model_name": "DescriptionStyleModel",
          "model_module_version": "1.5.0",
          "state": {
            "_model_module": "@jupyter-widgets/controls",
            "_model_module_version": "1.5.0",
            "_model_name": "DescriptionStyleModel",
            "_view_count": null,
            "_view_module": "@jupyter-widgets/base",
            "_view_module_version": "1.2.0",
            "_view_name": "StyleView",
            "description_width": ""
          }
        },
        "1db0fdaf059548eea555e3c4f4e13a2e": {
          "model_module": "@jupyter-widgets/base",
          "model_name": "LayoutModel",
          "model_module_version": "1.2.0",
          "state": {
            "_model_module": "@jupyter-widgets/base",
            "_model_module_version": "1.2.0",
            "_model_name": "LayoutModel",
            "_view_count": null,
            "_view_module": "@jupyter-widgets/base",
            "_view_module_version": "1.2.0",
            "_view_name": "LayoutView",
            "align_content": null,
            "align_items": null,
            "align_self": null,
            "border": null,
            "bottom": null,
            "display": null,
            "flex": null,
            "flex_flow": null,
            "grid_area": null,
            "grid_auto_columns": null,
            "grid_auto_flow": null,
            "grid_auto_rows": null,
            "grid_column": null,
            "grid_gap": null,
            "grid_row": null,
            "grid_template_areas": null,
            "grid_template_columns": null,
            "grid_template_rows": null,
            "height": null,
            "justify_content": null,
            "justify_items": null,
            "left": null,
            "margin": null,
            "max_height": null,
            "max_width": null,
            "min_height": null,
            "min_width": null,
            "object_fit": null,
            "object_position": null,
            "order": null,
            "overflow": null,
            "overflow_x": null,
            "overflow_y": null,
            "padding": null,
            "right": null,
            "top": null,
            "visibility": null,
            "width": null
          }
        },
        "232dfe3d5881404ab885f9446c36897d": {
          "model_module": "@jupyter-widgets/controls",
          "model_name": "ProgressStyleModel",
          "model_module_version": "1.5.0",
          "state": {
            "_model_module": "@jupyter-widgets/controls",
            "_model_module_version": "1.5.0",
            "_model_name": "ProgressStyleModel",
            "_view_count": null,
            "_view_module": "@jupyter-widgets/base",
            "_view_module_version": "1.2.0",
            "_view_name": "StyleView",
            "bar_color": null,
            "description_width": ""
          }
        },
        "774be06039c3403c9c9338d0a6d3184e": {
          "model_module": "@jupyter-widgets/base",
          "model_name": "LayoutModel",
          "model_module_version": "1.2.0",
          "state": {
            "_model_module": "@jupyter-widgets/base",
            "_model_module_version": "1.2.0",
            "_model_name": "LayoutModel",
            "_view_count": null,
            "_view_module": "@jupyter-widgets/base",
            "_view_module_version": "1.2.0",
            "_view_name": "LayoutView",
            "align_content": null,
            "align_items": null,
            "align_self": null,
            "border": null,
            "bottom": null,
            "display": null,
            "flex": null,
            "flex_flow": null,
            "grid_area": null,
            "grid_auto_columns": null,
            "grid_auto_flow": null,
            "grid_auto_rows": null,
            "grid_column": null,
            "grid_gap": null,
            "grid_row": null,
            "grid_template_areas": null,
            "grid_template_columns": null,
            "grid_template_rows": null,
            "height": null,
            "justify_content": null,
            "justify_items": null,
            "left": null,
            "margin": null,
            "max_height": null,
            "max_width": null,
            "min_height": null,
            "min_width": null,
            "object_fit": null,
            "object_position": null,
            "order": null,
            "overflow": null,
            "overflow_x": null,
            "overflow_y": null,
            "padding": null,
            "right": null,
            "top": null,
            "visibility": null,
            "width": null
          }
        },
        "ef649d8644ed4a0fb1be33cc80757d07": {
          "model_module": "@jupyter-widgets/controls",
          "model_name": "DescriptionStyleModel",
          "model_module_version": "1.5.0",
          "state": {
            "_model_module": "@jupyter-widgets/controls",
            "_model_module_version": "1.5.0",
            "_model_name": "DescriptionStyleModel",
            "_view_count": null,
            "_view_module": "@jupyter-widgets/base",
            "_view_module_version": "1.2.0",
            "_view_name": "StyleView",
            "description_width": ""
          }
        },
        "06187b2ada004b1ea67033c340406a6f": {
          "model_module": "@jupyter-widgets/controls",
          "model_name": "HBoxModel",
          "model_module_version": "1.5.0",
          "state": {
            "_dom_classes": [],
            "_model_module": "@jupyter-widgets/controls",
            "_model_module_version": "1.5.0",
            "_model_name": "HBoxModel",
            "_view_count": null,
            "_view_module": "@jupyter-widgets/controls",
            "_view_module_version": "1.5.0",
            "_view_name": "HBoxView",
            "box_style": "",
            "children": [
              "IPY_MODEL_a98808684117422bb25eaefde4558fed",
              "IPY_MODEL_f407a48e6df94388981caa68ed08c680",
              "IPY_MODEL_27db127b07be4e2993a71504357e83de"
            ],
            "layout": "IPY_MODEL_6fcbee7f7213429682408031896ed802"
          }
        },
        "a98808684117422bb25eaefde4558fed": {
          "model_module": "@jupyter-widgets/controls",
          "model_name": "HTMLModel",
          "model_module_version": "1.5.0",
          "state": {
            "_dom_classes": [],
            "_model_module": "@jupyter-widgets/controls",
            "_model_module_version": "1.5.0",
            "_model_name": "HTMLModel",
            "_view_count": null,
            "_view_module": "@jupyter-widgets/controls",
            "_view_module_version": "1.5.0",
            "_view_name": "HTMLView",
            "description": "",
            "description_tooltip": null,
            "layout": "IPY_MODEL_7a5e2c7371c54e1e87920f7bd079f5eb",
            "placeholder": "​",
            "style": "IPY_MODEL_fe5d86d8547b431e8d5bc5f06e45740c",
            "value": "Downloading (…)solve/main/vocab.txt: 100%"
          }
        },
        "f407a48e6df94388981caa68ed08c680": {
          "model_module": "@jupyter-widgets/controls",
          "model_name": "FloatProgressModel",
          "model_module_version": "1.5.0",
          "state": {
            "_dom_classes": [],
            "_model_module": "@jupyter-widgets/controls",
            "_model_module_version": "1.5.0",
            "_model_name": "FloatProgressModel",
            "_view_count": null,
            "_view_module": "@jupyter-widgets/controls",
            "_view_module_version": "1.5.0",
            "_view_name": "ProgressView",
            "bar_style": "success",
            "description": "",
            "description_tooltip": null,
            "layout": "IPY_MODEL_69478c581d87442d8881048699f173f7",
            "max": 1649718,
            "min": 0,
            "orientation": "horizontal",
            "style": "IPY_MODEL_ec7bab493f0b478bbddb4753e582b54f",
            "value": 1649718
          }
        },
        "27db127b07be4e2993a71504357e83de": {
          "model_module": "@jupyter-widgets/controls",
          "model_name": "HTMLModel",
          "model_module_version": "1.5.0",
          "state": {
            "_dom_classes": [],
            "_model_module": "@jupyter-widgets/controls",
            "_model_module_version": "1.5.0",
            "_model_name": "HTMLModel",
            "_view_count": null,
            "_view_module": "@jupyter-widgets/controls",
            "_view_module_version": "1.5.0",
            "_view_name": "HTMLView",
            "description": "",
            "description_tooltip": null,
            "layout": "IPY_MODEL_320d3bdb558b455d86bcdd4d39eabc83",
            "placeholder": "​",
            "style": "IPY_MODEL_f51c697c2cae47b3b04c408087bec9df",
            "value": " 1.65M/1.65M [00:00&lt;00:00, 7.87MB/s]"
          }
        },
        "6fcbee7f7213429682408031896ed802": {
          "model_module": "@jupyter-widgets/base",
          "model_name": "LayoutModel",
          "model_module_version": "1.2.0",
          "state": {
            "_model_module": "@jupyter-widgets/base",
            "_model_module_version": "1.2.0",
            "_model_name": "LayoutModel",
            "_view_count": null,
            "_view_module": "@jupyter-widgets/base",
            "_view_module_version": "1.2.0",
            "_view_name": "LayoutView",
            "align_content": null,
            "align_items": null,
            "align_self": null,
            "border": null,
            "bottom": null,
            "display": null,
            "flex": null,
            "flex_flow": null,
            "grid_area": null,
            "grid_auto_columns": null,
            "grid_auto_flow": null,
            "grid_auto_rows": null,
            "grid_column": null,
            "grid_gap": null,
            "grid_row": null,
            "grid_template_areas": null,
            "grid_template_columns": null,
            "grid_template_rows": null,
            "height": null,
            "justify_content": null,
            "justify_items": null,
            "left": null,
            "margin": null,
            "max_height": null,
            "max_width": null,
            "min_height": null,
            "min_width": null,
            "object_fit": null,
            "object_position": null,
            "order": null,
            "overflow": null,
            "overflow_x": null,
            "overflow_y": null,
            "padding": null,
            "right": null,
            "top": null,
            "visibility": null,
            "width": null
          }
        },
        "7a5e2c7371c54e1e87920f7bd079f5eb": {
          "model_module": "@jupyter-widgets/base",
          "model_name": "LayoutModel",
          "model_module_version": "1.2.0",
          "state": {
            "_model_module": "@jupyter-widgets/base",
            "_model_module_version": "1.2.0",
            "_model_name": "LayoutModel",
            "_view_count": null,
            "_view_module": "@jupyter-widgets/base",
            "_view_module_version": "1.2.0",
            "_view_name": "LayoutView",
            "align_content": null,
            "align_items": null,
            "align_self": null,
            "border": null,
            "bottom": null,
            "display": null,
            "flex": null,
            "flex_flow": null,
            "grid_area": null,
            "grid_auto_columns": null,
            "grid_auto_flow": null,
            "grid_auto_rows": null,
            "grid_column": null,
            "grid_gap": null,
            "grid_row": null,
            "grid_template_areas": null,
            "grid_template_columns": null,
            "grid_template_rows": null,
            "height": null,
            "justify_content": null,
            "justify_items": null,
            "left": null,
            "margin": null,
            "max_height": null,
            "max_width": null,
            "min_height": null,
            "min_width": null,
            "object_fit": null,
            "object_position": null,
            "order": null,
            "overflow": null,
            "overflow_x": null,
            "overflow_y": null,
            "padding": null,
            "right": null,
            "top": null,
            "visibility": null,
            "width": null
          }
        },
        "fe5d86d8547b431e8d5bc5f06e45740c": {
          "model_module": "@jupyter-widgets/controls",
          "model_name": "DescriptionStyleModel",
          "model_module_version": "1.5.0",
          "state": {
            "_model_module": "@jupyter-widgets/controls",
            "_model_module_version": "1.5.0",
            "_model_name": "DescriptionStyleModel",
            "_view_count": null,
            "_view_module": "@jupyter-widgets/base",
            "_view_module_version": "1.2.0",
            "_view_name": "StyleView",
            "description_width": ""
          }
        },
        "69478c581d87442d8881048699f173f7": {
          "model_module": "@jupyter-widgets/base",
          "model_name": "LayoutModel",
          "model_module_version": "1.2.0",
          "state": {
            "_model_module": "@jupyter-widgets/base",
            "_model_module_version": "1.2.0",
            "_model_name": "LayoutModel",
            "_view_count": null,
            "_view_module": "@jupyter-widgets/base",
            "_view_module_version": "1.2.0",
            "_view_name": "LayoutView",
            "align_content": null,
            "align_items": null,
            "align_self": null,
            "border": null,
            "bottom": null,
            "display": null,
            "flex": null,
            "flex_flow": null,
            "grid_area": null,
            "grid_auto_columns": null,
            "grid_auto_flow": null,
            "grid_auto_rows": null,
            "grid_column": null,
            "grid_gap": null,
            "grid_row": null,
            "grid_template_areas": null,
            "grid_template_columns": null,
            "grid_template_rows": null,
            "height": null,
            "justify_content": null,
            "justify_items": null,
            "left": null,
            "margin": null,
            "max_height": null,
            "max_width": null,
            "min_height": null,
            "min_width": null,
            "object_fit": null,
            "object_position": null,
            "order": null,
            "overflow": null,
            "overflow_x": null,
            "overflow_y": null,
            "padding": null,
            "right": null,
            "top": null,
            "visibility": null,
            "width": null
          }
        },
        "ec7bab493f0b478bbddb4753e582b54f": {
          "model_module": "@jupyter-widgets/controls",
          "model_name": "ProgressStyleModel",
          "model_module_version": "1.5.0",
          "state": {
            "_model_module": "@jupyter-widgets/controls",
            "_model_module_version": "1.5.0",
            "_model_name": "ProgressStyleModel",
            "_view_count": null,
            "_view_module": "@jupyter-widgets/base",
            "_view_module_version": "1.2.0",
            "_view_name": "StyleView",
            "bar_color": null,
            "description_width": ""
          }
        },
        "320d3bdb558b455d86bcdd4d39eabc83": {
          "model_module": "@jupyter-widgets/base",
          "model_name": "LayoutModel",
          "model_module_version": "1.2.0",
          "state": {
            "_model_module": "@jupyter-widgets/base",
            "_model_module_version": "1.2.0",
            "_model_name": "LayoutModel",
            "_view_count": null,
            "_view_module": "@jupyter-widgets/base",
            "_view_module_version": "1.2.0",
            "_view_name": "LayoutView",
            "align_content": null,
            "align_items": null,
            "align_self": null,
            "border": null,
            "bottom": null,
            "display": null,
            "flex": null,
            "flex_flow": null,
            "grid_area": null,
            "grid_auto_columns": null,
            "grid_auto_flow": null,
            "grid_auto_rows": null,
            "grid_column": null,
            "grid_gap": null,
            "grid_row": null,
            "grid_template_areas": null,
            "grid_template_columns": null,
            "grid_template_rows": null,
            "height": null,
            "justify_content": null,
            "justify_items": null,
            "left": null,
            "margin": null,
            "max_height": null,
            "max_width": null,
            "min_height": null,
            "min_width": null,
            "object_fit": null,
            "object_position": null,
            "order": null,
            "overflow": null,
            "overflow_x": null,
            "overflow_y": null,
            "padding": null,
            "right": null,
            "top": null,
            "visibility": null,
            "width": null
          }
        },
        "f51c697c2cae47b3b04c408087bec9df": {
          "model_module": "@jupyter-widgets/controls",
          "model_name": "DescriptionStyleModel",
          "model_module_version": "1.5.0",
          "state": {
            "_model_module": "@jupyter-widgets/controls",
            "_model_module_version": "1.5.0",
            "_model_name": "DescriptionStyleModel",
            "_view_count": null,
            "_view_module": "@jupyter-widgets/base",
            "_view_module_version": "1.2.0",
            "_view_name": "StyleView",
            "description_width": ""
          }
        },
        "07cccd9b3ac044fa9b8e76d654c9932a": {
          "model_module": "@jupyter-widgets/controls",
          "model_name": "HBoxModel",
          "model_module_version": "1.5.0",
          "state": {
            "_dom_classes": [],
            "_model_module": "@jupyter-widgets/controls",
            "_model_module_version": "1.5.0",
            "_model_name": "HBoxModel",
            "_view_count": null,
            "_view_module": "@jupyter-widgets/controls",
            "_view_module_version": "1.5.0",
            "_view_name": "HBoxView",
            "box_style": "",
            "children": [
              "IPY_MODEL_eac945d801de4d23964aa5a4a3023c7e",
              "IPY_MODEL_ef042d52660c4a60902ba6bcfb6276dd",
              "IPY_MODEL_6563b5de58ce4648a9aa49812b27a78d"
            ],
            "layout": "IPY_MODEL_136a42f0448c4319999cbe4f5a432f9a"
          }
        },
        "eac945d801de4d23964aa5a4a3023c7e": {
          "model_module": "@jupyter-widgets/controls",
          "model_name": "HTMLModel",
          "model_module_version": "1.5.0",
          "state": {
            "_dom_classes": [],
            "_model_module": "@jupyter-widgets/controls",
            "_model_module_version": "1.5.0",
            "_model_name": "HTMLModel",
            "_view_count": null,
            "_view_module": "@jupyter-widgets/controls",
            "_view_module_version": "1.5.0",
            "_view_name": "HTMLView",
            "description": "",
            "description_tooltip": null,
            "layout": "IPY_MODEL_c68873c406ec4defada1c6a27c3f339e",
            "placeholder": "​",
            "style": "IPY_MODEL_8997d3c8f5e64f7c98dfe1a623a83233",
            "value": "Downloading (…)cial_tokens_map.json: 100%"
          }
        },
        "ef042d52660c4a60902ba6bcfb6276dd": {
          "model_module": "@jupyter-widgets/controls",
          "model_name": "FloatProgressModel",
          "model_module_version": "1.5.0",
          "state": {
            "_dom_classes": [],
            "_model_module": "@jupyter-widgets/controls",
            "_model_module_version": "1.5.0",
            "_model_name": "FloatProgressModel",
            "_view_count": null,
            "_view_module": "@jupyter-widgets/controls",
            "_view_module_version": "1.5.0",
            "_view_name": "ProgressView",
            "bar_style": "success",
            "description": "",
            "description_tooltip": null,
            "layout": "IPY_MODEL_ba681c1ea984496dbfce936de4c7b9db",
            "max": 112,
            "min": 0,
            "orientation": "horizontal",
            "style": "IPY_MODEL_def90fd8c64a4c4e85d73dfb6f8e6e05",
            "value": 112
          }
        },
        "6563b5de58ce4648a9aa49812b27a78d": {
          "model_module": "@jupyter-widgets/controls",
          "model_name": "HTMLModel",
          "model_module_version": "1.5.0",
          "state": {
            "_dom_classes": [],
            "_model_module": "@jupyter-widgets/controls",
            "_model_module_version": "1.5.0",
            "_model_name": "HTMLModel",
            "_view_count": null,
            "_view_module": "@jupyter-widgets/controls",
            "_view_module_version": "1.5.0",
            "_view_name": "HTMLView",
            "description": "",
            "description_tooltip": null,
            "layout": "IPY_MODEL_9afc4327b32042db8e2431fd04ba8dad",
            "placeholder": "​",
            "style": "IPY_MODEL_99544c89c9b8403fb94449ccfa6e3fdd",
            "value": " 112/112 [00:00&lt;00:00, 7.38kB/s]"
          }
        },
        "136a42f0448c4319999cbe4f5a432f9a": {
          "model_module": "@jupyter-widgets/base",
          "model_name": "LayoutModel",
          "model_module_version": "1.2.0",
          "state": {
            "_model_module": "@jupyter-widgets/base",
            "_model_module_version": "1.2.0",
            "_model_name": "LayoutModel",
            "_view_count": null,
            "_view_module": "@jupyter-widgets/base",
            "_view_module_version": "1.2.0",
            "_view_name": "LayoutView",
            "align_content": null,
            "align_items": null,
            "align_self": null,
            "border": null,
            "bottom": null,
            "display": null,
            "flex": null,
            "flex_flow": null,
            "grid_area": null,
            "grid_auto_columns": null,
            "grid_auto_flow": null,
            "grid_auto_rows": null,
            "grid_column": null,
            "grid_gap": null,
            "grid_row": null,
            "grid_template_areas": null,
            "grid_template_columns": null,
            "grid_template_rows": null,
            "height": null,
            "justify_content": null,
            "justify_items": null,
            "left": null,
            "margin": null,
            "max_height": null,
            "max_width": null,
            "min_height": null,
            "min_width": null,
            "object_fit": null,
            "object_position": null,
            "order": null,
            "overflow": null,
            "overflow_x": null,
            "overflow_y": null,
            "padding": null,
            "right": null,
            "top": null,
            "visibility": null,
            "width": null
          }
        },
        "c68873c406ec4defada1c6a27c3f339e": {
          "model_module": "@jupyter-widgets/base",
          "model_name": "LayoutModel",
          "model_module_version": "1.2.0",
          "state": {
            "_model_module": "@jupyter-widgets/base",
            "_model_module_version": "1.2.0",
            "_model_name": "LayoutModel",
            "_view_count": null,
            "_view_module": "@jupyter-widgets/base",
            "_view_module_version": "1.2.0",
            "_view_name": "LayoutView",
            "align_content": null,
            "align_items": null,
            "align_self": null,
            "border": null,
            "bottom": null,
            "display": null,
            "flex": null,
            "flex_flow": null,
            "grid_area": null,
            "grid_auto_columns": null,
            "grid_auto_flow": null,
            "grid_auto_rows": null,
            "grid_column": null,
            "grid_gap": null,
            "grid_row": null,
            "grid_template_areas": null,
            "grid_template_columns": null,
            "grid_template_rows": null,
            "height": null,
            "justify_content": null,
            "justify_items": null,
            "left": null,
            "margin": null,
            "max_height": null,
            "max_width": null,
            "min_height": null,
            "min_width": null,
            "object_fit": null,
            "object_position": null,
            "order": null,
            "overflow": null,
            "overflow_x": null,
            "overflow_y": null,
            "padding": null,
            "right": null,
            "top": null,
            "visibility": null,
            "width": null
          }
        },
        "8997d3c8f5e64f7c98dfe1a623a83233": {
          "model_module": "@jupyter-widgets/controls",
          "model_name": "DescriptionStyleModel",
          "model_module_version": "1.5.0",
          "state": {
            "_model_module": "@jupyter-widgets/controls",
            "_model_module_version": "1.5.0",
            "_model_name": "DescriptionStyleModel",
            "_view_count": null,
            "_view_module": "@jupyter-widgets/base",
            "_view_module_version": "1.2.0",
            "_view_name": "StyleView",
            "description_width": ""
          }
        },
        "ba681c1ea984496dbfce936de4c7b9db": {
          "model_module": "@jupyter-widgets/base",
          "model_name": "LayoutModel",
          "model_module_version": "1.2.0",
          "state": {
            "_model_module": "@jupyter-widgets/base",
            "_model_module_version": "1.2.0",
            "_model_name": "LayoutModel",
            "_view_count": null,
            "_view_module": "@jupyter-widgets/base",
            "_view_module_version": "1.2.0",
            "_view_name": "LayoutView",
            "align_content": null,
            "align_items": null,
            "align_self": null,
            "border": null,
            "bottom": null,
            "display": null,
            "flex": null,
            "flex_flow": null,
            "grid_area": null,
            "grid_auto_columns": null,
            "grid_auto_flow": null,
            "grid_auto_rows": null,
            "grid_column": null,
            "grid_gap": null,
            "grid_row": null,
            "grid_template_areas": null,
            "grid_template_columns": null,
            "grid_template_rows": null,
            "height": null,
            "justify_content": null,
            "justify_items": null,
            "left": null,
            "margin": null,
            "max_height": null,
            "max_width": null,
            "min_height": null,
            "min_width": null,
            "object_fit": null,
            "object_position": null,
            "order": null,
            "overflow": null,
            "overflow_x": null,
            "overflow_y": null,
            "padding": null,
            "right": null,
            "top": null,
            "visibility": null,
            "width": null
          }
        },
        "def90fd8c64a4c4e85d73dfb6f8e6e05": {
          "model_module": "@jupyter-widgets/controls",
          "model_name": "ProgressStyleModel",
          "model_module_version": "1.5.0",
          "state": {
            "_model_module": "@jupyter-widgets/controls",
            "_model_module_version": "1.5.0",
            "_model_name": "ProgressStyleModel",
            "_view_count": null,
            "_view_module": "@jupyter-widgets/base",
            "_view_module_version": "1.2.0",
            "_view_name": "StyleView",
            "bar_color": null,
            "description_width": ""
          }
        },
        "9afc4327b32042db8e2431fd04ba8dad": {
          "model_module": "@jupyter-widgets/base",
          "model_name": "LayoutModel",
          "model_module_version": "1.2.0",
          "state": {
            "_model_module": "@jupyter-widgets/base",
            "_model_module_version": "1.2.0",
            "_model_name": "LayoutModel",
            "_view_count": null,
            "_view_module": "@jupyter-widgets/base",
            "_view_module_version": "1.2.0",
            "_view_name": "LayoutView",
            "align_content": null,
            "align_items": null,
            "align_self": null,
            "border": null,
            "bottom": null,
            "display": null,
            "flex": null,
            "flex_flow": null,
            "grid_area": null,
            "grid_auto_columns": null,
            "grid_auto_flow": null,
            "grid_auto_rows": null,
            "grid_column": null,
            "grid_gap": null,
            "grid_row": null,
            "grid_template_areas": null,
            "grid_template_columns": null,
            "grid_template_rows": null,
            "height": null,
            "justify_content": null,
            "justify_items": null,
            "left": null,
            "margin": null,
            "max_height": null,
            "max_width": null,
            "min_height": null,
            "min_width": null,
            "object_fit": null,
            "object_position": null,
            "order": null,
            "overflow": null,
            "overflow_x": null,
            "overflow_y": null,
            "padding": null,
            "right": null,
            "top": null,
            "visibility": null,
            "width": null
          }
        },
        "99544c89c9b8403fb94449ccfa6e3fdd": {
          "model_module": "@jupyter-widgets/controls",
          "model_name": "DescriptionStyleModel",
          "model_module_version": "1.5.0",
          "state": {
            "_model_module": "@jupyter-widgets/controls",
            "_model_module_version": "1.5.0",
            "_model_name": "DescriptionStyleModel",
            "_view_count": null,
            "_view_module": "@jupyter-widgets/base",
            "_view_module_version": "1.2.0",
            "_view_name": "StyleView",
            "description_width": ""
          }
        },
        "95ae44d35c934a8c9126b89a157982b1": {
          "model_module": "@jupyter-widgets/controls",
          "model_name": "HBoxModel",
          "model_module_version": "1.5.0",
          "state": {
            "_dom_classes": [],
            "_model_module": "@jupyter-widgets/controls",
            "_model_module_version": "1.5.0",
            "_model_name": "HBoxModel",
            "_view_count": null,
            "_view_module": "@jupyter-widgets/controls",
            "_view_module_version": "1.5.0",
            "_view_name": "HBoxView",
            "box_style": "",
            "children": [
              "IPY_MODEL_be5fb6508e2748a18b109b34dcac612c",
              "IPY_MODEL_e93299e9834c465bb7c2756895ba0614",
              "IPY_MODEL_1ad35d63b8d6436b9f71d06dd04a7f0d"
            ],
            "layout": "IPY_MODEL_740daef8cb9947f09c6e11ac9359f584"
          }
        },
        "be5fb6508e2748a18b109b34dcac612c": {
          "model_module": "@jupyter-widgets/controls",
          "model_name": "HTMLModel",
          "model_module_version": "1.5.0",
          "state": {
            "_dom_classes": [],
            "_model_module": "@jupyter-widgets/controls",
            "_model_module_version": "1.5.0",
            "_model_name": "HTMLModel",
            "_view_count": null,
            "_view_module": "@jupyter-widgets/controls",
            "_view_module_version": "1.5.0",
            "_view_name": "HTMLView",
            "description": "",
            "description_tooltip": null,
            "layout": "IPY_MODEL_b4994aa3766e4851af3c2ca20d8fcd55",
            "placeholder": "​",
            "style": "IPY_MODEL_803735c4a6d743cf9b8f8d951fdb03f5",
            "value": "Downloading pytorch_model.bin: 100%"
          }
        },
        "e93299e9834c465bb7c2756895ba0614": {
          "model_module": "@jupyter-widgets/controls",
          "model_name": "FloatProgressModel",
          "model_module_version": "1.5.0",
          "state": {
            "_dom_classes": [],
            "_model_module": "@jupyter-widgets/controls",
            "_model_module_version": "1.5.0",
            "_model_name": "FloatProgressModel",
            "_view_count": null,
            "_view_module": "@jupyter-widgets/controls",
            "_view_module_version": "1.5.0",
            "_view_name": "ProgressView",
            "bar_style": "success",
            "description": "",
            "description_tooltip": null,
            "layout": "IPY_MODEL_7bd011b4fc9d428d82b4f4f92533083a",
            "max": 711456784,
            "min": 0,
            "orientation": "horizontal",
            "style": "IPY_MODEL_89a83b3b3a654956955ebc59fd768532",
            "value": 711456784
          }
        },
        "1ad35d63b8d6436b9f71d06dd04a7f0d": {
          "model_module": "@jupyter-widgets/controls",
          "model_name": "HTMLModel",
          "model_module_version": "1.5.0",
          "state": {
            "_dom_classes": [],
            "_model_module": "@jupyter-widgets/controls",
            "_model_module_version": "1.5.0",
            "_model_name": "HTMLModel",
            "_view_count": null,
            "_view_module": "@jupyter-widgets/controls",
            "_view_module_version": "1.5.0",
            "_view_name": "HTMLView",
            "description": "",
            "description_tooltip": null,
            "layout": "IPY_MODEL_a600e5f91de7405aa51554b32aa03af5",
            "placeholder": "​",
            "style": "IPY_MODEL_83ce1b536f8944ad9cb5719f366da74d",
            "value": " 711M/711M [00:27&lt;00:00, 20.4MB/s]"
          }
        },
        "740daef8cb9947f09c6e11ac9359f584": {
          "model_module": "@jupyter-widgets/base",
          "model_name": "LayoutModel",
          "model_module_version": "1.2.0",
          "state": {
            "_model_module": "@jupyter-widgets/base",
            "_model_module_version": "1.2.0",
            "_model_name": "LayoutModel",
            "_view_count": null,
            "_view_module": "@jupyter-widgets/base",
            "_view_module_version": "1.2.0",
            "_view_name": "LayoutView",
            "align_content": null,
            "align_items": null,
            "align_self": null,
            "border": null,
            "bottom": null,
            "display": null,
            "flex": null,
            "flex_flow": null,
            "grid_area": null,
            "grid_auto_columns": null,
            "grid_auto_flow": null,
            "grid_auto_rows": null,
            "grid_column": null,
            "grid_gap": null,
            "grid_row": null,
            "grid_template_areas": null,
            "grid_template_columns": null,
            "grid_template_rows": null,
            "height": null,
            "justify_content": null,
            "justify_items": null,
            "left": null,
            "margin": null,
            "max_height": null,
            "max_width": null,
            "min_height": null,
            "min_width": null,
            "object_fit": null,
            "object_position": null,
            "order": null,
            "overflow": null,
            "overflow_x": null,
            "overflow_y": null,
            "padding": null,
            "right": null,
            "top": null,
            "visibility": null,
            "width": null
          }
        },
        "b4994aa3766e4851af3c2ca20d8fcd55": {
          "model_module": "@jupyter-widgets/base",
          "model_name": "LayoutModel",
          "model_module_version": "1.2.0",
          "state": {
            "_model_module": "@jupyter-widgets/base",
            "_model_module_version": "1.2.0",
            "_model_name": "LayoutModel",
            "_view_count": null,
            "_view_module": "@jupyter-widgets/base",
            "_view_module_version": "1.2.0",
            "_view_name": "LayoutView",
            "align_content": null,
            "align_items": null,
            "align_self": null,
            "border": null,
            "bottom": null,
            "display": null,
            "flex": null,
            "flex_flow": null,
            "grid_area": null,
            "grid_auto_columns": null,
            "grid_auto_flow": null,
            "grid_auto_rows": null,
            "grid_column": null,
            "grid_gap": null,
            "grid_row": null,
            "grid_template_areas": null,
            "grid_template_columns": null,
            "grid_template_rows": null,
            "height": null,
            "justify_content": null,
            "justify_items": null,
            "left": null,
            "margin": null,
            "max_height": null,
            "max_width": null,
            "min_height": null,
            "min_width": null,
            "object_fit": null,
            "object_position": null,
            "order": null,
            "overflow": null,
            "overflow_x": null,
            "overflow_y": null,
            "padding": null,
            "right": null,
            "top": null,
            "visibility": null,
            "width": null
          }
        },
        "803735c4a6d743cf9b8f8d951fdb03f5": {
          "model_module": "@jupyter-widgets/controls",
          "model_name": "DescriptionStyleModel",
          "model_module_version": "1.5.0",
          "state": {
            "_model_module": "@jupyter-widgets/controls",
            "_model_module_version": "1.5.0",
            "_model_name": "DescriptionStyleModel",
            "_view_count": null,
            "_view_module": "@jupyter-widgets/base",
            "_view_module_version": "1.2.0",
            "_view_name": "StyleView",
            "description_width": ""
          }
        },
        "7bd011b4fc9d428d82b4f4f92533083a": {
          "model_module": "@jupyter-widgets/base",
          "model_name": "LayoutModel",
          "model_module_version": "1.2.0",
          "state": {
            "_model_module": "@jupyter-widgets/base",
            "_model_module_version": "1.2.0",
            "_model_name": "LayoutModel",
            "_view_count": null,
            "_view_module": "@jupyter-widgets/base",
            "_view_module_version": "1.2.0",
            "_view_name": "LayoutView",
            "align_content": null,
            "align_items": null,
            "align_self": null,
            "border": null,
            "bottom": null,
            "display": null,
            "flex": null,
            "flex_flow": null,
            "grid_area": null,
            "grid_auto_columns": null,
            "grid_auto_flow": null,
            "grid_auto_rows": null,
            "grid_column": null,
            "grid_gap": null,
            "grid_row": null,
            "grid_template_areas": null,
            "grid_template_columns": null,
            "grid_template_rows": null,
            "height": null,
            "justify_content": null,
            "justify_items": null,
            "left": null,
            "margin": null,
            "max_height": null,
            "max_width": null,
            "min_height": null,
            "min_width": null,
            "object_fit": null,
            "object_position": null,
            "order": null,
            "overflow": null,
            "overflow_x": null,
            "overflow_y": null,
            "padding": null,
            "right": null,
            "top": null,
            "visibility": null,
            "width": null
          }
        },
        "89a83b3b3a654956955ebc59fd768532": {
          "model_module": "@jupyter-widgets/controls",
          "model_name": "ProgressStyleModel",
          "model_module_version": "1.5.0",
          "state": {
            "_model_module": "@jupyter-widgets/controls",
            "_model_module_version": "1.5.0",
            "_model_name": "ProgressStyleModel",
            "_view_count": null,
            "_view_module": "@jupyter-widgets/base",
            "_view_module_version": "1.2.0",
            "_view_name": "StyleView",
            "bar_color": null,
            "description_width": ""
          }
        },
        "a600e5f91de7405aa51554b32aa03af5": {
          "model_module": "@jupyter-widgets/base",
          "model_name": "LayoutModel",
          "model_module_version": "1.2.0",
          "state": {
            "_model_module": "@jupyter-widgets/base",
            "_model_module_version": "1.2.0",
            "_model_name": "LayoutModel",
            "_view_count": null,
            "_view_module": "@jupyter-widgets/base",
            "_view_module_version": "1.2.0",
            "_view_name": "LayoutView",
            "align_content": null,
            "align_items": null,
            "align_self": null,
            "border": null,
            "bottom": null,
            "display": null,
            "flex": null,
            "flex_flow": null,
            "grid_area": null,
            "grid_auto_columns": null,
            "grid_auto_flow": null,
            "grid_auto_rows": null,
            "grid_column": null,
            "grid_gap": null,
            "grid_row": null,
            "grid_template_areas": null,
            "grid_template_columns": null,
            "grid_template_rows": null,
            "height": null,
            "justify_content": null,
            "justify_items": null,
            "left": null,
            "margin": null,
            "max_height": null,
            "max_width": null,
            "min_height": null,
            "min_width": null,
            "object_fit": null,
            "object_position": null,
            "order": null,
            "overflow": null,
            "overflow_x": null,
            "overflow_y": null,
            "padding": null,
            "right": null,
            "top": null,
            "visibility": null,
            "width": null
          }
        },
        "83ce1b536f8944ad9cb5719f366da74d": {
          "model_module": "@jupyter-widgets/controls",
          "model_name": "DescriptionStyleModel",
          "model_module_version": "1.5.0",
          "state": {
            "_model_module": "@jupyter-widgets/controls",
            "_model_module_version": "1.5.0",
            "_model_name": "DescriptionStyleModel",
            "_view_count": null,
            "_view_module": "@jupyter-widgets/base",
            "_view_module_version": "1.2.0",
            "_view_name": "StyleView",
            "description_width": ""
          }
        },
        "05ae5d3d721941ec8afcdd05fc420b93": {
          "model_module": "@jupyter-widgets/controls",
          "model_name": "HBoxModel",
          "model_module_version": "1.5.0",
          "state": {
            "_dom_classes": [],
            "_model_module": "@jupyter-widgets/controls",
            "_model_module_version": "1.5.0",
            "_model_name": "HBoxModel",
            "_view_count": null,
            "_view_module": "@jupyter-widgets/controls",
            "_view_module_version": "1.5.0",
            "_view_name": "HBoxView",
            "box_style": "",
            "children": [
              "IPY_MODEL_9b22f6fdb9c2434f8223ffc64f23cc8e",
              "IPY_MODEL_e49e05e209bb4f22857dd8f82fd952c0",
              "IPY_MODEL_6f639d53fee5423dbea4cdb8ef480c7b"
            ],
            "layout": "IPY_MODEL_e896db5b59bd44e18c0481e9e3c01161"
          }
        },
        "9b22f6fdb9c2434f8223ffc64f23cc8e": {
          "model_module": "@jupyter-widgets/controls",
          "model_name": "HTMLModel",
          "model_module_version": "1.5.0",
          "state": {
            "_dom_classes": [],
            "_model_module": "@jupyter-widgets/controls",
            "_model_module_version": "1.5.0",
            "_model_name": "HTMLModel",
            "_view_count": null,
            "_view_module": "@jupyter-widgets/controls",
            "_view_module_version": "1.5.0",
            "_view_name": "HTMLView",
            "description": "",
            "description_tooltip": null,
            "layout": "IPY_MODEL_46796707de594ef297ab4ab3cb38b9ed",
            "placeholder": "​",
            "style": "IPY_MODEL_892eca9aa090424083c61d45d1eb48f7",
            "value": "Downloading (…)okenizer_config.json: 100%"
          }
        },
        "e49e05e209bb4f22857dd8f82fd952c0": {
          "model_module": "@jupyter-widgets/controls",
          "model_name": "FloatProgressModel",
          "model_module_version": "1.5.0",
          "state": {
            "_dom_classes": [],
            "_model_module": "@jupyter-widgets/controls",
            "_model_module_version": "1.5.0",
            "_model_name": "FloatProgressModel",
            "_view_count": null,
            "_view_module": "@jupyter-widgets/controls",
            "_view_module_version": "1.5.0",
            "_view_name": "ProgressView",
            "bar_style": "success",
            "description": "",
            "description_tooltip": null,
            "layout": "IPY_MODEL_4559c81ffb5f4b6e94116b2900968990",
            "max": 24,
            "min": 0,
            "orientation": "horizontal",
            "style": "IPY_MODEL_52149857ad1f4c6b936956620d2b169d",
            "value": 24
          }
        },
        "6f639d53fee5423dbea4cdb8ef480c7b": {
          "model_module": "@jupyter-widgets/controls",
          "model_name": "HTMLModel",
          "model_module_version": "1.5.0",
          "state": {
            "_dom_classes": [],
            "_model_module": "@jupyter-widgets/controls",
            "_model_module_version": "1.5.0",
            "_model_name": "HTMLModel",
            "_view_count": null,
            "_view_module": "@jupyter-widgets/controls",
            "_view_module_version": "1.5.0",
            "_view_name": "HTMLView",
            "description": "",
            "description_tooltip": null,
            "layout": "IPY_MODEL_e44b59d75ddc48a4adf9325b28c6740f",
            "placeholder": "​",
            "style": "IPY_MODEL_dad32aca732b475db1423794adbfb998",
            "value": " 24.0/24.0 [00:00&lt;00:00, 1.17kB/s]"
          }
        },
        "e896db5b59bd44e18c0481e9e3c01161": {
          "model_module": "@jupyter-widgets/base",
          "model_name": "LayoutModel",
          "model_module_version": "1.2.0",
          "state": {
            "_model_module": "@jupyter-widgets/base",
            "_model_module_version": "1.2.0",
            "_model_name": "LayoutModel",
            "_view_count": null,
            "_view_module": "@jupyter-widgets/base",
            "_view_module_version": "1.2.0",
            "_view_name": "LayoutView",
            "align_content": null,
            "align_items": null,
            "align_self": null,
            "border": null,
            "bottom": null,
            "display": null,
            "flex": null,
            "flex_flow": null,
            "grid_area": null,
            "grid_auto_columns": null,
            "grid_auto_flow": null,
            "grid_auto_rows": null,
            "grid_column": null,
            "grid_gap": null,
            "grid_row": null,
            "grid_template_areas": null,
            "grid_template_columns": null,
            "grid_template_rows": null,
            "height": null,
            "justify_content": null,
            "justify_items": null,
            "left": null,
            "margin": null,
            "max_height": null,
            "max_width": null,
            "min_height": null,
            "min_width": null,
            "object_fit": null,
            "object_position": null,
            "order": null,
            "overflow": null,
            "overflow_x": null,
            "overflow_y": null,
            "padding": null,
            "right": null,
            "top": null,
            "visibility": null,
            "width": null
          }
        },
        "46796707de594ef297ab4ab3cb38b9ed": {
          "model_module": "@jupyter-widgets/base",
          "model_name": "LayoutModel",
          "model_module_version": "1.2.0",
          "state": {
            "_model_module": "@jupyter-widgets/base",
            "_model_module_version": "1.2.0",
            "_model_name": "LayoutModel",
            "_view_count": null,
            "_view_module": "@jupyter-widgets/base",
            "_view_module_version": "1.2.0",
            "_view_name": "LayoutView",
            "align_content": null,
            "align_items": null,
            "align_self": null,
            "border": null,
            "bottom": null,
            "display": null,
            "flex": null,
            "flex_flow": null,
            "grid_area": null,
            "grid_auto_columns": null,
            "grid_auto_flow": null,
            "grid_auto_rows": null,
            "grid_column": null,
            "grid_gap": null,
            "grid_row": null,
            "grid_template_areas": null,
            "grid_template_columns": null,
            "grid_template_rows": null,
            "height": null,
            "justify_content": null,
            "justify_items": null,
            "left": null,
            "margin": null,
            "max_height": null,
            "max_width": null,
            "min_height": null,
            "min_width": null,
            "object_fit": null,
            "object_position": null,
            "order": null,
            "overflow": null,
            "overflow_x": null,
            "overflow_y": null,
            "padding": null,
            "right": null,
            "top": null,
            "visibility": null,
            "width": null
          }
        },
        "892eca9aa090424083c61d45d1eb48f7": {
          "model_module": "@jupyter-widgets/controls",
          "model_name": "DescriptionStyleModel",
          "model_module_version": "1.5.0",
          "state": {
            "_model_module": "@jupyter-widgets/controls",
            "_model_module_version": "1.5.0",
            "_model_name": "DescriptionStyleModel",
            "_view_count": null,
            "_view_module": "@jupyter-widgets/base",
            "_view_module_version": "1.2.0",
            "_view_name": "StyleView",
            "description_width": ""
          }
        },
        "4559c81ffb5f4b6e94116b2900968990": {
          "model_module": "@jupyter-widgets/base",
          "model_name": "LayoutModel",
          "model_module_version": "1.2.0",
          "state": {
            "_model_module": "@jupyter-widgets/base",
            "_model_module_version": "1.2.0",
            "_model_name": "LayoutModel",
            "_view_count": null,
            "_view_module": "@jupyter-widgets/base",
            "_view_module_version": "1.2.0",
            "_view_name": "LayoutView",
            "align_content": null,
            "align_items": null,
            "align_self": null,
            "border": null,
            "bottom": null,
            "display": null,
            "flex": null,
            "flex_flow": null,
            "grid_area": null,
            "grid_auto_columns": null,
            "grid_auto_flow": null,
            "grid_auto_rows": null,
            "grid_column": null,
            "grid_gap": null,
            "grid_row": null,
            "grid_template_areas": null,
            "grid_template_columns": null,
            "grid_template_rows": null,
            "height": null,
            "justify_content": null,
            "justify_items": null,
            "left": null,
            "margin": null,
            "max_height": null,
            "max_width": null,
            "min_height": null,
            "min_width": null,
            "object_fit": null,
            "object_position": null,
            "order": null,
            "overflow": null,
            "overflow_x": null,
            "overflow_y": null,
            "padding": null,
            "right": null,
            "top": null,
            "visibility": null,
            "width": null
          }
        },
        "52149857ad1f4c6b936956620d2b169d": {
          "model_module": "@jupyter-widgets/controls",
          "model_name": "ProgressStyleModel",
          "model_module_version": "1.5.0",
          "state": {
            "_model_module": "@jupyter-widgets/controls",
            "_model_module_version": "1.5.0",
            "_model_name": "ProgressStyleModel",
            "_view_count": null,
            "_view_module": "@jupyter-widgets/base",
            "_view_module_version": "1.2.0",
            "_view_name": "StyleView",
            "bar_color": null,
            "description_width": ""
          }
        },
        "e44b59d75ddc48a4adf9325b28c6740f": {
          "model_module": "@jupyter-widgets/base",
          "model_name": "LayoutModel",
          "model_module_version": "1.2.0",
          "state": {
            "_model_module": "@jupyter-widgets/base",
            "_model_module_version": "1.2.0",
            "_model_name": "LayoutModel",
            "_view_count": null,
            "_view_module": "@jupyter-widgets/base",
            "_view_module_version": "1.2.0",
            "_view_name": "LayoutView",
            "align_content": null,
            "align_items": null,
            "align_self": null,
            "border": null,
            "bottom": null,
            "display": null,
            "flex": null,
            "flex_flow": null,
            "grid_area": null,
            "grid_auto_columns": null,
            "grid_auto_flow": null,
            "grid_auto_rows": null,
            "grid_column": null,
            "grid_gap": null,
            "grid_row": null,
            "grid_template_areas": null,
            "grid_template_columns": null,
            "grid_template_rows": null,
            "height": null,
            "justify_content": null,
            "justify_items": null,
            "left": null,
            "margin": null,
            "max_height": null,
            "max_width": null,
            "min_height": null,
            "min_width": null,
            "object_fit": null,
            "object_position": null,
            "order": null,
            "overflow": null,
            "overflow_x": null,
            "overflow_y": null,
            "padding": null,
            "right": null,
            "top": null,
            "visibility": null,
            "width": null
          }
        },
        "dad32aca732b475db1423794adbfb998": {
          "model_module": "@jupyter-widgets/controls",
          "model_name": "DescriptionStyleModel",
          "model_module_version": "1.5.0",
          "state": {
            "_model_module": "@jupyter-widgets/controls",
            "_model_module_version": "1.5.0",
            "_model_name": "DescriptionStyleModel",
            "_view_count": null,
            "_view_module": "@jupyter-widgets/base",
            "_view_module_version": "1.2.0",
            "_view_name": "StyleView",
            "description_width": ""
          }
        },
        "7cdc3f78527b450fb1524c9089439a94": {
          "model_module": "@jupyter-widgets/controls",
          "model_name": "HBoxModel",
          "model_module_version": "1.5.0",
          "state": {
            "_dom_classes": [],
            "_model_module": "@jupyter-widgets/controls",
            "_model_module_version": "1.5.0",
            "_model_name": "HBoxModel",
            "_view_count": null,
            "_view_module": "@jupyter-widgets/controls",
            "_view_module_version": "1.5.0",
            "_view_name": "HBoxView",
            "box_style": "",
            "children": [
              "IPY_MODEL_2230a094660449539a58defc6602c34b",
              "IPY_MODEL_05a91f8997564aa6a55698dea20cbb22",
              "IPY_MODEL_16d542f343614241830e37a1198e8dfe"
            ],
            "layout": "IPY_MODEL_0f1e3066491b475bb53e5ac6a467ec4a"
          }
        },
        "2230a094660449539a58defc6602c34b": {
          "model_module": "@jupyter-widgets/controls",
          "model_name": "HTMLModel",
          "model_module_version": "1.5.0",
          "state": {
            "_dom_classes": [],
            "_model_module": "@jupyter-widgets/controls",
            "_model_module_version": "1.5.0",
            "_model_name": "HTMLModel",
            "_view_count": null,
            "_view_module": "@jupyter-widgets/controls",
            "_view_module_version": "1.5.0",
            "_view_name": "HTMLView",
            "description": "",
            "description_tooltip": null,
            "layout": "IPY_MODEL_50aa12a70c3a467ea7bd42994f64a305",
            "placeholder": "​",
            "style": "IPY_MODEL_a55edd13fed04a4bb0917ac84e81af7a",
            "value": "Downloading (…)lve/main/config.json: 100%"
          }
        },
        "05a91f8997564aa6a55698dea20cbb22": {
          "model_module": "@jupyter-widgets/controls",
          "model_name": "FloatProgressModel",
          "model_module_version": "1.5.0",
          "state": {
            "_dom_classes": [],
            "_model_module": "@jupyter-widgets/controls",
            "_model_module_version": "1.5.0",
            "_model_name": "FloatProgressModel",
            "_view_count": null,
            "_view_module": "@jupyter-widgets/controls",
            "_view_module_version": "1.5.0",
            "_view_name": "ProgressView",
            "bar_style": "success",
            "description": "",
            "description_tooltip": null,
            "layout": "IPY_MODEL_5fe3ca82941e4297ae930e7d1cfd8025",
            "max": 642,
            "min": 0,
            "orientation": "horizontal",
            "style": "IPY_MODEL_4c6085d2c2374e52a2fb989273928e4c",
            "value": 642
          }
        },
        "16d542f343614241830e37a1198e8dfe": {
          "model_module": "@jupyter-widgets/controls",
          "model_name": "HTMLModel",
          "model_module_version": "1.5.0",
          "state": {
            "_dom_classes": [],
            "_model_module": "@jupyter-widgets/controls",
            "_model_module_version": "1.5.0",
            "_model_name": "HTMLModel",
            "_view_count": null,
            "_view_module": "@jupyter-widgets/controls",
            "_view_module_version": "1.5.0",
            "_view_name": "HTMLView",
            "description": "",
            "description_tooltip": null,
            "layout": "IPY_MODEL_6999f07d28094cf184b6541fdfef6d49",
            "placeholder": "​",
            "style": "IPY_MODEL_a5e960a32d8f4948a087e3a57e3083a1",
            "value": " 642/642 [00:00&lt;00:00, 30.9kB/s]"
          }
        },
        "0f1e3066491b475bb53e5ac6a467ec4a": {
          "model_module": "@jupyter-widgets/base",
          "model_name": "LayoutModel",
          "model_module_version": "1.2.0",
          "state": {
            "_model_module": "@jupyter-widgets/base",
            "_model_module_version": "1.2.0",
            "_model_name": "LayoutModel",
            "_view_count": null,
            "_view_module": "@jupyter-widgets/base",
            "_view_module_version": "1.2.0",
            "_view_name": "LayoutView",
            "align_content": null,
            "align_items": null,
            "align_self": null,
            "border": null,
            "bottom": null,
            "display": null,
            "flex": null,
            "flex_flow": null,
            "grid_area": null,
            "grid_auto_columns": null,
            "grid_auto_flow": null,
            "grid_auto_rows": null,
            "grid_column": null,
            "grid_gap": null,
            "grid_row": null,
            "grid_template_areas": null,
            "grid_template_columns": null,
            "grid_template_rows": null,
            "height": null,
            "justify_content": null,
            "justify_items": null,
            "left": null,
            "margin": null,
            "max_height": null,
            "max_width": null,
            "min_height": null,
            "min_width": null,
            "object_fit": null,
            "object_position": null,
            "order": null,
            "overflow": null,
            "overflow_x": null,
            "overflow_y": null,
            "padding": null,
            "right": null,
            "top": null,
            "visibility": null,
            "width": null
          }
        },
        "50aa12a70c3a467ea7bd42994f64a305": {
          "model_module": "@jupyter-widgets/base",
          "model_name": "LayoutModel",
          "model_module_version": "1.2.0",
          "state": {
            "_model_module": "@jupyter-widgets/base",
            "_model_module_version": "1.2.0",
            "_model_name": "LayoutModel",
            "_view_count": null,
            "_view_module": "@jupyter-widgets/base",
            "_view_module_version": "1.2.0",
            "_view_name": "LayoutView",
            "align_content": null,
            "align_items": null,
            "align_self": null,
            "border": null,
            "bottom": null,
            "display": null,
            "flex": null,
            "flex_flow": null,
            "grid_area": null,
            "grid_auto_columns": null,
            "grid_auto_flow": null,
            "grid_auto_rows": null,
            "grid_column": null,
            "grid_gap": null,
            "grid_row": null,
            "grid_template_areas": null,
            "grid_template_columns": null,
            "grid_template_rows": null,
            "height": null,
            "justify_content": null,
            "justify_items": null,
            "left": null,
            "margin": null,
            "max_height": null,
            "max_width": null,
            "min_height": null,
            "min_width": null,
            "object_fit": null,
            "object_position": null,
            "order": null,
            "overflow": null,
            "overflow_x": null,
            "overflow_y": null,
            "padding": null,
            "right": null,
            "top": null,
            "visibility": null,
            "width": null
          }
        },
        "a55edd13fed04a4bb0917ac84e81af7a": {
          "model_module": "@jupyter-widgets/controls",
          "model_name": "DescriptionStyleModel",
          "model_module_version": "1.5.0",
          "state": {
            "_model_module": "@jupyter-widgets/controls",
            "_model_module_version": "1.5.0",
            "_model_name": "DescriptionStyleModel",
            "_view_count": null,
            "_view_module": "@jupyter-widgets/base",
            "_view_module_version": "1.2.0",
            "_view_name": "StyleView",
            "description_width": ""
          }
        },
        "5fe3ca82941e4297ae930e7d1cfd8025": {
          "model_module": "@jupyter-widgets/base",
          "model_name": "LayoutModel",
          "model_module_version": "1.2.0",
          "state": {
            "_model_module": "@jupyter-widgets/base",
            "_model_module_version": "1.2.0",
            "_model_name": "LayoutModel",
            "_view_count": null,
            "_view_module": "@jupyter-widgets/base",
            "_view_module_version": "1.2.0",
            "_view_name": "LayoutView",
            "align_content": null,
            "align_items": null,
            "align_self": null,
            "border": null,
            "bottom": null,
            "display": null,
            "flex": null,
            "flex_flow": null,
            "grid_area": null,
            "grid_auto_columns": null,
            "grid_auto_flow": null,
            "grid_auto_rows": null,
            "grid_column": null,
            "grid_gap": null,
            "grid_row": null,
            "grid_template_areas": null,
            "grid_template_columns": null,
            "grid_template_rows": null,
            "height": null,
            "justify_content": null,
            "justify_items": null,
            "left": null,
            "margin": null,
            "max_height": null,
            "max_width": null,
            "min_height": null,
            "min_width": null,
            "object_fit": null,
            "object_position": null,
            "order": null,
            "overflow": null,
            "overflow_x": null,
            "overflow_y": null,
            "padding": null,
            "right": null,
            "top": null,
            "visibility": null,
            "width": null
          }
        },
        "4c6085d2c2374e52a2fb989273928e4c": {
          "model_module": "@jupyter-widgets/controls",
          "model_name": "ProgressStyleModel",
          "model_module_version": "1.5.0",
          "state": {
            "_model_module": "@jupyter-widgets/controls",
            "_model_module_version": "1.5.0",
            "_model_name": "ProgressStyleModel",
            "_view_count": null,
            "_view_module": "@jupyter-widgets/base",
            "_view_module_version": "1.2.0",
            "_view_name": "StyleView",
            "bar_color": null,
            "description_width": ""
          }
        },
        "6999f07d28094cf184b6541fdfef6d49": {
          "model_module": "@jupyter-widgets/base",
          "model_name": "LayoutModel",
          "model_module_version": "1.2.0",
          "state": {
            "_model_module": "@jupyter-widgets/base",
            "_model_module_version": "1.2.0",
            "_model_name": "LayoutModel",
            "_view_count": null,
            "_view_module": "@jupyter-widgets/base",
            "_view_module_version": "1.2.0",
            "_view_name": "LayoutView",
            "align_content": null,
            "align_items": null,
            "align_self": null,
            "border": null,
            "bottom": null,
            "display": null,
            "flex": null,
            "flex_flow": null,
            "grid_area": null,
            "grid_auto_columns": null,
            "grid_auto_flow": null,
            "grid_auto_rows": null,
            "grid_column": null,
            "grid_gap": null,
            "grid_row": null,
            "grid_template_areas": null,
            "grid_template_columns": null,
            "grid_template_rows": null,
            "height": null,
            "justify_content": null,
            "justify_items": null,
            "left": null,
            "margin": null,
            "max_height": null,
            "max_width": null,
            "min_height": null,
            "min_width": null,
            "object_fit": null,
            "object_position": null,
            "order": null,
            "overflow": null,
            "overflow_x": null,
            "overflow_y": null,
            "padding": null,
            "right": null,
            "top": null,
            "visibility": null,
            "width": null
          }
        },
        "a5e960a32d8f4948a087e3a57e3083a1": {
          "model_module": "@jupyter-widgets/controls",
          "model_name": "DescriptionStyleModel",
          "model_module_version": "1.5.0",
          "state": {
            "_model_module": "@jupyter-widgets/controls",
            "_model_module_version": "1.5.0",
            "_model_name": "DescriptionStyleModel",
            "_view_count": null,
            "_view_module": "@jupyter-widgets/base",
            "_view_module_version": "1.2.0",
            "_view_name": "StyleView",
            "description_width": ""
          }
        },
        "734300c732ad41449b1d832d1569da19": {
          "model_module": "@jupyter-widgets/controls",
          "model_name": "HBoxModel",
          "model_module_version": "1.5.0",
          "state": {
            "_dom_classes": [],
            "_model_module": "@jupyter-widgets/controls",
            "_model_module_version": "1.5.0",
            "_model_name": "HBoxModel",
            "_view_count": null,
            "_view_module": "@jupyter-widgets/controls",
            "_view_module_version": "1.5.0",
            "_view_name": "HBoxView",
            "box_style": "",
            "children": [
              "IPY_MODEL_69426a03d1794d62a2b027052369b5a9",
              "IPY_MODEL_52971293744143d89937ea2f17ee793b",
              "IPY_MODEL_a05b73aa5a734cd1b66dbbfa724e0fb1"
            ],
            "layout": "IPY_MODEL_5a6d6d1737184496b01e41c92966ff64"
          }
        },
        "69426a03d1794d62a2b027052369b5a9": {
          "model_module": "@jupyter-widgets/controls",
          "model_name": "HTMLModel",
          "model_module_version": "1.5.0",
          "state": {
            "_dom_classes": [],
            "_model_module": "@jupyter-widgets/controls",
            "_model_module_version": "1.5.0",
            "_model_name": "HTMLModel",
            "_view_count": null,
            "_view_module": "@jupyter-widgets/controls",
            "_view_module_version": "1.5.0",
            "_view_name": "HTMLView",
            "description": "",
            "description_tooltip": null,
            "layout": "IPY_MODEL_c680b201e8274fada7608f07bd007c69",
            "placeholder": "​",
            "style": "IPY_MODEL_28a7ce8ee2304742952688a263211a8e",
            "value": "Downloading (…)solve/main/vocab.txt: 100%"
          }
        },
        "52971293744143d89937ea2f17ee793b": {
          "model_module": "@jupyter-widgets/controls",
          "model_name": "FloatProgressModel",
          "model_module_version": "1.5.0",
          "state": {
            "_dom_classes": [],
            "_model_module": "@jupyter-widgets/controls",
            "_model_module_version": "1.5.0",
            "_model_name": "FloatProgressModel",
            "_view_count": null,
            "_view_module": "@jupyter-widgets/controls",
            "_view_module_version": "1.5.0",
            "_view_name": "ProgressView",
            "bar_style": "success",
            "description": "",
            "description_tooltip": null,
            "layout": "IPY_MODEL_fb592de1b97b4269a3e15d079a1a7730",
            "max": 1649718,
            "min": 0,
            "orientation": "horizontal",
            "style": "IPY_MODEL_ae12f0495be6466cad79b06521c7d486",
            "value": 1649718
          }
        },
        "a05b73aa5a734cd1b66dbbfa724e0fb1": {
          "model_module": "@jupyter-widgets/controls",
          "model_name": "HTMLModel",
          "model_module_version": "1.5.0",
          "state": {
            "_dom_classes": [],
            "_model_module": "@jupyter-widgets/controls",
            "_model_module_version": "1.5.0",
            "_model_name": "HTMLModel",
            "_view_count": null,
            "_view_module": "@jupyter-widgets/controls",
            "_view_module_version": "1.5.0",
            "_view_name": "HTMLView",
            "description": "",
            "description_tooltip": null,
            "layout": "IPY_MODEL_959c20fe4294457e8f493bcb13f2ff52",
            "placeholder": "​",
            "style": "IPY_MODEL_f400b50840614199996bff071d3075e7",
            "value": " 1.65M/1.65M [00:00&lt;00:00, 6.96MB/s]"
          }
        },
        "5a6d6d1737184496b01e41c92966ff64": {
          "model_module": "@jupyter-widgets/base",
          "model_name": "LayoutModel",
          "model_module_version": "1.2.0",
          "state": {
            "_model_module": "@jupyter-widgets/base",
            "_model_module_version": "1.2.0",
            "_model_name": "LayoutModel",
            "_view_count": null,
            "_view_module": "@jupyter-widgets/base",
            "_view_module_version": "1.2.0",
            "_view_name": "LayoutView",
            "align_content": null,
            "align_items": null,
            "align_self": null,
            "border": null,
            "bottom": null,
            "display": null,
            "flex": null,
            "flex_flow": null,
            "grid_area": null,
            "grid_auto_columns": null,
            "grid_auto_flow": null,
            "grid_auto_rows": null,
            "grid_column": null,
            "grid_gap": null,
            "grid_row": null,
            "grid_template_areas": null,
            "grid_template_columns": null,
            "grid_template_rows": null,
            "height": null,
            "justify_content": null,
            "justify_items": null,
            "left": null,
            "margin": null,
            "max_height": null,
            "max_width": null,
            "min_height": null,
            "min_width": null,
            "object_fit": null,
            "object_position": null,
            "order": null,
            "overflow": null,
            "overflow_x": null,
            "overflow_y": null,
            "padding": null,
            "right": null,
            "top": null,
            "visibility": null,
            "width": null
          }
        },
        "c680b201e8274fada7608f07bd007c69": {
          "model_module": "@jupyter-widgets/base",
          "model_name": "LayoutModel",
          "model_module_version": "1.2.0",
          "state": {
            "_model_module": "@jupyter-widgets/base",
            "_model_module_version": "1.2.0",
            "_model_name": "LayoutModel",
            "_view_count": null,
            "_view_module": "@jupyter-widgets/base",
            "_view_module_version": "1.2.0",
            "_view_name": "LayoutView",
            "align_content": null,
            "align_items": null,
            "align_self": null,
            "border": null,
            "bottom": null,
            "display": null,
            "flex": null,
            "flex_flow": null,
            "grid_area": null,
            "grid_auto_columns": null,
            "grid_auto_flow": null,
            "grid_auto_rows": null,
            "grid_column": null,
            "grid_gap": null,
            "grid_row": null,
            "grid_template_areas": null,
            "grid_template_columns": null,
            "grid_template_rows": null,
            "height": null,
            "justify_content": null,
            "justify_items": null,
            "left": null,
            "margin": null,
            "max_height": null,
            "max_width": null,
            "min_height": null,
            "min_width": null,
            "object_fit": null,
            "object_position": null,
            "order": null,
            "overflow": null,
            "overflow_x": null,
            "overflow_y": null,
            "padding": null,
            "right": null,
            "top": null,
            "visibility": null,
            "width": null
          }
        },
        "28a7ce8ee2304742952688a263211a8e": {
          "model_module": "@jupyter-widgets/controls",
          "model_name": "DescriptionStyleModel",
          "model_module_version": "1.5.0",
          "state": {
            "_model_module": "@jupyter-widgets/controls",
            "_model_module_version": "1.5.0",
            "_model_name": "DescriptionStyleModel",
            "_view_count": null,
            "_view_module": "@jupyter-widgets/base",
            "_view_module_version": "1.2.0",
            "_view_name": "StyleView",
            "description_width": ""
          }
        },
        "fb592de1b97b4269a3e15d079a1a7730": {
          "model_module": "@jupyter-widgets/base",
          "model_name": "LayoutModel",
          "model_module_version": "1.2.0",
          "state": {
            "_model_module": "@jupyter-widgets/base",
            "_model_module_version": "1.2.0",
            "_model_name": "LayoutModel",
            "_view_count": null,
            "_view_module": "@jupyter-widgets/base",
            "_view_module_version": "1.2.0",
            "_view_name": "LayoutView",
            "align_content": null,
            "align_items": null,
            "align_self": null,
            "border": null,
            "bottom": null,
            "display": null,
            "flex": null,
            "flex_flow": null,
            "grid_area": null,
            "grid_auto_columns": null,
            "grid_auto_flow": null,
            "grid_auto_rows": null,
            "grid_column": null,
            "grid_gap": null,
            "grid_row": null,
            "grid_template_areas": null,
            "grid_template_columns": null,
            "grid_template_rows": null,
            "height": null,
            "justify_content": null,
            "justify_items": null,
            "left": null,
            "margin": null,
            "max_height": null,
            "max_width": null,
            "min_height": null,
            "min_width": null,
            "object_fit": null,
            "object_position": null,
            "order": null,
            "overflow": null,
            "overflow_x": null,
            "overflow_y": null,
            "padding": null,
            "right": null,
            "top": null,
            "visibility": null,
            "width": null
          }
        },
        "ae12f0495be6466cad79b06521c7d486": {
          "model_module": "@jupyter-widgets/controls",
          "model_name": "ProgressStyleModel",
          "model_module_version": "1.5.0",
          "state": {
            "_model_module": "@jupyter-widgets/controls",
            "_model_module_version": "1.5.0",
            "_model_name": "ProgressStyleModel",
            "_view_count": null,
            "_view_module": "@jupyter-widgets/base",
            "_view_module_version": "1.2.0",
            "_view_name": "StyleView",
            "bar_color": null,
            "description_width": ""
          }
        },
        "959c20fe4294457e8f493bcb13f2ff52": {
          "model_module": "@jupyter-widgets/base",
          "model_name": "LayoutModel",
          "model_module_version": "1.2.0",
          "state": {
            "_model_module": "@jupyter-widgets/base",
            "_model_module_version": "1.2.0",
            "_model_name": "LayoutModel",
            "_view_count": null,
            "_view_module": "@jupyter-widgets/base",
            "_view_module_version": "1.2.0",
            "_view_name": "LayoutView",
            "align_content": null,
            "align_items": null,
            "align_self": null,
            "border": null,
            "bottom": null,
            "display": null,
            "flex": null,
            "flex_flow": null,
            "grid_area": null,
            "grid_auto_columns": null,
            "grid_auto_flow": null,
            "grid_auto_rows": null,
            "grid_column": null,
            "grid_gap": null,
            "grid_row": null,
            "grid_template_areas": null,
            "grid_template_columns": null,
            "grid_template_rows": null,
            "height": null,
            "justify_content": null,
            "justify_items": null,
            "left": null,
            "margin": null,
            "max_height": null,
            "max_width": null,
            "min_height": null,
            "min_width": null,
            "object_fit": null,
            "object_position": null,
            "order": null,
            "overflow": null,
            "overflow_x": null,
            "overflow_y": null,
            "padding": null,
            "right": null,
            "top": null,
            "visibility": null,
            "width": null
          }
        },
        "f400b50840614199996bff071d3075e7": {
          "model_module": "@jupyter-widgets/controls",
          "model_name": "DescriptionStyleModel",
          "model_module_version": "1.5.0",
          "state": {
            "_model_module": "@jupyter-widgets/controls",
            "_model_module_version": "1.5.0",
            "_model_name": "DescriptionStyleModel",
            "_view_count": null,
            "_view_module": "@jupyter-widgets/base",
            "_view_module_version": "1.2.0",
            "_view_name": "StyleView",
            "description_width": ""
          }
        },
        "07b4ee8a5ac4470c98221317f2e89e90": {
          "model_module": "@jupyter-widgets/controls",
          "model_name": "HBoxModel",
          "model_module_version": "1.5.0",
          "state": {
            "_dom_classes": [],
            "_model_module": "@jupyter-widgets/controls",
            "_model_module_version": "1.5.0",
            "_model_name": "HBoxModel",
            "_view_count": null,
            "_view_module": "@jupyter-widgets/controls",
            "_view_module_version": "1.5.0",
            "_view_name": "HBoxView",
            "box_style": "",
            "children": [
              "IPY_MODEL_b53dbe7bf4834061ad2d83d5867995e3",
              "IPY_MODEL_9a873af2dc6d45eba5e5ace52a5ba1d4",
              "IPY_MODEL_b25259f936e64a33acc29d916f01dc0e"
            ],
            "layout": "IPY_MODEL_9b321cc65cf241db989faac856073a01"
          }
        },
        "b53dbe7bf4834061ad2d83d5867995e3": {
          "model_module": "@jupyter-widgets/controls",
          "model_name": "HTMLModel",
          "model_module_version": "1.5.0",
          "state": {
            "_dom_classes": [],
            "_model_module": "@jupyter-widgets/controls",
            "_model_module_version": "1.5.0",
            "_model_name": "HTMLModel",
            "_view_count": null,
            "_view_module": "@jupyter-widgets/controls",
            "_view_module_version": "1.5.0",
            "_view_name": "HTMLView",
            "description": "",
            "description_tooltip": null,
            "layout": "IPY_MODEL_af66b7fed37b4db998dbd8cf2c22b7ea",
            "placeholder": "​",
            "style": "IPY_MODEL_7801fc94099540b0b65f236464abe27c",
            "value": "Downloading (…)cial_tokens_map.json: 100%"
          }
        },
        "9a873af2dc6d45eba5e5ace52a5ba1d4": {
          "model_module": "@jupyter-widgets/controls",
          "model_name": "FloatProgressModel",
          "model_module_version": "1.5.0",
          "state": {
            "_dom_classes": [],
            "_model_module": "@jupyter-widgets/controls",
            "_model_module_version": "1.5.0",
            "_model_name": "FloatProgressModel",
            "_view_count": null,
            "_view_module": "@jupyter-widgets/controls",
            "_view_module_version": "1.5.0",
            "_view_name": "ProgressView",
            "bar_style": "success",
            "description": "",
            "description_tooltip": null,
            "layout": "IPY_MODEL_6f8e0fd86778422ebb25f335dff611f0",
            "max": 112,
            "min": 0,
            "orientation": "horizontal",
            "style": "IPY_MODEL_8011e1e6a48948da9e7fcaed854325e0",
            "value": 112
          }
        },
        "b25259f936e64a33acc29d916f01dc0e": {
          "model_module": "@jupyter-widgets/controls",
          "model_name": "HTMLModel",
          "model_module_version": "1.5.0",
          "state": {
            "_dom_classes": [],
            "_model_module": "@jupyter-widgets/controls",
            "_model_module_version": "1.5.0",
            "_model_name": "HTMLModel",
            "_view_count": null,
            "_view_module": "@jupyter-widgets/controls",
            "_view_module_version": "1.5.0",
            "_view_name": "HTMLView",
            "description": "",
            "description_tooltip": null,
            "layout": "IPY_MODEL_8fcdc43e153d4cb5b4fce61c9be51582",
            "placeholder": "​",
            "style": "IPY_MODEL_19c59e5d05184593a2d6e93456409386",
            "value": " 112/112 [00:00&lt;00:00, 4.47kB/s]"
          }
        },
        "9b321cc65cf241db989faac856073a01": {
          "model_module": "@jupyter-widgets/base",
          "model_name": "LayoutModel",
          "model_module_version": "1.2.0",
          "state": {
            "_model_module": "@jupyter-widgets/base",
            "_model_module_version": "1.2.0",
            "_model_name": "LayoutModel",
            "_view_count": null,
            "_view_module": "@jupyter-widgets/base",
            "_view_module_version": "1.2.0",
            "_view_name": "LayoutView",
            "align_content": null,
            "align_items": null,
            "align_self": null,
            "border": null,
            "bottom": null,
            "display": null,
            "flex": null,
            "flex_flow": null,
            "grid_area": null,
            "grid_auto_columns": null,
            "grid_auto_flow": null,
            "grid_auto_rows": null,
            "grid_column": null,
            "grid_gap": null,
            "grid_row": null,
            "grid_template_areas": null,
            "grid_template_columns": null,
            "grid_template_rows": null,
            "height": null,
            "justify_content": null,
            "justify_items": null,
            "left": null,
            "margin": null,
            "max_height": null,
            "max_width": null,
            "min_height": null,
            "min_width": null,
            "object_fit": null,
            "object_position": null,
            "order": null,
            "overflow": null,
            "overflow_x": null,
            "overflow_y": null,
            "padding": null,
            "right": null,
            "top": null,
            "visibility": null,
            "width": null
          }
        },
        "af66b7fed37b4db998dbd8cf2c22b7ea": {
          "model_module": "@jupyter-widgets/base",
          "model_name": "LayoutModel",
          "model_module_version": "1.2.0",
          "state": {
            "_model_module": "@jupyter-widgets/base",
            "_model_module_version": "1.2.0",
            "_model_name": "LayoutModel",
            "_view_count": null,
            "_view_module": "@jupyter-widgets/base",
            "_view_module_version": "1.2.0",
            "_view_name": "LayoutView",
            "align_content": null,
            "align_items": null,
            "align_self": null,
            "border": null,
            "bottom": null,
            "display": null,
            "flex": null,
            "flex_flow": null,
            "grid_area": null,
            "grid_auto_columns": null,
            "grid_auto_flow": null,
            "grid_auto_rows": null,
            "grid_column": null,
            "grid_gap": null,
            "grid_row": null,
            "grid_template_areas": null,
            "grid_template_columns": null,
            "grid_template_rows": null,
            "height": null,
            "justify_content": null,
            "justify_items": null,
            "left": null,
            "margin": null,
            "max_height": null,
            "max_width": null,
            "min_height": null,
            "min_width": null,
            "object_fit": null,
            "object_position": null,
            "order": null,
            "overflow": null,
            "overflow_x": null,
            "overflow_y": null,
            "padding": null,
            "right": null,
            "top": null,
            "visibility": null,
            "width": null
          }
        },
        "7801fc94099540b0b65f236464abe27c": {
          "model_module": "@jupyter-widgets/controls",
          "model_name": "DescriptionStyleModel",
          "model_module_version": "1.5.0",
          "state": {
            "_model_module": "@jupyter-widgets/controls",
            "_model_module_version": "1.5.0",
            "_model_name": "DescriptionStyleModel",
            "_view_count": null,
            "_view_module": "@jupyter-widgets/base",
            "_view_module_version": "1.2.0",
            "_view_name": "StyleView",
            "description_width": ""
          }
        },
        "6f8e0fd86778422ebb25f335dff611f0": {
          "model_module": "@jupyter-widgets/base",
          "model_name": "LayoutModel",
          "model_module_version": "1.2.0",
          "state": {
            "_model_module": "@jupyter-widgets/base",
            "_model_module_version": "1.2.0",
            "_model_name": "LayoutModel",
            "_view_count": null,
            "_view_module": "@jupyter-widgets/base",
            "_view_module_version": "1.2.0",
            "_view_name": "LayoutView",
            "align_content": null,
            "align_items": null,
            "align_self": null,
            "border": null,
            "bottom": null,
            "display": null,
            "flex": null,
            "flex_flow": null,
            "grid_area": null,
            "grid_auto_columns": null,
            "grid_auto_flow": null,
            "grid_auto_rows": null,
            "grid_column": null,
            "grid_gap": null,
            "grid_row": null,
            "grid_template_areas": null,
            "grid_template_columns": null,
            "grid_template_rows": null,
            "height": null,
            "justify_content": null,
            "justify_items": null,
            "left": null,
            "margin": null,
            "max_height": null,
            "max_width": null,
            "min_height": null,
            "min_width": null,
            "object_fit": null,
            "object_position": null,
            "order": null,
            "overflow": null,
            "overflow_x": null,
            "overflow_y": null,
            "padding": null,
            "right": null,
            "top": null,
            "visibility": null,
            "width": null
          }
        },
        "8011e1e6a48948da9e7fcaed854325e0": {
          "model_module": "@jupyter-widgets/controls",
          "model_name": "ProgressStyleModel",
          "model_module_version": "1.5.0",
          "state": {
            "_model_module": "@jupyter-widgets/controls",
            "_model_module_version": "1.5.0",
            "_model_name": "ProgressStyleModel",
            "_view_count": null,
            "_view_module": "@jupyter-widgets/base",
            "_view_module_version": "1.2.0",
            "_view_name": "StyleView",
            "bar_color": null,
            "description_width": ""
          }
        },
        "8fcdc43e153d4cb5b4fce61c9be51582": {
          "model_module": "@jupyter-widgets/base",
          "model_name": "LayoutModel",
          "model_module_version": "1.2.0",
          "state": {
            "_model_module": "@jupyter-widgets/base",
            "_model_module_version": "1.2.0",
            "_model_name": "LayoutModel",
            "_view_count": null,
            "_view_module": "@jupyter-widgets/base",
            "_view_module_version": "1.2.0",
            "_view_name": "LayoutView",
            "align_content": null,
            "align_items": null,
            "align_self": null,
            "border": null,
            "bottom": null,
            "display": null,
            "flex": null,
            "flex_flow": null,
            "grid_area": null,
            "grid_auto_columns": null,
            "grid_auto_flow": null,
            "grid_auto_rows": null,
            "grid_column": null,
            "grid_gap": null,
            "grid_row": null,
            "grid_template_areas": null,
            "grid_template_columns": null,
            "grid_template_rows": null,
            "height": null,
            "justify_content": null,
            "justify_items": null,
            "left": null,
            "margin": null,
            "max_height": null,
            "max_width": null,
            "min_height": null,
            "min_width": null,
            "object_fit": null,
            "object_position": null,
            "order": null,
            "overflow": null,
            "overflow_x": null,
            "overflow_y": null,
            "padding": null,
            "right": null,
            "top": null,
            "visibility": null,
            "width": null
          }
        },
        "19c59e5d05184593a2d6e93456409386": {
          "model_module": "@jupyter-widgets/controls",
          "model_name": "DescriptionStyleModel",
          "model_module_version": "1.5.0",
          "state": {
            "_model_module": "@jupyter-widgets/controls",
            "_model_module_version": "1.5.0",
            "_model_name": "DescriptionStyleModel",
            "_view_count": null,
            "_view_module": "@jupyter-widgets/base",
            "_view_module_version": "1.2.0",
            "_view_name": "StyleView",
            "description_width": ""
          }
        },
        "975fb7f128a748c6a236fbb8f631c94f": {
          "model_module": "@jupyter-widgets/controls",
          "model_name": "HBoxModel",
          "model_module_version": "1.5.0",
          "state": {
            "_dom_classes": [],
            "_model_module": "@jupyter-widgets/controls",
            "_model_module_version": "1.5.0",
            "_model_name": "HBoxModel",
            "_view_count": null,
            "_view_module": "@jupyter-widgets/controls",
            "_view_module_version": "1.5.0",
            "_view_name": "HBoxView",
            "box_style": "",
            "children": [
              "IPY_MODEL_e4a7f583912d447791d76911680235a3",
              "IPY_MODEL_1dc8d54980384138bafa011c40a40119",
              "IPY_MODEL_b9079550f0c944219bcefc1f09efb974"
            ],
            "layout": "IPY_MODEL_9fe5eb3e2abc4bdfbc44bf3e452c6d17"
          }
        },
        "e4a7f583912d447791d76911680235a3": {
          "model_module": "@jupyter-widgets/controls",
          "model_name": "HTMLModel",
          "model_module_version": "1.5.0",
          "state": {
            "_dom_classes": [],
            "_model_module": "@jupyter-widgets/controls",
            "_model_module_version": "1.5.0",
            "_model_name": "HTMLModel",
            "_view_count": null,
            "_view_module": "@jupyter-widgets/controls",
            "_view_module_version": "1.5.0",
            "_view_name": "HTMLView",
            "description": "",
            "description_tooltip": null,
            "layout": "IPY_MODEL_e0688d24cbd141a586ee7df601280f07",
            "placeholder": "​",
            "style": "IPY_MODEL_9cf76efa6c8c4b4e858efb748f37b8a7",
            "value": "Downloading pytorch_model.bin: 100%"
          }
        },
        "1dc8d54980384138bafa011c40a40119": {
          "model_module": "@jupyter-widgets/controls",
          "model_name": "FloatProgressModel",
          "model_module_version": "1.5.0",
          "state": {
            "_dom_classes": [],
            "_model_module": "@jupyter-widgets/controls",
            "_model_module_version": "1.5.0",
            "_model_name": "FloatProgressModel",
            "_view_count": null,
            "_view_module": "@jupyter-widgets/controls",
            "_view_module_version": "1.5.0",
            "_view_name": "ProgressView",
            "bar_style": "success",
            "description": "",
            "description_tooltip": null,
            "layout": "IPY_MODEL_8d4fd150f2c54072ae0b856b02cb9cd3",
            "max": 714355318,
            "min": 0,
            "orientation": "horizontal",
            "style": "IPY_MODEL_745a73c7ce374f90bae353cff8dc7502",
            "value": 714355318
          }
        },
        "b9079550f0c944219bcefc1f09efb974": {
          "model_module": "@jupyter-widgets/controls",
          "model_name": "HTMLModel",
          "model_module_version": "1.5.0",
          "state": {
            "_dom_classes": [],
            "_model_module": "@jupyter-widgets/controls",
            "_model_module_version": "1.5.0",
            "_model_name": "HTMLModel",
            "_view_count": null,
            "_view_module": "@jupyter-widgets/controls",
            "_view_module_version": "1.5.0",
            "_view_name": "HTMLView",
            "description": "",
            "description_tooltip": null,
            "layout": "IPY_MODEL_778ba958475b468cb3a00630efc1a26d",
            "placeholder": "​",
            "style": "IPY_MODEL_73812c426b00463f971391778f4a6d7d",
            "value": " 714M/714M [00:08&lt;00:00, 43.9MB/s]"
          }
        },
        "9fe5eb3e2abc4bdfbc44bf3e452c6d17": {
          "model_module": "@jupyter-widgets/base",
          "model_name": "LayoutModel",
          "model_module_version": "1.2.0",
          "state": {
            "_model_module": "@jupyter-widgets/base",
            "_model_module_version": "1.2.0",
            "_model_name": "LayoutModel",
            "_view_count": null,
            "_view_module": "@jupyter-widgets/base",
            "_view_module_version": "1.2.0",
            "_view_name": "LayoutView",
            "align_content": null,
            "align_items": null,
            "align_self": null,
            "border": null,
            "bottom": null,
            "display": null,
            "flex": null,
            "flex_flow": null,
            "grid_area": null,
            "grid_auto_columns": null,
            "grid_auto_flow": null,
            "grid_auto_rows": null,
            "grid_column": null,
            "grid_gap": null,
            "grid_row": null,
            "grid_template_areas": null,
            "grid_template_columns": null,
            "grid_template_rows": null,
            "height": null,
            "justify_content": null,
            "justify_items": null,
            "left": null,
            "margin": null,
            "max_height": null,
            "max_width": null,
            "min_height": null,
            "min_width": null,
            "object_fit": null,
            "object_position": null,
            "order": null,
            "overflow": null,
            "overflow_x": null,
            "overflow_y": null,
            "padding": null,
            "right": null,
            "top": null,
            "visibility": null,
            "width": null
          }
        },
        "e0688d24cbd141a586ee7df601280f07": {
          "model_module": "@jupyter-widgets/base",
          "model_name": "LayoutModel",
          "model_module_version": "1.2.0",
          "state": {
            "_model_module": "@jupyter-widgets/base",
            "_model_module_version": "1.2.0",
            "_model_name": "LayoutModel",
            "_view_count": null,
            "_view_module": "@jupyter-widgets/base",
            "_view_module_version": "1.2.0",
            "_view_name": "LayoutView",
            "align_content": null,
            "align_items": null,
            "align_self": null,
            "border": null,
            "bottom": null,
            "display": null,
            "flex": null,
            "flex_flow": null,
            "grid_area": null,
            "grid_auto_columns": null,
            "grid_auto_flow": null,
            "grid_auto_rows": null,
            "grid_column": null,
            "grid_gap": null,
            "grid_row": null,
            "grid_template_areas": null,
            "grid_template_columns": null,
            "grid_template_rows": null,
            "height": null,
            "justify_content": null,
            "justify_items": null,
            "left": null,
            "margin": null,
            "max_height": null,
            "max_width": null,
            "min_height": null,
            "min_width": null,
            "object_fit": null,
            "object_position": null,
            "order": null,
            "overflow": null,
            "overflow_x": null,
            "overflow_y": null,
            "padding": null,
            "right": null,
            "top": null,
            "visibility": null,
            "width": null
          }
        },
        "9cf76efa6c8c4b4e858efb748f37b8a7": {
          "model_module": "@jupyter-widgets/controls",
          "model_name": "DescriptionStyleModel",
          "model_module_version": "1.5.0",
          "state": {
            "_model_module": "@jupyter-widgets/controls",
            "_model_module_version": "1.5.0",
            "_model_name": "DescriptionStyleModel",
            "_view_count": null,
            "_view_module": "@jupyter-widgets/base",
            "_view_module_version": "1.2.0",
            "_view_name": "StyleView",
            "description_width": ""
          }
        },
        "8d4fd150f2c54072ae0b856b02cb9cd3": {
          "model_module": "@jupyter-widgets/base",
          "model_name": "LayoutModel",
          "model_module_version": "1.2.0",
          "state": {
            "_model_module": "@jupyter-widgets/base",
            "_model_module_version": "1.2.0",
            "_model_name": "LayoutModel",
            "_view_count": null,
            "_view_module": "@jupyter-widgets/base",
            "_view_module_version": "1.2.0",
            "_view_name": "LayoutView",
            "align_content": null,
            "align_items": null,
            "align_self": null,
            "border": null,
            "bottom": null,
            "display": null,
            "flex": null,
            "flex_flow": null,
            "grid_area": null,
            "grid_auto_columns": null,
            "grid_auto_flow": null,
            "grid_auto_rows": null,
            "grid_column": null,
            "grid_gap": null,
            "grid_row": null,
            "grid_template_areas": null,
            "grid_template_columns": null,
            "grid_template_rows": null,
            "height": null,
            "justify_content": null,
            "justify_items": null,
            "left": null,
            "margin": null,
            "max_height": null,
            "max_width": null,
            "min_height": null,
            "min_width": null,
            "object_fit": null,
            "object_position": null,
            "order": null,
            "overflow": null,
            "overflow_x": null,
            "overflow_y": null,
            "padding": null,
            "right": null,
            "top": null,
            "visibility": null,
            "width": null
          }
        },
        "745a73c7ce374f90bae353cff8dc7502": {
          "model_module": "@jupyter-widgets/controls",
          "model_name": "ProgressStyleModel",
          "model_module_version": "1.5.0",
          "state": {
            "_model_module": "@jupyter-widgets/controls",
            "_model_module_version": "1.5.0",
            "_model_name": "ProgressStyleModel",
            "_view_count": null,
            "_view_module": "@jupyter-widgets/base",
            "_view_module_version": "1.2.0",
            "_view_name": "StyleView",
            "bar_color": null,
            "description_width": ""
          }
        },
        "778ba958475b468cb3a00630efc1a26d": {
          "model_module": "@jupyter-widgets/base",
          "model_name": "LayoutModel",
          "model_module_version": "1.2.0",
          "state": {
            "_model_module": "@jupyter-widgets/base",
            "_model_module_version": "1.2.0",
            "_model_name": "LayoutModel",
            "_view_count": null,
            "_view_module": "@jupyter-widgets/base",
            "_view_module_version": "1.2.0",
            "_view_name": "LayoutView",
            "align_content": null,
            "align_items": null,
            "align_self": null,
            "border": null,
            "bottom": null,
            "display": null,
            "flex": null,
            "flex_flow": null,
            "grid_area": null,
            "grid_auto_columns": null,
            "grid_auto_flow": null,
            "grid_auto_rows": null,
            "grid_column": null,
            "grid_gap": null,
            "grid_row": null,
            "grid_template_areas": null,
            "grid_template_columns": null,
            "grid_template_rows": null,
            "height": null,
            "justify_content": null,
            "justify_items": null,
            "left": null,
            "margin": null,
            "max_height": null,
            "max_width": null,
            "min_height": null,
            "min_width": null,
            "object_fit": null,
            "object_position": null,
            "order": null,
            "overflow": null,
            "overflow_x": null,
            "overflow_y": null,
            "padding": null,
            "right": null,
            "top": null,
            "visibility": null,
            "width": null
          }
        },
        "73812c426b00463f971391778f4a6d7d": {
          "model_module": "@jupyter-widgets/controls",
          "model_name": "DescriptionStyleModel",
          "model_module_version": "1.5.0",
          "state": {
            "_model_module": "@jupyter-widgets/controls",
            "_model_module_version": "1.5.0",
            "_model_name": "DescriptionStyleModel",
            "_view_count": null,
            "_view_module": "@jupyter-widgets/base",
            "_view_module_version": "1.2.0",
            "_view_name": "StyleView",
            "description_width": ""
          }
        }
      }
    }
  },
  "cells": [
    {
      "cell_type": "code",
      "source": [
        "!pip install conllu"
      ],
      "metadata": {
        "colab": {
          "base_uri": "https://localhost:8080/"
        },
        "id": "qHV6B9BjhKRp",
        "outputId": "fdc6a9d1-5657-4408-d1f7-3ba9f4a475d2"
      },
      "execution_count": null,
      "outputs": [
        {
          "output_type": "stream",
          "name": "stdout",
          "text": [
            "Collecting conllu\n",
            "  Downloading conllu-4.5.3-py2.py3-none-any.whl (16 kB)\n",
            "Installing collected packages: conllu\n",
            "Successfully installed conllu-4.5.3\n"
          ]
        }
      ]
    },
    {
      "cell_type": "code",
      "source": [
        "!pip install transformers"
      ],
      "metadata": {
        "id": "oIhBMuzkiF6w",
        "colab": {
          "base_uri": "https://localhost:8080/"
        },
        "outputId": "f6f972b4-af9f-40f3-d0ba-6e9ca9d2cd68"
      },
      "execution_count": null,
      "outputs": [
        {
          "output_type": "stream",
          "name": "stdout",
          "text": [
            "Collecting transformers\n",
            "  Downloading transformers-4.34.0-py3-none-any.whl (7.7 MB)\n",
            "\u001b[2K     \u001b[90m━━━━━━━━━━━━━━━━━━━━━━━━━━━━━━━━━━━━━━━━\u001b[0m \u001b[32m7.7/7.7 MB\u001b[0m \u001b[31m30.0 MB/s\u001b[0m eta \u001b[36m0:00:00\u001b[0m\n",
            "\u001b[?25hRequirement already satisfied: filelock in /usr/local/lib/python3.10/dist-packages (from transformers) (3.12.4)\n",
            "Collecting huggingface-hub<1.0,>=0.16.4 (from transformers)\n",
            "  Downloading huggingface_hub-0.18.0-py3-none-any.whl (301 kB)\n",
            "\u001b[2K     \u001b[90m━━━━━━━━━━━━━━━━━━━━━━━━━━━━━━━━━━━━━━━━\u001b[0m \u001b[32m302.0/302.0 kB\u001b[0m \u001b[31m26.5 MB/s\u001b[0m eta \u001b[36m0:00:00\u001b[0m\n",
            "\u001b[?25hRequirement already satisfied: numpy>=1.17 in /usr/local/lib/python3.10/dist-packages (from transformers) (1.23.5)\n",
            "Requirement already satisfied: packaging>=20.0 in /usr/local/lib/python3.10/dist-packages (from transformers) (23.2)\n",
            "Requirement already satisfied: pyyaml>=5.1 in /usr/local/lib/python3.10/dist-packages (from transformers) (6.0.1)\n",
            "Requirement already satisfied: regex!=2019.12.17 in /usr/local/lib/python3.10/dist-packages (from transformers) (2023.6.3)\n",
            "Requirement already satisfied: requests in /usr/local/lib/python3.10/dist-packages (from transformers) (2.31.0)\n",
            "Collecting tokenizers<0.15,>=0.14 (from transformers)\n",
            "  Downloading tokenizers-0.14.1-cp310-cp310-manylinux_2_17_x86_64.manylinux2014_x86_64.whl (3.8 MB)\n",
            "\u001b[2K     \u001b[90m━━━━━━━━━━━━━━━━━━━━━━━━━━━━━━━━━━━━━━━━\u001b[0m \u001b[32m3.8/3.8 MB\u001b[0m \u001b[31m68.1 MB/s\u001b[0m eta \u001b[36m0:00:00\u001b[0m\n",
            "\u001b[?25hCollecting safetensors>=0.3.1 (from transformers)\n",
            "  Downloading safetensors-0.4.0-cp310-cp310-manylinux_2_17_x86_64.manylinux2014_x86_64.whl (1.3 MB)\n",
            "\u001b[2K     \u001b[90m━━━━━━━━━━━━━━━━━━━━━━━━━━━━━━━━━━━━━━━━\u001b[0m \u001b[32m1.3/1.3 MB\u001b[0m \u001b[31m56.6 MB/s\u001b[0m eta \u001b[36m0:00:00\u001b[0m\n",
            "\u001b[?25hRequirement already satisfied: tqdm>=4.27 in /usr/local/lib/python3.10/dist-packages (from transformers) (4.66.1)\n",
            "Requirement already satisfied: fsspec>=2023.5.0 in /usr/local/lib/python3.10/dist-packages (from huggingface-hub<1.0,>=0.16.4->transformers) (2023.6.0)\n",
            "Requirement already satisfied: typing-extensions>=3.7.4.3 in /usr/local/lib/python3.10/dist-packages (from huggingface-hub<1.0,>=0.16.4->transformers) (4.5.0)\n",
            "Collecting huggingface-hub<1.0,>=0.16.4 (from transformers)\n",
            "  Downloading huggingface_hub-0.17.3-py3-none-any.whl (295 kB)\n",
            "\u001b[2K     \u001b[90m━━━━━━━━━━━━━━━━━━━━━━━━━━━━━━━━━━━━━━━━\u001b[0m \u001b[32m295.0/295.0 kB\u001b[0m \u001b[31m27.5 MB/s\u001b[0m eta \u001b[36m0:00:00\u001b[0m\n",
            "\u001b[?25hRequirement already satisfied: charset-normalizer<4,>=2 in /usr/local/lib/python3.10/dist-packages (from requests->transformers) (3.3.0)\n",
            "Requirement already satisfied: idna<4,>=2.5 in /usr/local/lib/python3.10/dist-packages (from requests->transformers) (3.4)\n",
            "Requirement already satisfied: urllib3<3,>=1.21.1 in /usr/local/lib/python3.10/dist-packages (from requests->transformers) (2.0.6)\n",
            "Requirement already satisfied: certifi>=2017.4.17 in /usr/local/lib/python3.10/dist-packages (from requests->transformers) (2023.7.22)\n",
            "Installing collected packages: safetensors, huggingface-hub, tokenizers, transformers\n",
            "Successfully installed huggingface-hub-0.17.3 safetensors-0.4.0 tokenizers-0.14.1 transformers-4.34.0\n"
          ]
        }
      ]
    },
    {
      "cell_type": "code",
      "source": [
        "!pip install pymorphy2"
      ],
      "metadata": {
        "colab": {
          "base_uri": "https://localhost:8080/"
        },
        "id": "S7gH9SAUdu6M",
        "outputId": "0d2f9d23-f787-4ad0-eb69-c232743cd79e"
      },
      "execution_count": null,
      "outputs": [
        {
          "output_type": "stream",
          "name": "stdout",
          "text": [
            "Collecting pymorphy2\n",
            "  Downloading pymorphy2-0.9.1-py3-none-any.whl (55 kB)\n",
            "\u001b[2K     \u001b[90m━━━━━━━━━━━━━━━━━━━━━━━━━━━━━━━━━━━━━━━━\u001b[0m \u001b[32m55.5/55.5 kB\u001b[0m \u001b[31m1.1 MB/s\u001b[0m eta \u001b[36m0:00:00\u001b[0m\n",
            "\u001b[?25hCollecting dawg-python>=0.7.1 (from pymorphy2)\n",
            "  Downloading DAWG_Python-0.7.2-py2.py3-none-any.whl (11 kB)\n",
            "Collecting pymorphy2-dicts-ru<3.0,>=2.4 (from pymorphy2)\n",
            "  Downloading pymorphy2_dicts_ru-2.4.417127.4579844-py2.py3-none-any.whl (8.2 MB)\n",
            "\u001b[2K     \u001b[90m━━━━━━━━━━━━━━━━━━━━━━━━━━━━━━━━━━━━━━━━\u001b[0m \u001b[32m8.2/8.2 MB\u001b[0m \u001b[31m56.5 MB/s\u001b[0m eta \u001b[36m0:00:00\u001b[0m\n",
            "\u001b[?25hCollecting docopt>=0.6 (from pymorphy2)\n",
            "  Downloading docopt-0.6.2.tar.gz (25 kB)\n",
            "  Preparing metadata (setup.py) ... \u001b[?25l\u001b[?25hdone\n",
            "Building wheels for collected packages: docopt\n",
            "  Building wheel for docopt (setup.py) ... \u001b[?25l\u001b[?25hdone\n",
            "  Created wheel for docopt: filename=docopt-0.6.2-py2.py3-none-any.whl size=13705 sha256=c494c02242eaccdbe497d3016b766e7ceca114c423585e76567b9083d06017d5\n",
            "  Stored in directory: /root/.cache/pip/wheels/fc/ab/d4/5da2067ac95b36618c629a5f93f809425700506f72c9732fac\n",
            "Successfully built docopt\n",
            "Installing collected packages: pymorphy2-dicts-ru, docopt, dawg-python, pymorphy2\n",
            "Successfully installed dawg-python-0.7.2 docopt-0.6.2 pymorphy2-0.9.1 pymorphy2-dicts-ru-2.4.417127.4579844\n"
          ]
        }
      ]
    },
    {
      "cell_type": "code",
      "execution_count": null,
      "metadata": {
        "colab": {
          "base_uri": "https://localhost:8080/"
        },
        "id": "yOS226qagpXK",
        "outputId": "32a80e1b-fd85-498f-cd9d-356f630a5af7"
      },
      "outputs": [
        {
          "output_type": "stream",
          "name": "stdout",
          "text": [
            "Mounted at /content/drive\n"
          ]
        }
      ],
      "source": [
        "from google.colab import drive\n",
        "drive.mount('/content/drive')"
      ]
    },
    {
      "cell_type": "code",
      "source": [
        "TRAIN_DATA_PATH = '/content/drive/MyDrive/Think-BERT/data/experiment1/ru_taiga-ud-train.conllu'\n",
        "TEST_DATA_PATH = '/content/drive/MyDrive/Think-BERT/data/experiment1/ru_taiga-ud-test.conllu'\n",
        "GRAMMAR_PATH = '/content/drive/MyDrive/Think-BERT/data/experiment2/generate/grammar.cfg'"
      ],
      "metadata": {
        "id": "NecJMzQvg065"
      },
      "execution_count": null,
      "outputs": []
    },
    {
      "cell_type": "code",
      "source": [
        "import conllu\n",
        "import pandas as pd\n",
        "import numpy as np\n",
        "from typing import Set, List\n",
        "from conllu import parse_incr\n",
        "from sklearn.preprocessing import LabelEncoder"
      ],
      "metadata": {
        "id": "RpM6g1mGhBwS"
      },
      "execution_count": null,
      "outputs": []
    },
    {
      "cell_type": "markdown",
      "source": [
        "# Embeddings\n",
        "\n",
        "## Data"
      ],
      "metadata": {
        "id": "Ot8CZcnNTuuE"
      }
    },
    {
      "cell_type": "code",
      "source": [
        "class CoNLLUSentenceHandler:\n",
        "\n",
        "    def __init__(self,\n",
        "                 markup : conllu.models.SentenceGenerator,\n",
        "                 avoid_genres : Set[str] = [],\n",
        "                 features : List[str] = ['Tense', 'Aspect']):\n",
        "        \"\"\"\n",
        "        Initialisation.\n",
        "        \"\"\"\n",
        "        self.markup = markup\n",
        "        self.avoid_genres = avoid_genres\n",
        "        self.features = features\n",
        "        self.dataframe = self._sentence_data(features)\n",
        "\n",
        "    def _sentence_data(self,\n",
        "                       features : List[str]) -> pd.DataFrame:\n",
        "        \"\"\"\n",
        "        Create a sentence dataset out of the input string.\n",
        "        \"\"\"\n",
        "        dataframe = pd.DataFrame({'sentence': [], **{feat: [] for feat in features}})\n",
        "        markup = self.markup\n",
        "        for sent in markup:\n",
        "            sent_text = sent.metadata['text']\n",
        "            root = sent.filter(head=0, upos='VERB')\n",
        "            if len(root) == 1:\n",
        "                if root[0]['feats'] \\\n",
        "                and all(feat in root[0]['feats'] for feat in features) \\\n",
        "                and sent.metadata['genre'] not in self.avoid_genres:\n",
        "                    feature_tags = [root[0]['feats'][feat] for feat in features]\n",
        "                    dataframe.loc[len(dataframe.index)] = [sent_text, *feature_tags]\n",
        "        return dataframe"
      ],
      "metadata": {
        "id": "5U88sA38hJF7"
      },
      "execution_count": null,
      "outputs": []
    },
    {
      "cell_type": "code",
      "source": [
        "with open(TRAIN_DATA_PATH, 'r', encoding='utf-8') as f:\n",
        "    train_data = parse_incr(f)\n",
        "    train_conllu_handler = CoNLLUSentenceHandler(train_data, ['wiki', 'news'])\n",
        "\n",
        "with open(TEST_DATA_PATH, 'r', encoding='utf-8') as f:\n",
        "    test_data = parse_incr(f)\n",
        "    test_conllu_handler = CoNLLUSentenceHandler(test_data, ['wiki', 'news'])"
      ],
      "metadata": {
        "id": "OqBt2i7bhW0b"
      },
      "execution_count": null,
      "outputs": []
    },
    {
      "cell_type": "code",
      "source": [
        "train_conllu_handler.dataframe.head()"
      ],
      "metadata": {
        "colab": {
          "base_uri": "https://localhost:8080/",
          "height": 206
        },
        "id": "cBdeOAs6hYh1",
        "outputId": "92035cae-a204-4779-b9bc-09400d60807b"
      },
      "execution_count": null,
      "outputs": [
        {
          "output_type": "execute_result",
          "data": {
            "text/plain": [
              "                                            sentence Tense Aspect\n",
              "0                               Снова приобрел дозу,  Past   Perf\n",
              "1                  Уже не та на лоб спадает челка...  Pres    Imp\n",
              "2  Но ты не живешь по-евангельски, и это — причин...  Pres    Imp\n",
              "3                  Ведь этот цветок цветёт для меня!  Pres    Imp\n",
              "4                    Как свет добра струился с глаз!  Past    Imp"
            ],
            "text/html": [
              "\n",
              "  <div id=\"df-81db9f17-9784-46a6-9ad6-fa8983b87d01\" class=\"colab-df-container\">\n",
              "    <div>\n",
              "<style scoped>\n",
              "    .dataframe tbody tr th:only-of-type {\n",
              "        vertical-align: middle;\n",
              "    }\n",
              "\n",
              "    .dataframe tbody tr th {\n",
              "        vertical-align: top;\n",
              "    }\n",
              "\n",
              "    .dataframe thead th {\n",
              "        text-align: right;\n",
              "    }\n",
              "</style>\n",
              "<table border=\"1\" class=\"dataframe\">\n",
              "  <thead>\n",
              "    <tr style=\"text-align: right;\">\n",
              "      <th></th>\n",
              "      <th>sentence</th>\n",
              "      <th>Tense</th>\n",
              "      <th>Aspect</th>\n",
              "    </tr>\n",
              "  </thead>\n",
              "  <tbody>\n",
              "    <tr>\n",
              "      <th>0</th>\n",
              "      <td>Снова приобрел дозу,</td>\n",
              "      <td>Past</td>\n",
              "      <td>Perf</td>\n",
              "    </tr>\n",
              "    <tr>\n",
              "      <th>1</th>\n",
              "      <td>Уже не та на лоб спадает челка...</td>\n",
              "      <td>Pres</td>\n",
              "      <td>Imp</td>\n",
              "    </tr>\n",
              "    <tr>\n",
              "      <th>2</th>\n",
              "      <td>Но ты не живешь по-евангельски, и это — причин...</td>\n",
              "      <td>Pres</td>\n",
              "      <td>Imp</td>\n",
              "    </tr>\n",
              "    <tr>\n",
              "      <th>3</th>\n",
              "      <td>Ведь этот цветок цветёт для меня!</td>\n",
              "      <td>Pres</td>\n",
              "      <td>Imp</td>\n",
              "    </tr>\n",
              "    <tr>\n",
              "      <th>4</th>\n",
              "      <td>Как свет добра струился с глаз!</td>\n",
              "      <td>Past</td>\n",
              "      <td>Imp</td>\n",
              "    </tr>\n",
              "  </tbody>\n",
              "</table>\n",
              "</div>\n",
              "    <div class=\"colab-df-buttons\">\n",
              "\n",
              "  <div class=\"colab-df-container\">\n",
              "    <button class=\"colab-df-convert\" onclick=\"convertToInteractive('df-81db9f17-9784-46a6-9ad6-fa8983b87d01')\"\n",
              "            title=\"Convert this dataframe to an interactive table.\"\n",
              "            style=\"display:none;\">\n",
              "\n",
              "  <svg xmlns=\"http://www.w3.org/2000/svg\" height=\"24px\" viewBox=\"0 -960 960 960\">\n",
              "    <path d=\"M120-120v-720h720v720H120Zm60-500h600v-160H180v160Zm220 220h160v-160H400v160Zm0 220h160v-160H400v160ZM180-400h160v-160H180v160Zm440 0h160v-160H620v160ZM180-180h160v-160H180v160Zm440 0h160v-160H620v160Z\"/>\n",
              "  </svg>\n",
              "    </button>\n",
              "\n",
              "  <style>\n",
              "    .colab-df-container {\n",
              "      display:flex;\n",
              "      gap: 12px;\n",
              "    }\n",
              "\n",
              "    .colab-df-convert {\n",
              "      background-color: #E8F0FE;\n",
              "      border: none;\n",
              "      border-radius: 50%;\n",
              "      cursor: pointer;\n",
              "      display: none;\n",
              "      fill: #1967D2;\n",
              "      height: 32px;\n",
              "      padding: 0 0 0 0;\n",
              "      width: 32px;\n",
              "    }\n",
              "\n",
              "    .colab-df-convert:hover {\n",
              "      background-color: #E2EBFA;\n",
              "      box-shadow: 0px 1px 2px rgba(60, 64, 67, 0.3), 0px 1px 3px 1px rgba(60, 64, 67, 0.15);\n",
              "      fill: #174EA6;\n",
              "    }\n",
              "\n",
              "    .colab-df-buttons div {\n",
              "      margin-bottom: 4px;\n",
              "    }\n",
              "\n",
              "    [theme=dark] .colab-df-convert {\n",
              "      background-color: #3B4455;\n",
              "      fill: #D2E3FC;\n",
              "    }\n",
              "\n",
              "    [theme=dark] .colab-df-convert:hover {\n",
              "      background-color: #434B5C;\n",
              "      box-shadow: 0px 1px 3px 1px rgba(0, 0, 0, 0.15);\n",
              "      filter: drop-shadow(0px 1px 2px rgba(0, 0, 0, 0.3));\n",
              "      fill: #FFFFFF;\n",
              "    }\n",
              "  </style>\n",
              "\n",
              "    <script>\n",
              "      const buttonEl =\n",
              "        document.querySelector('#df-81db9f17-9784-46a6-9ad6-fa8983b87d01 button.colab-df-convert');\n",
              "      buttonEl.style.display =\n",
              "        google.colab.kernel.accessAllowed ? 'block' : 'none';\n",
              "\n",
              "      async function convertToInteractive(key) {\n",
              "        const element = document.querySelector('#df-81db9f17-9784-46a6-9ad6-fa8983b87d01');\n",
              "        const dataTable =\n",
              "          await google.colab.kernel.invokeFunction('convertToInteractive',\n",
              "                                                    [key], {});\n",
              "        if (!dataTable) return;\n",
              "\n",
              "        const docLinkHtml = 'Like what you see? Visit the ' +\n",
              "          '<a target=\"_blank\" href=https://colab.research.google.com/notebooks/data_table.ipynb>data table notebook</a>'\n",
              "          + ' to learn more about interactive tables.';\n",
              "        element.innerHTML = '';\n",
              "        dataTable['output_type'] = 'display_data';\n",
              "        await google.colab.output.renderOutput(dataTable, element);\n",
              "        const docLink = document.createElement('div');\n",
              "        docLink.innerHTML = docLinkHtml;\n",
              "        element.appendChild(docLink);\n",
              "      }\n",
              "    </script>\n",
              "  </div>\n",
              "\n",
              "\n",
              "<div id=\"df-802ddbbe-8c57-4443-b9ba-978a788df589\">\n",
              "  <button class=\"colab-df-quickchart\" onclick=\"quickchart('df-802ddbbe-8c57-4443-b9ba-978a788df589')\"\n",
              "            title=\"Suggest charts.\"\n",
              "            style=\"display:none;\">\n",
              "\n",
              "<svg xmlns=\"http://www.w3.org/2000/svg\" height=\"24px\"viewBox=\"0 0 24 24\"\n",
              "     width=\"24px\">\n",
              "    <g>\n",
              "        <path d=\"M19 3H5c-1.1 0-2 .9-2 2v14c0 1.1.9 2 2 2h14c1.1 0 2-.9 2-2V5c0-1.1-.9-2-2-2zM9 17H7v-7h2v7zm4 0h-2V7h2v10zm4 0h-2v-4h2v4z\"/>\n",
              "    </g>\n",
              "</svg>\n",
              "  </button>\n",
              "\n",
              "<style>\n",
              "  .colab-df-quickchart {\n",
              "      --bg-color: #E8F0FE;\n",
              "      --fill-color: #1967D2;\n",
              "      --hover-bg-color: #E2EBFA;\n",
              "      --hover-fill-color: #174EA6;\n",
              "      --disabled-fill-color: #AAA;\n",
              "      --disabled-bg-color: #DDD;\n",
              "  }\n",
              "\n",
              "  [theme=dark] .colab-df-quickchart {\n",
              "      --bg-color: #3B4455;\n",
              "      --fill-color: #D2E3FC;\n",
              "      --hover-bg-color: #434B5C;\n",
              "      --hover-fill-color: #FFFFFF;\n",
              "      --disabled-bg-color: #3B4455;\n",
              "      --disabled-fill-color: #666;\n",
              "  }\n",
              "\n",
              "  .colab-df-quickchart {\n",
              "    background-color: var(--bg-color);\n",
              "    border: none;\n",
              "    border-radius: 50%;\n",
              "    cursor: pointer;\n",
              "    display: none;\n",
              "    fill: var(--fill-color);\n",
              "    height: 32px;\n",
              "    padding: 0;\n",
              "    width: 32px;\n",
              "  }\n",
              "\n",
              "  .colab-df-quickchart:hover {\n",
              "    background-color: var(--hover-bg-color);\n",
              "    box-shadow: 0 1px 2px rgba(60, 64, 67, 0.3), 0 1px 3px 1px rgba(60, 64, 67, 0.15);\n",
              "    fill: var(--button-hover-fill-color);\n",
              "  }\n",
              "\n",
              "  .colab-df-quickchart-complete:disabled,\n",
              "  .colab-df-quickchart-complete:disabled:hover {\n",
              "    background-color: var(--disabled-bg-color);\n",
              "    fill: var(--disabled-fill-color);\n",
              "    box-shadow: none;\n",
              "  }\n",
              "\n",
              "  .colab-df-spinner {\n",
              "    border: 2px solid var(--fill-color);\n",
              "    border-color: transparent;\n",
              "    border-bottom-color: var(--fill-color);\n",
              "    animation:\n",
              "      spin 1s steps(1) infinite;\n",
              "  }\n",
              "\n",
              "  @keyframes spin {\n",
              "    0% {\n",
              "      border-color: transparent;\n",
              "      border-bottom-color: var(--fill-color);\n",
              "      border-left-color: var(--fill-color);\n",
              "    }\n",
              "    20% {\n",
              "      border-color: transparent;\n",
              "      border-left-color: var(--fill-color);\n",
              "      border-top-color: var(--fill-color);\n",
              "    }\n",
              "    30% {\n",
              "      border-color: transparent;\n",
              "      border-left-color: var(--fill-color);\n",
              "      border-top-color: var(--fill-color);\n",
              "      border-right-color: var(--fill-color);\n",
              "    }\n",
              "    40% {\n",
              "      border-color: transparent;\n",
              "      border-right-color: var(--fill-color);\n",
              "      border-top-color: var(--fill-color);\n",
              "    }\n",
              "    60% {\n",
              "      border-color: transparent;\n",
              "      border-right-color: var(--fill-color);\n",
              "    }\n",
              "    80% {\n",
              "      border-color: transparent;\n",
              "      border-right-color: var(--fill-color);\n",
              "      border-bottom-color: var(--fill-color);\n",
              "    }\n",
              "    90% {\n",
              "      border-color: transparent;\n",
              "      border-bottom-color: var(--fill-color);\n",
              "    }\n",
              "  }\n",
              "</style>\n",
              "\n",
              "  <script>\n",
              "    async function quickchart(key) {\n",
              "      const quickchartButtonEl =\n",
              "        document.querySelector('#' + key + ' button');\n",
              "      quickchartButtonEl.disabled = true;  // To prevent multiple clicks.\n",
              "      quickchartButtonEl.classList.add('colab-df-spinner');\n",
              "      try {\n",
              "        const charts = await google.colab.kernel.invokeFunction(\n",
              "            'suggestCharts', [key], {});\n",
              "      } catch (error) {\n",
              "        console.error('Error during call to suggestCharts:', error);\n",
              "      }\n",
              "      quickchartButtonEl.classList.remove('colab-df-spinner');\n",
              "      quickchartButtonEl.classList.add('colab-df-quickchart-complete');\n",
              "    }\n",
              "    (() => {\n",
              "      let quickchartButtonEl =\n",
              "        document.querySelector('#df-802ddbbe-8c57-4443-b9ba-978a788df589 button');\n",
              "      quickchartButtonEl.style.display =\n",
              "        google.colab.kernel.accessAllowed ? 'block' : 'none';\n",
              "    })();\n",
              "  </script>\n",
              "</div>\n",
              "    </div>\n",
              "  </div>\n"
            ]
          },
          "metadata": {},
          "execution_count": 52
        }
      ]
    },
    {
      "cell_type": "code",
      "source": [
        "train_conllu_handler.dataframe.groupby(['Tense', 'Aspect']).count()"
      ],
      "metadata": {
        "colab": {
          "base_uri": "https://localhost:8080/",
          "height": 206
        },
        "id": "1cDIXhTRo79N",
        "outputId": "71efdf96-b837-4c8f-b429-e2188e59cdba"
      },
      "execution_count": null,
      "outputs": [
        {
          "output_type": "execute_result",
          "data": {
            "text/plain": [
              "              sentence\n",
              "Tense Aspect          \n",
              "Fut   Perf         376\n",
              "Past  Imp         1003\n",
              "      Perf        2013\n",
              "Pres  Imp         3442"
            ],
            "text/html": [
              "\n",
              "  <div id=\"df-c588aef7-fb74-4715-8b17-36519ee4e6f0\" class=\"colab-df-container\">\n",
              "    <div>\n",
              "<style scoped>\n",
              "    .dataframe tbody tr th:only-of-type {\n",
              "        vertical-align: middle;\n",
              "    }\n",
              "\n",
              "    .dataframe tbody tr th {\n",
              "        vertical-align: top;\n",
              "    }\n",
              "\n",
              "    .dataframe thead th {\n",
              "        text-align: right;\n",
              "    }\n",
              "</style>\n",
              "<table border=\"1\" class=\"dataframe\">\n",
              "  <thead>\n",
              "    <tr style=\"text-align: right;\">\n",
              "      <th></th>\n",
              "      <th></th>\n",
              "      <th>sentence</th>\n",
              "    </tr>\n",
              "    <tr>\n",
              "      <th>Tense</th>\n",
              "      <th>Aspect</th>\n",
              "      <th></th>\n",
              "    </tr>\n",
              "  </thead>\n",
              "  <tbody>\n",
              "    <tr>\n",
              "      <th>Fut</th>\n",
              "      <th>Perf</th>\n",
              "      <td>376</td>\n",
              "    </tr>\n",
              "    <tr>\n",
              "      <th rowspan=\"2\" valign=\"top\">Past</th>\n",
              "      <th>Imp</th>\n",
              "      <td>1003</td>\n",
              "    </tr>\n",
              "    <tr>\n",
              "      <th>Perf</th>\n",
              "      <td>2013</td>\n",
              "    </tr>\n",
              "    <tr>\n",
              "      <th>Pres</th>\n",
              "      <th>Imp</th>\n",
              "      <td>3442</td>\n",
              "    </tr>\n",
              "  </tbody>\n",
              "</table>\n",
              "</div>\n",
              "    <div class=\"colab-df-buttons\">\n",
              "\n",
              "  <div class=\"colab-df-container\">\n",
              "    <button class=\"colab-df-convert\" onclick=\"convertToInteractive('df-c588aef7-fb74-4715-8b17-36519ee4e6f0')\"\n",
              "            title=\"Convert this dataframe to an interactive table.\"\n",
              "            style=\"display:none;\">\n",
              "\n",
              "  <svg xmlns=\"http://www.w3.org/2000/svg\" height=\"24px\" viewBox=\"0 -960 960 960\">\n",
              "    <path d=\"M120-120v-720h720v720H120Zm60-500h600v-160H180v160Zm220 220h160v-160H400v160Zm0 220h160v-160H400v160ZM180-400h160v-160H180v160Zm440 0h160v-160H620v160ZM180-180h160v-160H180v160Zm440 0h160v-160H620v160Z\"/>\n",
              "  </svg>\n",
              "    </button>\n",
              "\n",
              "  <style>\n",
              "    .colab-df-container {\n",
              "      display:flex;\n",
              "      gap: 12px;\n",
              "    }\n",
              "\n",
              "    .colab-df-convert {\n",
              "      background-color: #E8F0FE;\n",
              "      border: none;\n",
              "      border-radius: 50%;\n",
              "      cursor: pointer;\n",
              "      display: none;\n",
              "      fill: #1967D2;\n",
              "      height: 32px;\n",
              "      padding: 0 0 0 0;\n",
              "      width: 32px;\n",
              "    }\n",
              "\n",
              "    .colab-df-convert:hover {\n",
              "      background-color: #E2EBFA;\n",
              "      box-shadow: 0px 1px 2px rgba(60, 64, 67, 0.3), 0px 1px 3px 1px rgba(60, 64, 67, 0.15);\n",
              "      fill: #174EA6;\n",
              "    }\n",
              "\n",
              "    .colab-df-buttons div {\n",
              "      margin-bottom: 4px;\n",
              "    }\n",
              "\n",
              "    [theme=dark] .colab-df-convert {\n",
              "      background-color: #3B4455;\n",
              "      fill: #D2E3FC;\n",
              "    }\n",
              "\n",
              "    [theme=dark] .colab-df-convert:hover {\n",
              "      background-color: #434B5C;\n",
              "      box-shadow: 0px 1px 3px 1px rgba(0, 0, 0, 0.15);\n",
              "      filter: drop-shadow(0px 1px 2px rgba(0, 0, 0, 0.3));\n",
              "      fill: #FFFFFF;\n",
              "    }\n",
              "  </style>\n",
              "\n",
              "    <script>\n",
              "      const buttonEl =\n",
              "        document.querySelector('#df-c588aef7-fb74-4715-8b17-36519ee4e6f0 button.colab-df-convert');\n",
              "      buttonEl.style.display =\n",
              "        google.colab.kernel.accessAllowed ? 'block' : 'none';\n",
              "\n",
              "      async function convertToInteractive(key) {\n",
              "        const element = document.querySelector('#df-c588aef7-fb74-4715-8b17-36519ee4e6f0');\n",
              "        const dataTable =\n",
              "          await google.colab.kernel.invokeFunction('convertToInteractive',\n",
              "                                                    [key], {});\n",
              "        if (!dataTable) return;\n",
              "\n",
              "        const docLinkHtml = 'Like what you see? Visit the ' +\n",
              "          '<a target=\"_blank\" href=https://colab.research.google.com/notebooks/data_table.ipynb>data table notebook</a>'\n",
              "          + ' to learn more about interactive tables.';\n",
              "        element.innerHTML = '';\n",
              "        dataTable['output_type'] = 'display_data';\n",
              "        await google.colab.output.renderOutput(dataTable, element);\n",
              "        const docLink = document.createElement('div');\n",
              "        docLink.innerHTML = docLinkHtml;\n",
              "        element.appendChild(docLink);\n",
              "      }\n",
              "    </script>\n",
              "  </div>\n",
              "\n",
              "\n",
              "<div id=\"df-db5c5b81-0130-48a8-9841-969acfc515f4\">\n",
              "  <button class=\"colab-df-quickchart\" onclick=\"quickchart('df-db5c5b81-0130-48a8-9841-969acfc515f4')\"\n",
              "            title=\"Suggest charts.\"\n",
              "            style=\"display:none;\">\n",
              "\n",
              "<svg xmlns=\"http://www.w3.org/2000/svg\" height=\"24px\"viewBox=\"0 0 24 24\"\n",
              "     width=\"24px\">\n",
              "    <g>\n",
              "        <path d=\"M19 3H5c-1.1 0-2 .9-2 2v14c0 1.1.9 2 2 2h14c1.1 0 2-.9 2-2V5c0-1.1-.9-2-2-2zM9 17H7v-7h2v7zm4 0h-2V7h2v10zm4 0h-2v-4h2v4z\"/>\n",
              "    </g>\n",
              "</svg>\n",
              "  </button>\n",
              "\n",
              "<style>\n",
              "  .colab-df-quickchart {\n",
              "      --bg-color: #E8F0FE;\n",
              "      --fill-color: #1967D2;\n",
              "      --hover-bg-color: #E2EBFA;\n",
              "      --hover-fill-color: #174EA6;\n",
              "      --disabled-fill-color: #AAA;\n",
              "      --disabled-bg-color: #DDD;\n",
              "  }\n",
              "\n",
              "  [theme=dark] .colab-df-quickchart {\n",
              "      --bg-color: #3B4455;\n",
              "      --fill-color: #D2E3FC;\n",
              "      --hover-bg-color: #434B5C;\n",
              "      --hover-fill-color: #FFFFFF;\n",
              "      --disabled-bg-color: #3B4455;\n",
              "      --disabled-fill-color: #666;\n",
              "  }\n",
              "\n",
              "  .colab-df-quickchart {\n",
              "    background-color: var(--bg-color);\n",
              "    border: none;\n",
              "    border-radius: 50%;\n",
              "    cursor: pointer;\n",
              "    display: none;\n",
              "    fill: var(--fill-color);\n",
              "    height: 32px;\n",
              "    padding: 0;\n",
              "    width: 32px;\n",
              "  }\n",
              "\n",
              "  .colab-df-quickchart:hover {\n",
              "    background-color: var(--hover-bg-color);\n",
              "    box-shadow: 0 1px 2px rgba(60, 64, 67, 0.3), 0 1px 3px 1px rgba(60, 64, 67, 0.15);\n",
              "    fill: var(--button-hover-fill-color);\n",
              "  }\n",
              "\n",
              "  .colab-df-quickchart-complete:disabled,\n",
              "  .colab-df-quickchart-complete:disabled:hover {\n",
              "    background-color: var(--disabled-bg-color);\n",
              "    fill: var(--disabled-fill-color);\n",
              "    box-shadow: none;\n",
              "  }\n",
              "\n",
              "  .colab-df-spinner {\n",
              "    border: 2px solid var(--fill-color);\n",
              "    border-color: transparent;\n",
              "    border-bottom-color: var(--fill-color);\n",
              "    animation:\n",
              "      spin 1s steps(1) infinite;\n",
              "  }\n",
              "\n",
              "  @keyframes spin {\n",
              "    0% {\n",
              "      border-color: transparent;\n",
              "      border-bottom-color: var(--fill-color);\n",
              "      border-left-color: var(--fill-color);\n",
              "    }\n",
              "    20% {\n",
              "      border-color: transparent;\n",
              "      border-left-color: var(--fill-color);\n",
              "      border-top-color: var(--fill-color);\n",
              "    }\n",
              "    30% {\n",
              "      border-color: transparent;\n",
              "      border-left-color: var(--fill-color);\n",
              "      border-top-color: var(--fill-color);\n",
              "      border-right-color: var(--fill-color);\n",
              "    }\n",
              "    40% {\n",
              "      border-color: transparent;\n",
              "      border-right-color: var(--fill-color);\n",
              "      border-top-color: var(--fill-color);\n",
              "    }\n",
              "    60% {\n",
              "      border-color: transparent;\n",
              "      border-right-color: var(--fill-color);\n",
              "    }\n",
              "    80% {\n",
              "      border-color: transparent;\n",
              "      border-right-color: var(--fill-color);\n",
              "      border-bottom-color: var(--fill-color);\n",
              "    }\n",
              "    90% {\n",
              "      border-color: transparent;\n",
              "      border-bottom-color: var(--fill-color);\n",
              "    }\n",
              "  }\n",
              "</style>\n",
              "\n",
              "  <script>\n",
              "    async function quickchart(key) {\n",
              "      const quickchartButtonEl =\n",
              "        document.querySelector('#' + key + ' button');\n",
              "      quickchartButtonEl.disabled = true;  // To prevent multiple clicks.\n",
              "      quickchartButtonEl.classList.add('colab-df-spinner');\n",
              "      try {\n",
              "        const charts = await google.colab.kernel.invokeFunction(\n",
              "            'suggestCharts', [key], {});\n",
              "      } catch (error) {\n",
              "        console.error('Error during call to suggestCharts:', error);\n",
              "      }\n",
              "      quickchartButtonEl.classList.remove('colab-df-spinner');\n",
              "      quickchartButtonEl.classList.add('colab-df-quickchart-complete');\n",
              "    }\n",
              "    (() => {\n",
              "      let quickchartButtonEl =\n",
              "        document.querySelector('#df-db5c5b81-0130-48a8-9841-969acfc515f4 button');\n",
              "      quickchartButtonEl.style.display =\n",
              "        google.colab.kernel.accessAllowed ? 'block' : 'none';\n",
              "    })();\n",
              "  </script>\n",
              "</div>\n",
              "    </div>\n",
              "  </div>\n"
            ]
          },
          "metadata": {},
          "execution_count": 57
        }
      ]
    },
    {
      "cell_type": "code",
      "source": [
        "le_tense = LabelEncoder()\n",
        "y_tense_train = le_tense.fit_transform(train_conllu_handler.dataframe.Tense)"
      ],
      "metadata": {
        "id": "HPEQMUExhxfS"
      },
      "execution_count": null,
      "outputs": []
    },
    {
      "cell_type": "code",
      "source": [
        "le_tense.classes_"
      ],
      "metadata": {
        "colab": {
          "base_uri": "https://localhost:8080/"
        },
        "id": "jcUzmPyNiBWj",
        "outputId": "3495076c-0e7a-448d-9473-c193a8de1862"
      },
      "execution_count": null,
      "outputs": [
        {
          "output_type": "execute_result",
          "data": {
            "text/plain": [
              "array(['Fut', 'Past', 'Pres'], dtype=object)"
            ]
          },
          "metadata": {},
          "execution_count": 11
        }
      ]
    },
    {
      "cell_type": "code",
      "source": [
        "y_tense_test = le_tense.transform(test_conllu_handler.dataframe.Tense)"
      ],
      "metadata": {
        "id": "As3SVP9gocEb"
      },
      "execution_count": null,
      "outputs": []
    },
    {
      "cell_type": "code",
      "source": [
        "le_aspect = LabelEncoder()\n",
        "y_aspect_train = le_aspect.fit_transform(train_conllu_handler.dataframe.Aspect)"
      ],
      "metadata": {
        "id": "ZJsV9-M_ot9a"
      },
      "execution_count": null,
      "outputs": []
    },
    {
      "cell_type": "code",
      "source": [
        "le_aspect.classes_"
      ],
      "metadata": {
        "colab": {
          "base_uri": "https://localhost:8080/"
        },
        "id": "ojbyrlRkouAK",
        "outputId": "1f6975fd-b422-4629-b5a9-9c4491489937"
      },
      "execution_count": null,
      "outputs": [
        {
          "output_type": "execute_result",
          "data": {
            "text/plain": [
              "array(['Imp', 'Perf'], dtype=object)"
            ]
          },
          "metadata": {},
          "execution_count": 14
        }
      ]
    },
    {
      "cell_type": "code",
      "source": [
        "y_aspect_test = le_aspect.transform(test_conllu_handler.dataframe.Aspect)"
      ],
      "metadata": {
        "id": "xkclMTC1ouD0"
      },
      "execution_count": null,
      "outputs": []
    },
    {
      "cell_type": "code",
      "source": [
        "le_aspect"
      ],
      "metadata": {
        "colab": {
          "base_uri": "https://localhost:8080/",
          "height": 75
        },
        "id": "2rgYyU3rurA7",
        "outputId": "87c1b334-4f53-4d8b-f9ed-9f69c6fb4c22"
      },
      "execution_count": null,
      "outputs": [
        {
          "output_type": "execute_result",
          "data": {
            "text/plain": [
              "LabelEncoder()"
            ],
            "text/html": [
              "<style>#sk-container-id-5 {color: black;background-color: white;}#sk-container-id-5 pre{padding: 0;}#sk-container-id-5 div.sk-toggleable {background-color: white;}#sk-container-id-5 label.sk-toggleable__label {cursor: pointer;display: block;width: 100%;margin-bottom: 0;padding: 0.3em;box-sizing: border-box;text-align: center;}#sk-container-id-5 label.sk-toggleable__label-arrow:before {content: \"▸\";float: left;margin-right: 0.25em;color: #696969;}#sk-container-id-5 label.sk-toggleable__label-arrow:hover:before {color: black;}#sk-container-id-5 div.sk-estimator:hover label.sk-toggleable__label-arrow:before {color: black;}#sk-container-id-5 div.sk-toggleable__content {max-height: 0;max-width: 0;overflow: hidden;text-align: left;background-color: #f0f8ff;}#sk-container-id-5 div.sk-toggleable__content pre {margin: 0.2em;color: black;border-radius: 0.25em;background-color: #f0f8ff;}#sk-container-id-5 input.sk-toggleable__control:checked~div.sk-toggleable__content {max-height: 200px;max-width: 100%;overflow: auto;}#sk-container-id-5 input.sk-toggleable__control:checked~label.sk-toggleable__label-arrow:before {content: \"▾\";}#sk-container-id-5 div.sk-estimator input.sk-toggleable__control:checked~label.sk-toggleable__label {background-color: #d4ebff;}#sk-container-id-5 div.sk-label input.sk-toggleable__control:checked~label.sk-toggleable__label {background-color: #d4ebff;}#sk-container-id-5 input.sk-hidden--visually {border: 0;clip: rect(1px 1px 1px 1px);clip: rect(1px, 1px, 1px, 1px);height: 1px;margin: -1px;overflow: hidden;padding: 0;position: absolute;width: 1px;}#sk-container-id-5 div.sk-estimator {font-family: monospace;background-color: #f0f8ff;border: 1px dotted black;border-radius: 0.25em;box-sizing: border-box;margin-bottom: 0.5em;}#sk-container-id-5 div.sk-estimator:hover {background-color: #d4ebff;}#sk-container-id-5 div.sk-parallel-item::after {content: \"\";width: 100%;border-bottom: 1px solid gray;flex-grow: 1;}#sk-container-id-5 div.sk-label:hover label.sk-toggleable__label {background-color: #d4ebff;}#sk-container-id-5 div.sk-serial::before {content: \"\";position: absolute;border-left: 1px solid gray;box-sizing: border-box;top: 0;bottom: 0;left: 50%;z-index: 0;}#sk-container-id-5 div.sk-serial {display: flex;flex-direction: column;align-items: center;background-color: white;padding-right: 0.2em;padding-left: 0.2em;position: relative;}#sk-container-id-5 div.sk-item {position: relative;z-index: 1;}#sk-container-id-5 div.sk-parallel {display: flex;align-items: stretch;justify-content: center;background-color: white;position: relative;}#sk-container-id-5 div.sk-item::before, #sk-container-id-5 div.sk-parallel-item::before {content: \"\";position: absolute;border-left: 1px solid gray;box-sizing: border-box;top: 0;bottom: 0;left: 50%;z-index: -1;}#sk-container-id-5 div.sk-parallel-item {display: flex;flex-direction: column;z-index: 1;position: relative;background-color: white;}#sk-container-id-5 div.sk-parallel-item:first-child::after {align-self: flex-end;width: 50%;}#sk-container-id-5 div.sk-parallel-item:last-child::after {align-self: flex-start;width: 50%;}#sk-container-id-5 div.sk-parallel-item:only-child::after {width: 0;}#sk-container-id-5 div.sk-dashed-wrapped {border: 1px dashed gray;margin: 0 0.4em 0.5em 0.4em;box-sizing: border-box;padding-bottom: 0.4em;background-color: white;}#sk-container-id-5 div.sk-label label {font-family: monospace;font-weight: bold;display: inline-block;line-height: 1.2em;}#sk-container-id-5 div.sk-label-container {text-align: center;}#sk-container-id-5 div.sk-container {/* jupyter's `normalize.less` sets `[hidden] { display: none; }` but bootstrap.min.css set `[hidden] { display: none !important; }` so we also need the `!important` here to be able to override the default hidden behavior on the sphinx rendered scikit-learn.org. See: https://github.com/scikit-learn/scikit-learn/issues/21755 */display: inline-block !important;position: relative;}#sk-container-id-5 div.sk-text-repr-fallback {display: none;}</style><div id=\"sk-container-id-5\" class=\"sk-top-container\"><div class=\"sk-text-repr-fallback\"><pre>LabelEncoder()</pre><b>In a Jupyter environment, please rerun this cell to show the HTML representation or trust the notebook. <br />On GitHub, the HTML representation is unable to render, please try loading this page with nbviewer.org.</b></div><div class=\"sk-container\" hidden><div class=\"sk-item\"><div class=\"sk-estimator sk-toggleable\"><input class=\"sk-toggleable__control sk-hidden--visually\" id=\"sk-estimator-id-5\" type=\"checkbox\" checked><label for=\"sk-estimator-id-5\" class=\"sk-toggleable__label sk-toggleable__label-arrow\">LabelEncoder</label><div class=\"sk-toggleable__content\"><pre>LabelEncoder()</pre></div></div></div></div></div>"
            ]
          },
          "metadata": {},
          "execution_count": 63
        }
      ]
    },
    {
      "cell_type": "markdown",
      "source": [
        "## Experiment"
      ],
      "metadata": {
        "id": "we78iVaLT9ZJ"
      }
    },
    {
      "cell_type": "code",
      "source": [
        "DEVICE = \"cuda\""
      ],
      "metadata": {
        "id": "xdgL8K0ziTP-"
      },
      "execution_count": null,
      "outputs": []
    },
    {
      "cell_type": "code",
      "source": [
        "from transformers import AutoTokenizer, BertForMaskedLM, BertModel\n",
        "from transformers.tokenization_utils_base import BatchEncoding\n",
        "from tqdm import tqdm\n",
        "import torch"
      ],
      "metadata": {
        "id": "hXxy1cgoiF-u"
      },
      "execution_count": null,
      "outputs": []
    },
    {
      "cell_type": "code",
      "source": [
        "sent_tokenizer = AutoTokenizer.from_pretrained(\"DeepPavlov/rubert-base-cased-sentence\")\n",
        "sent_model = BertModel.from_pretrained(\"DeepPavlov/rubert-base-cased-sentence\").to(DEVICE)"
      ],
      "metadata": {
        "colab": {
          "base_uri": "https://localhost:8080/",
          "height": 317,
          "referenced_widgets": [
            "0e82c253617a4a0fa4295d342fd05d8b",
            "fe1385971bff475a8461614600d25f63",
            "ecf674285e3943fd8bf4a00025c38988",
            "9ced6a91981d415e99659a0de4d510c4",
            "77429898a11248c6a1ce3149015f5f9c",
            "afb0a7dd10a5466b8444f4b294787c85",
            "779ef4921a9d43ba82fc148f1c21e53e",
            "8e84a245518247a3940bf53c13e79253",
            "8eda54a4d64a4dbfb2b869524d538d3f",
            "c518370c03eb4a4eacda6475b666d357",
            "454810895ea24135ab4c73c44553d60a",
            "b4cb1087c6f94667b597b8e38fdcc098",
            "acc41ba9d05b4aedb1b030ab5c6ffafa",
            "25915adfa2544ef1b56d006f2a1e2381",
            "27b2434178124c349be07207b2f0b5ca",
            "4f8b7b9e5ff741189c2a748141d6be5d",
            "d4036650d14747beb7d1a7a8e8f7d9cb",
            "6a8c66df247e403bb167130743ea20b1",
            "1db0fdaf059548eea555e3c4f4e13a2e",
            "232dfe3d5881404ab885f9446c36897d",
            "774be06039c3403c9c9338d0a6d3184e",
            "ef649d8644ed4a0fb1be33cc80757d07",
            "06187b2ada004b1ea67033c340406a6f",
            "a98808684117422bb25eaefde4558fed",
            "f407a48e6df94388981caa68ed08c680",
            "27db127b07be4e2993a71504357e83de",
            "6fcbee7f7213429682408031896ed802",
            "7a5e2c7371c54e1e87920f7bd079f5eb",
            "fe5d86d8547b431e8d5bc5f06e45740c",
            "69478c581d87442d8881048699f173f7",
            "ec7bab493f0b478bbddb4753e582b54f",
            "320d3bdb558b455d86bcdd4d39eabc83",
            "f51c697c2cae47b3b04c408087bec9df",
            "07cccd9b3ac044fa9b8e76d654c9932a",
            "eac945d801de4d23964aa5a4a3023c7e",
            "ef042d52660c4a60902ba6bcfb6276dd",
            "6563b5de58ce4648a9aa49812b27a78d",
            "136a42f0448c4319999cbe4f5a432f9a",
            "c68873c406ec4defada1c6a27c3f339e",
            "8997d3c8f5e64f7c98dfe1a623a83233",
            "ba681c1ea984496dbfce936de4c7b9db",
            "def90fd8c64a4c4e85d73dfb6f8e6e05",
            "9afc4327b32042db8e2431fd04ba8dad",
            "99544c89c9b8403fb94449ccfa6e3fdd",
            "95ae44d35c934a8c9126b89a157982b1",
            "be5fb6508e2748a18b109b34dcac612c",
            "e93299e9834c465bb7c2756895ba0614",
            "1ad35d63b8d6436b9f71d06dd04a7f0d",
            "740daef8cb9947f09c6e11ac9359f584",
            "b4994aa3766e4851af3c2ca20d8fcd55",
            "803735c4a6d743cf9b8f8d951fdb03f5",
            "7bd011b4fc9d428d82b4f4f92533083a",
            "89a83b3b3a654956955ebc59fd768532",
            "a600e5f91de7405aa51554b32aa03af5",
            "83ce1b536f8944ad9cb5719f366da74d"
          ]
        },
        "id": "h4_Suy3liHuv",
        "outputId": "666bb1c7-b890-491c-de73-c0d3850663d1"
      },
      "execution_count": null,
      "outputs": [
        {
          "output_type": "display_data",
          "data": {
            "text/plain": [
              "Downloading (…)okenizer_config.json:   0%|          | 0.00/24.0 [00:00<?, ?B/s]"
            ],
            "application/vnd.jupyter.widget-view+json": {
              "version_major": 2,
              "version_minor": 0,
              "model_id": "0e82c253617a4a0fa4295d342fd05d8b"
            }
          },
          "metadata": {}
        },
        {
          "output_type": "display_data",
          "data": {
            "text/plain": [
              "Downloading (…)lve/main/config.json:   0%|          | 0.00/642 [00:00<?, ?B/s]"
            ],
            "application/vnd.jupyter.widget-view+json": {
              "version_major": 2,
              "version_minor": 0,
              "model_id": "b4cb1087c6f94667b597b8e38fdcc098"
            }
          },
          "metadata": {}
        },
        {
          "output_type": "display_data",
          "data": {
            "text/plain": [
              "Downloading (…)solve/main/vocab.txt:   0%|          | 0.00/1.65M [00:00<?, ?B/s]"
            ],
            "application/vnd.jupyter.widget-view+json": {
              "version_major": 2,
              "version_minor": 0,
              "model_id": "06187b2ada004b1ea67033c340406a6f"
            }
          },
          "metadata": {}
        },
        {
          "output_type": "display_data",
          "data": {
            "text/plain": [
              "Downloading (…)cial_tokens_map.json:   0%|          | 0.00/112 [00:00<?, ?B/s]"
            ],
            "application/vnd.jupyter.widget-view+json": {
              "version_major": 2,
              "version_minor": 0,
              "model_id": "07cccd9b3ac044fa9b8e76d654c9932a"
            }
          },
          "metadata": {}
        },
        {
          "output_type": "display_data",
          "data": {
            "text/plain": [
              "Downloading pytorch_model.bin:   0%|          | 0.00/711M [00:00<?, ?B/s]"
            ],
            "application/vnd.jupyter.widget-view+json": {
              "version_major": 2,
              "version_minor": 0,
              "model_id": "95ae44d35c934a8c9126b89a157982b1"
            }
          },
          "metadata": {}
        }
      ]
    },
    {
      "cell_type": "code",
      "source": [
        "def mean_pooling(model_output, attention_mask):\n",
        "    token_embeddings = model_output[0] # First element of model_output contains all token embeddings\n",
        "    input_mask_expanded = attention_mask.unsqueeze(-1).expand(token_embeddings.size()).float()\n",
        "    return torch.sum(token_embeddings * input_mask_expanded, 1) / torch.clamp(input_mask_expanded.sum(1), min=1e-9)"
      ],
      "metadata": {
        "id": "Hf9YSbTRiWaL"
      },
      "execution_count": null,
      "outputs": []
    },
    {
      "cell_type": "code",
      "source": [
        "def sentence_embed(sentences, model):\n",
        "    encoded_input = sent_tokenizer(sentences,\n",
        "                    padding=True,\n",
        "                    truncation=True,\n",
        "                    return_tensors=\"pt\").to(DEVICE)\n",
        "    encoded_input_split_input_ids = torch.split(encoded_input['input_ids'], 10)\n",
        "    encoded_input_split_token_type_ids = torch.split(encoded_input['token_type_ids'], 10)\n",
        "    encoded_input_split_attention_mask = torch.split(encoded_input['attention_mask'], 10)\n",
        "\n",
        "    outputs = []\n",
        "    for input_ids, token_type_ids, attention_mask in tqdm(zip(encoded_input_split_input_ids,\n",
        "                                                              encoded_input_split_token_type_ids,\n",
        "                                                              encoded_input_split_attention_mask)):\n",
        "        input_dict = {'input_ids': input_ids,\n",
        "                      'token_type_ids': token_type_ids,\n",
        "                      'attention_mask': attention_mask}\n",
        "        batch_encoding = BatchEncoding(input_dict)\n",
        "        with torch.no_grad():\n",
        "            model_output = model(**batch_encoding)\n",
        "        sentence_embeddings = mean_pooling(model_output, batch_encoding['attention_mask'])\n",
        "        outputs.append(sentence_embeddings)\n",
        "    return torch.cat(outputs, 0)"
      ],
      "metadata": {
        "id": "Qb2u_W0emfBn"
      },
      "execution_count": null,
      "outputs": []
    },
    {
      "cell_type": "code",
      "source": [
        "train_sentences = list(train_conllu_handler.dataframe.sentence)"
      ],
      "metadata": {
        "id": "_DHK-yYzifXY"
      },
      "execution_count": null,
      "outputs": []
    },
    {
      "cell_type": "code",
      "source": [
        "X_train = sentence_embed(train_sentences, sent_model)"
      ],
      "metadata": {
        "colab": {
          "base_uri": "https://localhost:8080/"
        },
        "id": "G82TFT_2m2xF",
        "outputId": "154623b3-31a5-4696-9b46-d2503aad2b20"
      },
      "execution_count": null,
      "outputs": [
        {
          "output_type": "stream",
          "name": "stderr",
          "text": [
            "Asking to truncate to max_length but no maximum length is provided and the model has no predefined maximum length. Default to no truncation.\n",
            "684it [01:55,  5.94it/s]\n"
          ]
        }
      ]
    },
    {
      "cell_type": "code",
      "source": [
        "X_train = X_train.to('cpu').numpy()"
      ],
      "metadata": {
        "id": "4C4MEjr4nDlQ"
      },
      "execution_count": null,
      "outputs": []
    },
    {
      "cell_type": "code",
      "source": [
        "test_sentences = list(test_conllu_handler.dataframe.sentence)"
      ],
      "metadata": {
        "id": "Nxdrryjuk02h"
      },
      "execution_count": null,
      "outputs": []
    },
    {
      "cell_type": "code",
      "source": [
        "X_test = sentence_embed(test_sentences, sent_model)"
      ],
      "metadata": {
        "colab": {
          "base_uri": "https://localhost:8080/"
        },
        "id": "837xrEUek05i",
        "outputId": "46c5a3c0-1cc8-4c46-860e-6f235b619b91"
      },
      "execution_count": null,
      "outputs": [
        {
          "output_type": "stream",
          "name": "stderr",
          "text": [
            "34it [00:02, 16.51it/s]\n"
          ]
        }
      ]
    },
    {
      "cell_type": "code",
      "source": [
        "X_test = X_test.to('cpu').numpy()"
      ],
      "metadata": {
        "id": "EIdhIrb8nyRT"
      },
      "execution_count": null,
      "outputs": []
    },
    {
      "cell_type": "code",
      "source": [
        "X_test"
      ],
      "metadata": {
        "colab": {
          "base_uri": "https://localhost:8080/"
        },
        "id": "tCLdEz5hQe6t",
        "outputId": "de28d4ac-aa10-4171-d4fd-1688bbb3da0b"
      },
      "execution_count": null,
      "outputs": [
        {
          "output_type": "execute_result",
          "data": {
            "text/plain": [
              "array([[-0.948893  , -0.33011666,  0.13756968, ..., -0.09647324,\n",
              "        -0.6287118 ,  0.8583425 ],\n",
              "       [-0.24631986, -0.80171496, -0.24494423, ...,  0.13394766,\n",
              "        -0.7702907 ,  1.3716329 ],\n",
              "       [-0.31510836, -1.2277154 , -0.21950327, ..., -0.23889814,\n",
              "        -0.5170102 ,  1.4287614 ],\n",
              "       ...,\n",
              "       [-0.98610306,  0.53517973,  0.1859416 , ...,  0.9492559 ,\n",
              "         0.41824195,  0.90690064],\n",
              "       [-0.8599921 , -0.49004853,  0.22836645, ..., -0.20890138,\n",
              "        -0.00267607,  0.8887618 ],\n",
              "       [ 0.34976372, -0.39239755, -0.12239909, ..., -0.07524933,\n",
              "        -0.13357325,  1.4212575 ]], dtype=float32)"
            ]
          },
          "metadata": {},
          "execution_count": 27
        }
      ]
    },
    {
      "cell_type": "markdown",
      "source": [
        "## Evaluation"
      ],
      "metadata": {
        "id": "MigJv335Tziw"
      }
    },
    {
      "cell_type": "code",
      "source": [
        "from sklearn.metrics import precision_recall_fscore_support"
      ],
      "metadata": {
        "id": "5xIYXhxCW6gv"
      },
      "execution_count": null,
      "outputs": []
    },
    {
      "cell_type": "code",
      "source": [
        "from sklearn import svm, tree, neighbors"
      ],
      "metadata": {
        "id": "mK3cFgwwk0-4"
      },
      "execution_count": null,
      "outputs": []
    },
    {
      "cell_type": "code",
      "source": [
        "np.unique(y_tense_train, return_counts=True)"
      ],
      "metadata": {
        "colab": {
          "base_uri": "https://localhost:8080/"
        },
        "id": "uePs4sdXUtdl",
        "outputId": "f11babd3-cef6-4691-a181-86ba5d24b5f0"
      },
      "execution_count": null,
      "outputs": [
        {
          "output_type": "execute_result",
          "data": {
            "text/plain": [
              "(array([0, 1, 2]), array([ 376, 3016, 3442]))"
            ]
          },
          "metadata": {},
          "execution_count": 30
        }
      ]
    },
    {
      "cell_type": "code",
      "source": [
        "3442/(3442+3016+376)"
      ],
      "metadata": {
        "colab": {
          "base_uri": "https://localhost:8080/"
        },
        "id": "vO6-4c7-VCzT",
        "outputId": "34667246-858a-4d86-bd68-138a54d86139"
      },
      "execution_count": null,
      "outputs": [
        {
          "output_type": "execute_result",
          "data": {
            "text/plain": [
              "0.5036581796897863"
            ]
          },
          "metadata": {},
          "execution_count": 31
        }
      ]
    },
    {
      "cell_type": "code",
      "source": [
        "np.unique(y_aspect_train, return_counts=True)"
      ],
      "metadata": {
        "colab": {
          "base_uri": "https://localhost:8080/"
        },
        "id": "4vmNJzVIVIyW",
        "outputId": "816bfdb0-49ec-47bd-f13e-da009f160659"
      },
      "execution_count": null,
      "outputs": [
        {
          "output_type": "execute_result",
          "data": {
            "text/plain": [
              "(array([0, 1]), array([4445, 2389]))"
            ]
          },
          "metadata": {},
          "execution_count": 32
        }
      ]
    },
    {
      "cell_type": "code",
      "source": [
        "4445/(4445+2389)"
      ],
      "metadata": {
        "colab": {
          "base_uri": "https://localhost:8080/"
        },
        "id": "dtkqQmLoVKZP",
        "outputId": "03832070-b501-426d-c320-877080372d67"
      },
      "execution_count": null,
      "outputs": [
        {
          "output_type": "execute_result",
          "data": {
            "text/plain": [
              "0.6504243488440152"
            ]
          },
          "metadata": {},
          "execution_count": 33
        }
      ]
    },
    {
      "cell_type": "markdown",
      "source": [
        "### SVM"
      ],
      "metadata": {
        "id": "4sviBHRMRaPU"
      }
    },
    {
      "cell_type": "code",
      "source": [
        "tense_svm_clf = svm.SVC()"
      ],
      "metadata": {
        "id": "94gw1grjkZxg"
      },
      "execution_count": null,
      "outputs": []
    },
    {
      "cell_type": "code",
      "source": [
        "tense_svm_clf.fit(X_train, y_tense_train)"
      ],
      "metadata": {
        "colab": {
          "base_uri": "https://localhost:8080/",
          "height": 75
        },
        "id": "lk9DpiggktI8",
        "outputId": "e9ce7f8a-f11c-46d0-b5dd-42f0c2518225"
      },
      "execution_count": null,
      "outputs": [
        {
          "output_type": "execute_result",
          "data": {
            "text/plain": [
              "SVC()"
            ],
            "text/html": [
              "<style>#sk-container-id-4 {color: black;background-color: white;}#sk-container-id-4 pre{padding: 0;}#sk-container-id-4 div.sk-toggleable {background-color: white;}#sk-container-id-4 label.sk-toggleable__label {cursor: pointer;display: block;width: 100%;margin-bottom: 0;padding: 0.3em;box-sizing: border-box;text-align: center;}#sk-container-id-4 label.sk-toggleable__label-arrow:before {content: \"▸\";float: left;margin-right: 0.25em;color: #696969;}#sk-container-id-4 label.sk-toggleable__label-arrow:hover:before {color: black;}#sk-container-id-4 div.sk-estimator:hover label.sk-toggleable__label-arrow:before {color: black;}#sk-container-id-4 div.sk-toggleable__content {max-height: 0;max-width: 0;overflow: hidden;text-align: left;background-color: #f0f8ff;}#sk-container-id-4 div.sk-toggleable__content pre {margin: 0.2em;color: black;border-radius: 0.25em;background-color: #f0f8ff;}#sk-container-id-4 input.sk-toggleable__control:checked~div.sk-toggleable__content {max-height: 200px;max-width: 100%;overflow: auto;}#sk-container-id-4 input.sk-toggleable__control:checked~label.sk-toggleable__label-arrow:before {content: \"▾\";}#sk-container-id-4 div.sk-estimator input.sk-toggleable__control:checked~label.sk-toggleable__label {background-color: #d4ebff;}#sk-container-id-4 div.sk-label input.sk-toggleable__control:checked~label.sk-toggleable__label {background-color: #d4ebff;}#sk-container-id-4 input.sk-hidden--visually {border: 0;clip: rect(1px 1px 1px 1px);clip: rect(1px, 1px, 1px, 1px);height: 1px;margin: -1px;overflow: hidden;padding: 0;position: absolute;width: 1px;}#sk-container-id-4 div.sk-estimator {font-family: monospace;background-color: #f0f8ff;border: 1px dotted black;border-radius: 0.25em;box-sizing: border-box;margin-bottom: 0.5em;}#sk-container-id-4 div.sk-estimator:hover {background-color: #d4ebff;}#sk-container-id-4 div.sk-parallel-item::after {content: \"\";width: 100%;border-bottom: 1px solid gray;flex-grow: 1;}#sk-container-id-4 div.sk-label:hover label.sk-toggleable__label {background-color: #d4ebff;}#sk-container-id-4 div.sk-serial::before {content: \"\";position: absolute;border-left: 1px solid gray;box-sizing: border-box;top: 0;bottom: 0;left: 50%;z-index: 0;}#sk-container-id-4 div.sk-serial {display: flex;flex-direction: column;align-items: center;background-color: white;padding-right: 0.2em;padding-left: 0.2em;position: relative;}#sk-container-id-4 div.sk-item {position: relative;z-index: 1;}#sk-container-id-4 div.sk-parallel {display: flex;align-items: stretch;justify-content: center;background-color: white;position: relative;}#sk-container-id-4 div.sk-item::before, #sk-container-id-4 div.sk-parallel-item::before {content: \"\";position: absolute;border-left: 1px solid gray;box-sizing: border-box;top: 0;bottom: 0;left: 50%;z-index: -1;}#sk-container-id-4 div.sk-parallel-item {display: flex;flex-direction: column;z-index: 1;position: relative;background-color: white;}#sk-container-id-4 div.sk-parallel-item:first-child::after {align-self: flex-end;width: 50%;}#sk-container-id-4 div.sk-parallel-item:last-child::after {align-self: flex-start;width: 50%;}#sk-container-id-4 div.sk-parallel-item:only-child::after {width: 0;}#sk-container-id-4 div.sk-dashed-wrapped {border: 1px dashed gray;margin: 0 0.4em 0.5em 0.4em;box-sizing: border-box;padding-bottom: 0.4em;background-color: white;}#sk-container-id-4 div.sk-label label {font-family: monospace;font-weight: bold;display: inline-block;line-height: 1.2em;}#sk-container-id-4 div.sk-label-container {text-align: center;}#sk-container-id-4 div.sk-container {/* jupyter's `normalize.less` sets `[hidden] { display: none; }` but bootstrap.min.css set `[hidden] { display: none !important; }` so we also need the `!important` here to be able to override the default hidden behavior on the sphinx rendered scikit-learn.org. See: https://github.com/scikit-learn/scikit-learn/issues/21755 */display: inline-block !important;position: relative;}#sk-container-id-4 div.sk-text-repr-fallback {display: none;}</style><div id=\"sk-container-id-4\" class=\"sk-top-container\"><div class=\"sk-text-repr-fallback\"><pre>SVC()</pre><b>In a Jupyter environment, please rerun this cell to show the HTML representation or trust the notebook. <br />On GitHub, the HTML representation is unable to render, please try loading this page with nbviewer.org.</b></div><div class=\"sk-container\" hidden><div class=\"sk-item\"><div class=\"sk-estimator sk-toggleable\"><input class=\"sk-toggleable__control sk-hidden--visually\" id=\"sk-estimator-id-4\" type=\"checkbox\" checked><label for=\"sk-estimator-id-4\" class=\"sk-toggleable__label sk-toggleable__label-arrow\">SVC</label><div class=\"sk-toggleable__content\"><pre>SVC()</pre></div></div></div></div></div>"
            ]
          },
          "metadata": {},
          "execution_count": 67
        }
      ]
    },
    {
      "cell_type": "code",
      "source": [
        "tense_svm_predictions = tense_svm_clf.predict(X_test)"
      ],
      "metadata": {
        "id": "Y_4fg2znk7My"
      },
      "execution_count": null,
      "outputs": []
    },
    {
      "cell_type": "code",
      "source": [
        "(tense_svm_predictions == y_tense_test).mean()"
      ],
      "metadata": {
        "colab": {
          "base_uri": "https://localhost:8080/"
        },
        "id": "hSNzGbnNoPax",
        "outputId": "5f697ca9-8de1-4a7c-f817-64cdee6ebc7b"
      },
      "execution_count": null,
      "outputs": [
        {
          "output_type": "execute_result",
          "data": {
            "text/plain": [
              "0.6355421686746988"
            ]
          },
          "metadata": {},
          "execution_count": 35
        }
      ]
    },
    {
      "cell_type": "code",
      "source": [
        "precision_recall_fscore_support(tense_svm_predictions, y_tense_test, average='weighted')"
      ],
      "metadata": {
        "colab": {
          "base_uri": "https://localhost:8080/"
        },
        "id": "cG8Lqjj6XAjn",
        "outputId": "dd4b8be8-184c-42c4-a315-1f2223c57104"
      },
      "execution_count": null,
      "outputs": [
        {
          "output_type": "stream",
          "name": "stderr",
          "text": [
            "/usr/local/lib/python3.10/dist-packages/sklearn/metrics/_classification.py:1344: UndefinedMetricWarning: Recall and F-score are ill-defined and being set to 0.0 in labels with no true samples. Use `zero_division` parameter to control this behavior.\n",
            "  _warn_prf(average, modifier, msg_start, len(result))\n"
          ]
        },
        {
          "output_type": "execute_result",
          "data": {
            "text/plain": [
              "(0.7019618449988249, 0.6355421686746988, 0.6670252468162645, None)"
            ]
          },
          "metadata": {},
          "execution_count": 69
        }
      ]
    },
    {
      "cell_type": "code",
      "source": [
        "aspect_svm_clf = svm.SVC()"
      ],
      "metadata": {
        "id": "MXw0la6EoqOr"
      },
      "execution_count": null,
      "outputs": []
    },
    {
      "cell_type": "code",
      "source": [
        "aspect_svm_clf.fit(X_train, y_aspect_train)"
      ],
      "metadata": {
        "colab": {
          "base_uri": "https://localhost:8080/",
          "height": 75
        },
        "id": "PWTiK9IGpBA-",
        "outputId": "91e6ab47-e2be-4d3e-852b-b4fbfb5d746b"
      },
      "execution_count": null,
      "outputs": [
        {
          "output_type": "execute_result",
          "data": {
            "text/plain": [
              "SVC()"
            ],
            "text/html": [
              "<style>#sk-container-id-2 {color: black;background-color: white;}#sk-container-id-2 pre{padding: 0;}#sk-container-id-2 div.sk-toggleable {background-color: white;}#sk-container-id-2 label.sk-toggleable__label {cursor: pointer;display: block;width: 100%;margin-bottom: 0;padding: 0.3em;box-sizing: border-box;text-align: center;}#sk-container-id-2 label.sk-toggleable__label-arrow:before {content: \"▸\";float: left;margin-right: 0.25em;color: #696969;}#sk-container-id-2 label.sk-toggleable__label-arrow:hover:before {color: black;}#sk-container-id-2 div.sk-estimator:hover label.sk-toggleable__label-arrow:before {color: black;}#sk-container-id-2 div.sk-toggleable__content {max-height: 0;max-width: 0;overflow: hidden;text-align: left;background-color: #f0f8ff;}#sk-container-id-2 div.sk-toggleable__content pre {margin: 0.2em;color: black;border-radius: 0.25em;background-color: #f0f8ff;}#sk-container-id-2 input.sk-toggleable__control:checked~div.sk-toggleable__content {max-height: 200px;max-width: 100%;overflow: auto;}#sk-container-id-2 input.sk-toggleable__control:checked~label.sk-toggleable__label-arrow:before {content: \"▾\";}#sk-container-id-2 div.sk-estimator input.sk-toggleable__control:checked~label.sk-toggleable__label {background-color: #d4ebff;}#sk-container-id-2 div.sk-label input.sk-toggleable__control:checked~label.sk-toggleable__label {background-color: #d4ebff;}#sk-container-id-2 input.sk-hidden--visually {border: 0;clip: rect(1px 1px 1px 1px);clip: rect(1px, 1px, 1px, 1px);height: 1px;margin: -1px;overflow: hidden;padding: 0;position: absolute;width: 1px;}#sk-container-id-2 div.sk-estimator {font-family: monospace;background-color: #f0f8ff;border: 1px dotted black;border-radius: 0.25em;box-sizing: border-box;margin-bottom: 0.5em;}#sk-container-id-2 div.sk-estimator:hover {background-color: #d4ebff;}#sk-container-id-2 div.sk-parallel-item::after {content: \"\";width: 100%;border-bottom: 1px solid gray;flex-grow: 1;}#sk-container-id-2 div.sk-label:hover label.sk-toggleable__label {background-color: #d4ebff;}#sk-container-id-2 div.sk-serial::before {content: \"\";position: absolute;border-left: 1px solid gray;box-sizing: border-box;top: 0;bottom: 0;left: 50%;z-index: 0;}#sk-container-id-2 div.sk-serial {display: flex;flex-direction: column;align-items: center;background-color: white;padding-right: 0.2em;padding-left: 0.2em;position: relative;}#sk-container-id-2 div.sk-item {position: relative;z-index: 1;}#sk-container-id-2 div.sk-parallel {display: flex;align-items: stretch;justify-content: center;background-color: white;position: relative;}#sk-container-id-2 div.sk-item::before, #sk-container-id-2 div.sk-parallel-item::before {content: \"\";position: absolute;border-left: 1px solid gray;box-sizing: border-box;top: 0;bottom: 0;left: 50%;z-index: -1;}#sk-container-id-2 div.sk-parallel-item {display: flex;flex-direction: column;z-index: 1;position: relative;background-color: white;}#sk-container-id-2 div.sk-parallel-item:first-child::after {align-self: flex-end;width: 50%;}#sk-container-id-2 div.sk-parallel-item:last-child::after {align-self: flex-start;width: 50%;}#sk-container-id-2 div.sk-parallel-item:only-child::after {width: 0;}#sk-container-id-2 div.sk-dashed-wrapped {border: 1px dashed gray;margin: 0 0.4em 0.5em 0.4em;box-sizing: border-box;padding-bottom: 0.4em;background-color: white;}#sk-container-id-2 div.sk-label label {font-family: monospace;font-weight: bold;display: inline-block;line-height: 1.2em;}#sk-container-id-2 div.sk-label-container {text-align: center;}#sk-container-id-2 div.sk-container {/* jupyter's `normalize.less` sets `[hidden] { display: none; }` but bootstrap.min.css set `[hidden] { display: none !important; }` so we also need the `!important` here to be able to override the default hidden behavior on the sphinx rendered scikit-learn.org. See: https://github.com/scikit-learn/scikit-learn/issues/21755 */display: inline-block !important;position: relative;}#sk-container-id-2 div.sk-text-repr-fallback {display: none;}</style><div id=\"sk-container-id-2\" class=\"sk-top-container\"><div class=\"sk-text-repr-fallback\"><pre>SVC()</pre><b>In a Jupyter environment, please rerun this cell to show the HTML representation or trust the notebook. <br />On GitHub, the HTML representation is unable to render, please try loading this page with nbviewer.org.</b></div><div class=\"sk-container\" hidden><div class=\"sk-item\"><div class=\"sk-estimator sk-toggleable\"><input class=\"sk-toggleable__control sk-hidden--visually\" id=\"sk-estimator-id-2\" type=\"checkbox\" checked><label for=\"sk-estimator-id-2\" class=\"sk-toggleable__label sk-toggleable__label-arrow\">SVC</label><div class=\"sk-toggleable__content\"><pre>SVC()</pre></div></div></div></div></div>"
            ]
          },
          "metadata": {},
          "execution_count": 48
        }
      ]
    },
    {
      "cell_type": "code",
      "source": [
        "aspect_svm_predictions = aspect_svm_clf.predict(X_test)"
      ],
      "metadata": {
        "id": "hw1mfySCpEjM"
      },
      "execution_count": null,
      "outputs": []
    },
    {
      "cell_type": "code",
      "source": [
        "aspect_svm_predictions"
      ],
      "metadata": {
        "colab": {
          "base_uri": "https://localhost:8080/"
        },
        "id": "NXslIq2jT9ch",
        "outputId": "f365bb91-1657-4dce-811c-89a4f07e5cf0"
      },
      "execution_count": null,
      "outputs": [
        {
          "output_type": "execute_result",
          "data": {
            "text/plain": [
              "array([1, 0, 0, 1, 0, 0, 0, 0, 0, 0, 1, 1, 0, 0, 1, 1, 0, 0, 0, 0, 0, 0,\n",
              "       1, 0, 1, 0, 0, 0, 0, 0, 0, 0, 0, 0, 0, 0, 0, 0, 0, 0, 1, 0, 0, 0,\n",
              "       0, 0, 0, 1, 0, 0, 0, 0, 0, 0, 0, 0, 0, 0, 0, 0, 0, 0, 0, 0, 0, 1,\n",
              "       0, 1, 1, 0, 0, 0, 1, 1, 0, 1, 0, 0, 0, 0, 1, 0, 0, 1, 1, 1, 0, 1,\n",
              "       0, 0, 0, 1, 1, 0, 0, 1, 0, 0, 0, 1, 0, 0, 0, 1, 0, 0, 0, 0, 0, 1,\n",
              "       1, 0, 0, 0, 0, 0, 1, 0, 0, 1, 1, 0, 0, 0, 0, 0, 0, 0, 0, 0, 1, 0,\n",
              "       0, 0, 0, 0, 0, 0, 1, 0, 0, 0, 0, 0, 0, 0, 0, 0, 0, 0, 0, 0, 1, 1,\n",
              "       0, 0, 1, 0, 0, 0, 0, 0, 0, 0, 0, 0, 0, 0, 0, 0, 1, 0, 1, 0, 0, 0,\n",
              "       0, 0, 0, 0, 0, 0, 0, 0, 0, 0, 0, 0, 0, 0, 1, 0, 0, 0, 0, 0, 0, 0,\n",
              "       0, 0, 0, 0, 0, 0, 1, 0, 0, 1, 0, 0, 1, 0, 1, 0, 0, 1, 0, 0, 0, 1,\n",
              "       0, 1, 0, 0, 1, 0, 0, 0, 0, 0, 0, 0, 0, 0, 0, 0, 0, 0, 0, 0, 0, 0,\n",
              "       0, 1, 0, 0, 0, 0, 0, 1, 0, 0, 0, 0, 1, 0, 0, 0, 0, 0, 0, 1, 1, 1,\n",
              "       0, 0, 1, 0, 0, 0, 0, 0, 0, 0, 0, 0, 0, 0, 0, 0, 0, 0, 0, 0, 0, 0,\n",
              "       0, 0, 0, 0, 0, 0, 0, 0, 0, 0, 1, 0, 0, 1, 1, 0, 0, 0, 0, 0, 0, 0,\n",
              "       0, 0, 0, 1, 0, 0, 1, 0, 0, 0, 0, 0, 0, 1, 0, 1, 0, 0, 0, 0, 0, 1,\n",
              "       1, 0])"
            ]
          },
          "metadata": {},
          "execution_count": 50
        }
      ]
    },
    {
      "cell_type": "code",
      "source": [
        "precision_recall_fscore_support(aspect_svm_predictions, y_aspect_test, average='weighted')"
      ],
      "metadata": {
        "colab": {
          "base_uri": "https://localhost:8080/"
        },
        "id": "ycjc2F06pLpl",
        "outputId": "730da922-060a-4d1a-8e39-dcfc80bd7363"
      },
      "execution_count": null,
      "outputs": [
        {
          "output_type": "execute_result",
          "data": {
            "text/plain": [
              "(0.79639690838827, 0.7018072289156626, 0.7305787000631955, None)"
            ]
          },
          "metadata": {},
          "execution_count": 71
        }
      ]
    },
    {
      "cell_type": "markdown",
      "source": [
        "### SVM balanced"
      ],
      "metadata": {
        "id": "GBRuOvgkRn1z"
      }
    },
    {
      "cell_type": "code",
      "source": [
        "tense_bal_clf = svm.SVC(class_weight=\"balanced\")"
      ],
      "metadata": {
        "id": "gPE6VZ27pOD-"
      },
      "execution_count": null,
      "outputs": []
    },
    {
      "cell_type": "code",
      "source": [
        "tense_bal_clf.fit(X_train, y_tense_train)"
      ],
      "metadata": {
        "colab": {
          "base_uri": "https://localhost:8080/",
          "height": 75
        },
        "outputId": "b17f8b8d-73c4-4059-a287-82d665c261dc",
        "id": "-oHn-Fc3SVtu"
      },
      "execution_count": null,
      "outputs": [
        {
          "output_type": "execute_result",
          "data": {
            "text/plain": [
              "SVC(class_weight='balanced')"
            ],
            "text/html": [
              "<style>#sk-container-id-5 {color: black;background-color: white;}#sk-container-id-5 pre{padding: 0;}#sk-container-id-5 div.sk-toggleable {background-color: white;}#sk-container-id-5 label.sk-toggleable__label {cursor: pointer;display: block;width: 100%;margin-bottom: 0;padding: 0.3em;box-sizing: border-box;text-align: center;}#sk-container-id-5 label.sk-toggleable__label-arrow:before {content: \"▸\";float: left;margin-right: 0.25em;color: #696969;}#sk-container-id-5 label.sk-toggleable__label-arrow:hover:before {color: black;}#sk-container-id-5 div.sk-estimator:hover label.sk-toggleable__label-arrow:before {color: black;}#sk-container-id-5 div.sk-toggleable__content {max-height: 0;max-width: 0;overflow: hidden;text-align: left;background-color: #f0f8ff;}#sk-container-id-5 div.sk-toggleable__content pre {margin: 0.2em;color: black;border-radius: 0.25em;background-color: #f0f8ff;}#sk-container-id-5 input.sk-toggleable__control:checked~div.sk-toggleable__content {max-height: 200px;max-width: 100%;overflow: auto;}#sk-container-id-5 input.sk-toggleable__control:checked~label.sk-toggleable__label-arrow:before {content: \"▾\";}#sk-container-id-5 div.sk-estimator input.sk-toggleable__control:checked~label.sk-toggleable__label {background-color: #d4ebff;}#sk-container-id-5 div.sk-label input.sk-toggleable__control:checked~label.sk-toggleable__label {background-color: #d4ebff;}#sk-container-id-5 input.sk-hidden--visually {border: 0;clip: rect(1px 1px 1px 1px);clip: rect(1px, 1px, 1px, 1px);height: 1px;margin: -1px;overflow: hidden;padding: 0;position: absolute;width: 1px;}#sk-container-id-5 div.sk-estimator {font-family: monospace;background-color: #f0f8ff;border: 1px dotted black;border-radius: 0.25em;box-sizing: border-box;margin-bottom: 0.5em;}#sk-container-id-5 div.sk-estimator:hover {background-color: #d4ebff;}#sk-container-id-5 div.sk-parallel-item::after {content: \"\";width: 100%;border-bottom: 1px solid gray;flex-grow: 1;}#sk-container-id-5 div.sk-label:hover label.sk-toggleable__label {background-color: #d4ebff;}#sk-container-id-5 div.sk-serial::before {content: \"\";position: absolute;border-left: 1px solid gray;box-sizing: border-box;top: 0;bottom: 0;left: 50%;z-index: 0;}#sk-container-id-5 div.sk-serial {display: flex;flex-direction: column;align-items: center;background-color: white;padding-right: 0.2em;padding-left: 0.2em;position: relative;}#sk-container-id-5 div.sk-item {position: relative;z-index: 1;}#sk-container-id-5 div.sk-parallel {display: flex;align-items: stretch;justify-content: center;background-color: white;position: relative;}#sk-container-id-5 div.sk-item::before, #sk-container-id-5 div.sk-parallel-item::before {content: \"\";position: absolute;border-left: 1px solid gray;box-sizing: border-box;top: 0;bottom: 0;left: 50%;z-index: -1;}#sk-container-id-5 div.sk-parallel-item {display: flex;flex-direction: column;z-index: 1;position: relative;background-color: white;}#sk-container-id-5 div.sk-parallel-item:first-child::after {align-self: flex-end;width: 50%;}#sk-container-id-5 div.sk-parallel-item:last-child::after {align-self: flex-start;width: 50%;}#sk-container-id-5 div.sk-parallel-item:only-child::after {width: 0;}#sk-container-id-5 div.sk-dashed-wrapped {border: 1px dashed gray;margin: 0 0.4em 0.5em 0.4em;box-sizing: border-box;padding-bottom: 0.4em;background-color: white;}#sk-container-id-5 div.sk-label label {font-family: monospace;font-weight: bold;display: inline-block;line-height: 1.2em;}#sk-container-id-5 div.sk-label-container {text-align: center;}#sk-container-id-5 div.sk-container {/* jupyter's `normalize.less` sets `[hidden] { display: none; }` but bootstrap.min.css set `[hidden] { display: none !important; }` so we also need the `!important` here to be able to override the default hidden behavior on the sphinx rendered scikit-learn.org. See: https://github.com/scikit-learn/scikit-learn/issues/21755 */display: inline-block !important;position: relative;}#sk-container-id-5 div.sk-text-repr-fallback {display: none;}</style><div id=\"sk-container-id-5\" class=\"sk-top-container\"><div class=\"sk-text-repr-fallback\"><pre>SVC(class_weight=&#x27;balanced&#x27;)</pre><b>In a Jupyter environment, please rerun this cell to show the HTML representation or trust the notebook. <br />On GitHub, the HTML representation is unable to render, please try loading this page with nbviewer.org.</b></div><div class=\"sk-container\" hidden><div class=\"sk-item\"><div class=\"sk-estimator sk-toggleable\"><input class=\"sk-toggleable__control sk-hidden--visually\" id=\"sk-estimator-id-5\" type=\"checkbox\" checked><label for=\"sk-estimator-id-5\" class=\"sk-toggleable__label sk-toggleable__label-arrow\">SVC</label><div class=\"sk-toggleable__content\"><pre>SVC(class_weight=&#x27;balanced&#x27;)</pre></div></div></div></div></div>"
            ]
          },
          "metadata": {},
          "execution_count": 73
        }
      ]
    },
    {
      "cell_type": "code",
      "source": [
        "tense_bal_predictions = tense_bal_clf.predict(X_test)"
      ],
      "metadata": {
        "id": "KINSS69ESVtv"
      },
      "execution_count": null,
      "outputs": []
    },
    {
      "cell_type": "code",
      "source": [
        "precision_recall_fscore_support(tense_bal_predictions, y_tense_test, average='weighted')"
      ],
      "metadata": {
        "colab": {
          "base_uri": "https://localhost:8080/"
        },
        "id": "XhRIRJ8rYn0k",
        "outputId": "5a5209b2-b338-4bcf-9bee-4af66fadcc75"
      },
      "execution_count": null,
      "outputs": [
        {
          "output_type": "execute_result",
          "data": {
            "text/plain": [
              "(0.6467996753253572, 0.6325301204819277, 0.6177304206638372, None)"
            ]
          },
          "metadata": {},
          "execution_count": 77
        }
      ]
    },
    {
      "cell_type": "code",
      "source": [
        "aspect_bal_clf = svm.SVC(class_weight=\"balanced\")"
      ],
      "metadata": {
        "id": "_HaQJ8-USVtv"
      },
      "execution_count": null,
      "outputs": []
    },
    {
      "cell_type": "code",
      "source": [
        "aspect_bal_clf.fit(X_train, y_aspect_train)"
      ],
      "metadata": {
        "colab": {
          "base_uri": "https://localhost:8080/",
          "height": 75
        },
        "outputId": "1a3e2a50-840f-4b88-b37c-8d6e4596aad6",
        "id": "k6hYZ4ODSVtv"
      },
      "execution_count": null,
      "outputs": [
        {
          "output_type": "execute_result",
          "data": {
            "text/plain": [
              "SVC(class_weight='balanced')"
            ],
            "text/html": [
              "<style>#sk-container-id-6 {color: black;background-color: white;}#sk-container-id-6 pre{padding: 0;}#sk-container-id-6 div.sk-toggleable {background-color: white;}#sk-container-id-6 label.sk-toggleable__label {cursor: pointer;display: block;width: 100%;margin-bottom: 0;padding: 0.3em;box-sizing: border-box;text-align: center;}#sk-container-id-6 label.sk-toggleable__label-arrow:before {content: \"▸\";float: left;margin-right: 0.25em;color: #696969;}#sk-container-id-6 label.sk-toggleable__label-arrow:hover:before {color: black;}#sk-container-id-6 div.sk-estimator:hover label.sk-toggleable__label-arrow:before {color: black;}#sk-container-id-6 div.sk-toggleable__content {max-height: 0;max-width: 0;overflow: hidden;text-align: left;background-color: #f0f8ff;}#sk-container-id-6 div.sk-toggleable__content pre {margin: 0.2em;color: black;border-radius: 0.25em;background-color: #f0f8ff;}#sk-container-id-6 input.sk-toggleable__control:checked~div.sk-toggleable__content {max-height: 200px;max-width: 100%;overflow: auto;}#sk-container-id-6 input.sk-toggleable__control:checked~label.sk-toggleable__label-arrow:before {content: \"▾\";}#sk-container-id-6 div.sk-estimator input.sk-toggleable__control:checked~label.sk-toggleable__label {background-color: #d4ebff;}#sk-container-id-6 div.sk-label input.sk-toggleable__control:checked~label.sk-toggleable__label {background-color: #d4ebff;}#sk-container-id-6 input.sk-hidden--visually {border: 0;clip: rect(1px 1px 1px 1px);clip: rect(1px, 1px, 1px, 1px);height: 1px;margin: -1px;overflow: hidden;padding: 0;position: absolute;width: 1px;}#sk-container-id-6 div.sk-estimator {font-family: monospace;background-color: #f0f8ff;border: 1px dotted black;border-radius: 0.25em;box-sizing: border-box;margin-bottom: 0.5em;}#sk-container-id-6 div.sk-estimator:hover {background-color: #d4ebff;}#sk-container-id-6 div.sk-parallel-item::after {content: \"\";width: 100%;border-bottom: 1px solid gray;flex-grow: 1;}#sk-container-id-6 div.sk-label:hover label.sk-toggleable__label {background-color: #d4ebff;}#sk-container-id-6 div.sk-serial::before {content: \"\";position: absolute;border-left: 1px solid gray;box-sizing: border-box;top: 0;bottom: 0;left: 50%;z-index: 0;}#sk-container-id-6 div.sk-serial {display: flex;flex-direction: column;align-items: center;background-color: white;padding-right: 0.2em;padding-left: 0.2em;position: relative;}#sk-container-id-6 div.sk-item {position: relative;z-index: 1;}#sk-container-id-6 div.sk-parallel {display: flex;align-items: stretch;justify-content: center;background-color: white;position: relative;}#sk-container-id-6 div.sk-item::before, #sk-container-id-6 div.sk-parallel-item::before {content: \"\";position: absolute;border-left: 1px solid gray;box-sizing: border-box;top: 0;bottom: 0;left: 50%;z-index: -1;}#sk-container-id-6 div.sk-parallel-item {display: flex;flex-direction: column;z-index: 1;position: relative;background-color: white;}#sk-container-id-6 div.sk-parallel-item:first-child::after {align-self: flex-end;width: 50%;}#sk-container-id-6 div.sk-parallel-item:last-child::after {align-self: flex-start;width: 50%;}#sk-container-id-6 div.sk-parallel-item:only-child::after {width: 0;}#sk-container-id-6 div.sk-dashed-wrapped {border: 1px dashed gray;margin: 0 0.4em 0.5em 0.4em;box-sizing: border-box;padding-bottom: 0.4em;background-color: white;}#sk-container-id-6 div.sk-label label {font-family: monospace;font-weight: bold;display: inline-block;line-height: 1.2em;}#sk-container-id-6 div.sk-label-container {text-align: center;}#sk-container-id-6 div.sk-container {/* jupyter's `normalize.less` sets `[hidden] { display: none; }` but bootstrap.min.css set `[hidden] { display: none !important; }` so we also need the `!important` here to be able to override the default hidden behavior on the sphinx rendered scikit-learn.org. See: https://github.com/scikit-learn/scikit-learn/issues/21755 */display: inline-block !important;position: relative;}#sk-container-id-6 div.sk-text-repr-fallback {display: none;}</style><div id=\"sk-container-id-6\" class=\"sk-top-container\"><div class=\"sk-text-repr-fallback\"><pre>SVC(class_weight=&#x27;balanced&#x27;)</pre><b>In a Jupyter environment, please rerun this cell to show the HTML representation or trust the notebook. <br />On GitHub, the HTML representation is unable to render, please try loading this page with nbviewer.org.</b></div><div class=\"sk-container\" hidden><div class=\"sk-item\"><div class=\"sk-estimator sk-toggleable\"><input class=\"sk-toggleable__control sk-hidden--visually\" id=\"sk-estimator-id-6\" type=\"checkbox\" checked><label for=\"sk-estimator-id-6\" class=\"sk-toggleable__label sk-toggleable__label-arrow\">SVC</label><div class=\"sk-toggleable__content\"><pre>SVC(class_weight=&#x27;balanced&#x27;)</pre></div></div></div></div></div>"
            ]
          },
          "metadata": {},
          "execution_count": 79
        }
      ]
    },
    {
      "cell_type": "code",
      "source": [
        "aspect_bal_predictions = aspect_bal_clf.predict(X_test)"
      ],
      "metadata": {
        "id": "kKzTqusOSVtw"
      },
      "execution_count": null,
      "outputs": []
    },
    {
      "cell_type": "code",
      "source": [
        "precision_recall_fscore_support(aspect_bal_predictions, y_aspect_test, average='weighted')"
      ],
      "metadata": {
        "colab": {
          "base_uri": "https://localhost:8080/"
        },
        "outputId": "fc358f07-dd28-4f58-cbe9-77b76a1f279a",
        "id": "R7oFoxToSVtw"
      },
      "execution_count": null,
      "outputs": [
        {
          "output_type": "execute_result",
          "data": {
            "text/plain": [
              "(0.6799670379631735, 0.6807228915662651, 0.6753318111886715, None)"
            ]
          },
          "metadata": {},
          "execution_count": 81
        }
      ]
    },
    {
      "cell_type": "markdown",
      "source": [
        "### KNN 50"
      ],
      "metadata": {
        "id": "HUAFaJt1gxh8"
      }
    },
    {
      "cell_type": "code",
      "source": [
        "tense_knn_clf = neighbors.KNeighborsClassifier(n_neighbors=50)"
      ],
      "metadata": {
        "id": "UaNi9Y5FgyB7"
      },
      "execution_count": null,
      "outputs": []
    },
    {
      "cell_type": "code",
      "source": [
        "tense_knn_clf.fit(X_train, y_tense_train)"
      ],
      "metadata": {
        "colab": {
          "base_uri": "https://localhost:8080/",
          "height": 75
        },
        "outputId": "c0acc4dc-59b6-49c8-f252-c695336dbb24",
        "id": "IIR9m8OIgyB7"
      },
      "execution_count": null,
      "outputs": [
        {
          "output_type": "execute_result",
          "data": {
            "text/plain": [
              "KNeighborsClassifier(n_neighbors=50)"
            ],
            "text/html": [
              "<style>#sk-container-id-3 {color: black;background-color: white;}#sk-container-id-3 pre{padding: 0;}#sk-container-id-3 div.sk-toggleable {background-color: white;}#sk-container-id-3 label.sk-toggleable__label {cursor: pointer;display: block;width: 100%;margin-bottom: 0;padding: 0.3em;box-sizing: border-box;text-align: center;}#sk-container-id-3 label.sk-toggleable__label-arrow:before {content: \"▸\";float: left;margin-right: 0.25em;color: #696969;}#sk-container-id-3 label.sk-toggleable__label-arrow:hover:before {color: black;}#sk-container-id-3 div.sk-estimator:hover label.sk-toggleable__label-arrow:before {color: black;}#sk-container-id-3 div.sk-toggleable__content {max-height: 0;max-width: 0;overflow: hidden;text-align: left;background-color: #f0f8ff;}#sk-container-id-3 div.sk-toggleable__content pre {margin: 0.2em;color: black;border-radius: 0.25em;background-color: #f0f8ff;}#sk-container-id-3 input.sk-toggleable__control:checked~div.sk-toggleable__content {max-height: 200px;max-width: 100%;overflow: auto;}#sk-container-id-3 input.sk-toggleable__control:checked~label.sk-toggleable__label-arrow:before {content: \"▾\";}#sk-container-id-3 div.sk-estimator input.sk-toggleable__control:checked~label.sk-toggleable__label {background-color: #d4ebff;}#sk-container-id-3 div.sk-label input.sk-toggleable__control:checked~label.sk-toggleable__label {background-color: #d4ebff;}#sk-container-id-3 input.sk-hidden--visually {border: 0;clip: rect(1px 1px 1px 1px);clip: rect(1px, 1px, 1px, 1px);height: 1px;margin: -1px;overflow: hidden;padding: 0;position: absolute;width: 1px;}#sk-container-id-3 div.sk-estimator {font-family: monospace;background-color: #f0f8ff;border: 1px dotted black;border-radius: 0.25em;box-sizing: border-box;margin-bottom: 0.5em;}#sk-container-id-3 div.sk-estimator:hover {background-color: #d4ebff;}#sk-container-id-3 div.sk-parallel-item::after {content: \"\";width: 100%;border-bottom: 1px solid gray;flex-grow: 1;}#sk-container-id-3 div.sk-label:hover label.sk-toggleable__label {background-color: #d4ebff;}#sk-container-id-3 div.sk-serial::before {content: \"\";position: absolute;border-left: 1px solid gray;box-sizing: border-box;top: 0;bottom: 0;left: 50%;z-index: 0;}#sk-container-id-3 div.sk-serial {display: flex;flex-direction: column;align-items: center;background-color: white;padding-right: 0.2em;padding-left: 0.2em;position: relative;}#sk-container-id-3 div.sk-item {position: relative;z-index: 1;}#sk-container-id-3 div.sk-parallel {display: flex;align-items: stretch;justify-content: center;background-color: white;position: relative;}#sk-container-id-3 div.sk-item::before, #sk-container-id-3 div.sk-parallel-item::before {content: \"\";position: absolute;border-left: 1px solid gray;box-sizing: border-box;top: 0;bottom: 0;left: 50%;z-index: -1;}#sk-container-id-3 div.sk-parallel-item {display: flex;flex-direction: column;z-index: 1;position: relative;background-color: white;}#sk-container-id-3 div.sk-parallel-item:first-child::after {align-self: flex-end;width: 50%;}#sk-container-id-3 div.sk-parallel-item:last-child::after {align-self: flex-start;width: 50%;}#sk-container-id-3 div.sk-parallel-item:only-child::after {width: 0;}#sk-container-id-3 div.sk-dashed-wrapped {border: 1px dashed gray;margin: 0 0.4em 0.5em 0.4em;box-sizing: border-box;padding-bottom: 0.4em;background-color: white;}#sk-container-id-3 div.sk-label label {font-family: monospace;font-weight: bold;display: inline-block;line-height: 1.2em;}#sk-container-id-3 div.sk-label-container {text-align: center;}#sk-container-id-3 div.sk-container {/* jupyter's `normalize.less` sets `[hidden] { display: none; }` but bootstrap.min.css set `[hidden] { display: none !important; }` so we also need the `!important` here to be able to override the default hidden behavior on the sphinx rendered scikit-learn.org. See: https://github.com/scikit-learn/scikit-learn/issues/21755 */display: inline-block !important;position: relative;}#sk-container-id-3 div.sk-text-repr-fallback {display: none;}</style><div id=\"sk-container-id-3\" class=\"sk-top-container\"><div class=\"sk-text-repr-fallback\"><pre>KNeighborsClassifier(n_neighbors=50)</pre><b>In a Jupyter environment, please rerun this cell to show the HTML representation or trust the notebook. <br />On GitHub, the HTML representation is unable to render, please try loading this page with nbviewer.org.</b></div><div class=\"sk-container\" hidden><div class=\"sk-item\"><div class=\"sk-estimator sk-toggleable\"><input class=\"sk-toggleable__control sk-hidden--visually\" id=\"sk-estimator-id-3\" type=\"checkbox\" checked><label for=\"sk-estimator-id-3\" class=\"sk-toggleable__label sk-toggleable__label-arrow\">KNeighborsClassifier</label><div class=\"sk-toggleable__content\"><pre>KNeighborsClassifier(n_neighbors=50)</pre></div></div></div></div></div>"
            ]
          },
          "metadata": {},
          "execution_count": 43
        }
      ]
    },
    {
      "cell_type": "code",
      "source": [
        "tense_knn_predictions = tense_knn_clf.predict(X_test)"
      ],
      "metadata": {
        "id": "0FtdMmaagyB8"
      },
      "execution_count": null,
      "outputs": []
    },
    {
      "cell_type": "code",
      "source": [
        "precision_recall_fscore_support(tense_knn_predictions, y_tense_test, average='weighted')"
      ],
      "metadata": {
        "colab": {
          "base_uri": "https://localhost:8080/"
        },
        "outputId": "bae8e149-73b2-41ef-ba19-e472cc2e64a2",
        "id": "68EqihSRgyB8"
      },
      "execution_count": null,
      "outputs": [
        {
          "output_type": "stream",
          "name": "stderr",
          "text": [
            "/usr/local/lib/python3.10/dist-packages/sklearn/metrics/_classification.py:1344: UndefinedMetricWarning: Recall and F-score are ill-defined and being set to 0.0 in labels with no true samples. Use `zero_division` parameter to control this behavior.\n",
            "  _warn_prf(average, modifier, msg_start, len(result))\n"
          ]
        },
        {
          "output_type": "execute_result",
          "data": {
            "text/plain": [
              "(1.0, 0.5391566265060241, 0.7005870841487281, None)"
            ]
          },
          "metadata": {},
          "execution_count": 45
        }
      ]
    },
    {
      "cell_type": "code",
      "source": [
        "aspect_knn_clf = neighbors.KNeighborsClassifier(n_neighbors=50)"
      ],
      "metadata": {
        "id": "b_eNYzFZgyB8"
      },
      "execution_count": null,
      "outputs": []
    },
    {
      "cell_type": "code",
      "source": [
        "aspect_knn_clf.fit(X_train, y_aspect_train)"
      ],
      "metadata": {
        "colab": {
          "base_uri": "https://localhost:8080/",
          "height": 75
        },
        "outputId": "d21575a6-e563-46a5-833f-8678f8347cda",
        "id": "yxHM_SYtgyB9"
      },
      "execution_count": null,
      "outputs": [
        {
          "output_type": "execute_result",
          "data": {
            "text/plain": [
              "KNeighborsClassifier(n_neighbors=50)"
            ],
            "text/html": [
              "<style>#sk-container-id-4 {color: black;background-color: white;}#sk-container-id-4 pre{padding: 0;}#sk-container-id-4 div.sk-toggleable {background-color: white;}#sk-container-id-4 label.sk-toggleable__label {cursor: pointer;display: block;width: 100%;margin-bottom: 0;padding: 0.3em;box-sizing: border-box;text-align: center;}#sk-container-id-4 label.sk-toggleable__label-arrow:before {content: \"▸\";float: left;margin-right: 0.25em;color: #696969;}#sk-container-id-4 label.sk-toggleable__label-arrow:hover:before {color: black;}#sk-container-id-4 div.sk-estimator:hover label.sk-toggleable__label-arrow:before {color: black;}#sk-container-id-4 div.sk-toggleable__content {max-height: 0;max-width: 0;overflow: hidden;text-align: left;background-color: #f0f8ff;}#sk-container-id-4 div.sk-toggleable__content pre {margin: 0.2em;color: black;border-radius: 0.25em;background-color: #f0f8ff;}#sk-container-id-4 input.sk-toggleable__control:checked~div.sk-toggleable__content {max-height: 200px;max-width: 100%;overflow: auto;}#sk-container-id-4 input.sk-toggleable__control:checked~label.sk-toggleable__label-arrow:before {content: \"▾\";}#sk-container-id-4 div.sk-estimator input.sk-toggleable__control:checked~label.sk-toggleable__label {background-color: #d4ebff;}#sk-container-id-4 div.sk-label input.sk-toggleable__control:checked~label.sk-toggleable__label {background-color: #d4ebff;}#sk-container-id-4 input.sk-hidden--visually {border: 0;clip: rect(1px 1px 1px 1px);clip: rect(1px, 1px, 1px, 1px);height: 1px;margin: -1px;overflow: hidden;padding: 0;position: absolute;width: 1px;}#sk-container-id-4 div.sk-estimator {font-family: monospace;background-color: #f0f8ff;border: 1px dotted black;border-radius: 0.25em;box-sizing: border-box;margin-bottom: 0.5em;}#sk-container-id-4 div.sk-estimator:hover {background-color: #d4ebff;}#sk-container-id-4 div.sk-parallel-item::after {content: \"\";width: 100%;border-bottom: 1px solid gray;flex-grow: 1;}#sk-container-id-4 div.sk-label:hover label.sk-toggleable__label {background-color: #d4ebff;}#sk-container-id-4 div.sk-serial::before {content: \"\";position: absolute;border-left: 1px solid gray;box-sizing: border-box;top: 0;bottom: 0;left: 50%;z-index: 0;}#sk-container-id-4 div.sk-serial {display: flex;flex-direction: column;align-items: center;background-color: white;padding-right: 0.2em;padding-left: 0.2em;position: relative;}#sk-container-id-4 div.sk-item {position: relative;z-index: 1;}#sk-container-id-4 div.sk-parallel {display: flex;align-items: stretch;justify-content: center;background-color: white;position: relative;}#sk-container-id-4 div.sk-item::before, #sk-container-id-4 div.sk-parallel-item::before {content: \"\";position: absolute;border-left: 1px solid gray;box-sizing: border-box;top: 0;bottom: 0;left: 50%;z-index: -1;}#sk-container-id-4 div.sk-parallel-item {display: flex;flex-direction: column;z-index: 1;position: relative;background-color: white;}#sk-container-id-4 div.sk-parallel-item:first-child::after {align-self: flex-end;width: 50%;}#sk-container-id-4 div.sk-parallel-item:last-child::after {align-self: flex-start;width: 50%;}#sk-container-id-4 div.sk-parallel-item:only-child::after {width: 0;}#sk-container-id-4 div.sk-dashed-wrapped {border: 1px dashed gray;margin: 0 0.4em 0.5em 0.4em;box-sizing: border-box;padding-bottom: 0.4em;background-color: white;}#sk-container-id-4 div.sk-label label {font-family: monospace;font-weight: bold;display: inline-block;line-height: 1.2em;}#sk-container-id-4 div.sk-label-container {text-align: center;}#sk-container-id-4 div.sk-container {/* jupyter's `normalize.less` sets `[hidden] { display: none; }` but bootstrap.min.css set `[hidden] { display: none !important; }` so we also need the `!important` here to be able to override the default hidden behavior on the sphinx rendered scikit-learn.org. See: https://github.com/scikit-learn/scikit-learn/issues/21755 */display: inline-block !important;position: relative;}#sk-container-id-4 div.sk-text-repr-fallback {display: none;}</style><div id=\"sk-container-id-4\" class=\"sk-top-container\"><div class=\"sk-text-repr-fallback\"><pre>KNeighborsClassifier(n_neighbors=50)</pre><b>In a Jupyter environment, please rerun this cell to show the HTML representation or trust the notebook. <br />On GitHub, the HTML representation is unable to render, please try loading this page with nbviewer.org.</b></div><div class=\"sk-container\" hidden><div class=\"sk-item\"><div class=\"sk-estimator sk-toggleable\"><input class=\"sk-toggleable__control sk-hidden--visually\" id=\"sk-estimator-id-4\" type=\"checkbox\" checked><label for=\"sk-estimator-id-4\" class=\"sk-toggleable__label sk-toggleable__label-arrow\">KNeighborsClassifier</label><div class=\"sk-toggleable__content\"><pre>KNeighborsClassifier(n_neighbors=50)</pre></div></div></div></div></div>"
            ]
          },
          "metadata": {},
          "execution_count": 47
        }
      ]
    },
    {
      "cell_type": "code",
      "source": [
        "aspect_knn_predictions = aspect_knn_clf.predict(X_test)"
      ],
      "metadata": {
        "id": "cNcBlnWBgyB9"
      },
      "execution_count": null,
      "outputs": []
    },
    {
      "cell_type": "code",
      "source": [
        "precision_recall_fscore_support(aspect_knn_predictions, y_aspect_test, average='weighted')"
      ],
      "metadata": {
        "colab": {
          "base_uri": "https://localhost:8080/"
        },
        "outputId": "c437c37a-2b6b-46f7-f2b9-d8a9b5296529",
        "id": "UUcY8fTBgyB9"
      },
      "execution_count": null,
      "outputs": [
        {
          "output_type": "execute_result",
          "data": {
            "text/plain": [
              "(0.9893375388345835, 0.6385542168674698, 0.7740061935480109, None)"
            ]
          },
          "metadata": {},
          "execution_count": 49
        }
      ]
    },
    {
      "cell_type": "code",
      "source": [
        "aspect_knn_predictions"
      ],
      "metadata": {
        "colab": {
          "base_uri": "https://localhost:8080/"
        },
        "id": "cWuSQvdKgf4I",
        "outputId": "936ce5ca-d750-4599-8a97-f75f2026f244"
      },
      "execution_count": null,
      "outputs": [
        {
          "output_type": "execute_result",
          "data": {
            "text/plain": [
              "array([0, 1, 0, 1, 0, 0, 0, 0, 0, 0, 0, 0, 0, 0, 0, 0, 0, 0, 0, 0, 0, 0,\n",
              "       0, 0, 0, 0, 0, 0, 0, 0, 0, 0, 0, 0, 0, 0, 0, 0, 0, 0, 0, 0, 0, 0,\n",
              "       0, 0, 0, 0, 0, 0, 0, 0, 0, 0, 0, 0, 0, 0, 0, 0, 0, 0, 0, 0, 0, 0,\n",
              "       0, 0, 0, 0, 0, 0, 0, 0, 0, 0, 0, 0, 0, 0, 0, 0, 0, 0, 0, 0, 0, 0,\n",
              "       0, 0, 0, 0, 0, 0, 0, 0, 0, 0, 0, 0, 0, 0, 0, 0, 0, 0, 0, 0, 0, 0,\n",
              "       0, 0, 0, 0, 0, 0, 0, 0, 0, 0, 0, 0, 0, 0, 0, 0, 0, 0, 0, 0, 0, 0,\n",
              "       0, 0, 0, 0, 0, 0, 0, 0, 0, 0, 0, 0, 0, 0, 0, 0, 0, 0, 0, 0, 0, 0,\n",
              "       0, 0, 0, 0, 0, 0, 0, 0, 0, 0, 0, 0, 0, 0, 0, 0, 0, 0, 0, 0, 0, 0,\n",
              "       0, 0, 0, 0, 0, 0, 0, 0, 0, 0, 0, 0, 0, 0, 0, 0, 0, 0, 0, 0, 0, 0,\n",
              "       0, 0, 0, 0, 0, 0, 0, 0, 0, 0, 0, 0, 0, 0, 0, 0, 0, 0, 0, 0, 0, 0,\n",
              "       0, 0, 0, 0, 0, 0, 0, 0, 0, 0, 0, 0, 0, 0, 0, 0, 0, 0, 0, 0, 0, 0,\n",
              "       0, 0, 0, 0, 0, 0, 0, 0, 0, 0, 0, 0, 0, 0, 0, 0, 0, 0, 0, 0, 0, 0,\n",
              "       0, 0, 0, 0, 0, 0, 0, 0, 0, 0, 0, 0, 0, 0, 0, 0, 0, 0, 0, 0, 0, 0,\n",
              "       0, 0, 0, 0, 0, 0, 0, 0, 0, 0, 0, 0, 0, 0, 0, 0, 0, 0, 0, 0, 0, 0,\n",
              "       0, 0, 0, 0, 0, 0, 0, 0, 0, 0, 0, 0, 0, 0, 0, 0, 0, 0, 0, 0, 0, 0,\n",
              "       0, 0])"
            ]
          },
          "metadata": {},
          "execution_count": 50
        }
      ]
    },
    {
      "cell_type": "code",
      "source": [
        "np.unique(aspect_knn_predictions, return_counts=True)"
      ],
      "metadata": {
        "colab": {
          "base_uri": "https://localhost:8080/"
        },
        "id": "A_qpcG6_uMqA",
        "outputId": "26610653-f77e-4f13-98b5-9792632b6d0d"
      },
      "execution_count": null,
      "outputs": [
        {
          "output_type": "execute_result",
          "data": {
            "text/plain": [
              "(array([0, 1]), array([330,   2]))"
            ]
          },
          "metadata": {},
          "execution_count": 62
        }
      ]
    },
    {
      "cell_type": "code",
      "source": [],
      "metadata": {
        "id": "I8YIZQ14ubko"
      },
      "execution_count": null,
      "outputs": []
    },
    {
      "cell_type": "code",
      "source": [
        "y_aspect_test"
      ],
      "metadata": {
        "colab": {
          "base_uri": "https://localhost:8080/"
        },
        "id": "ewOpoBRHgjg8",
        "outputId": "e0e26c0f-9cee-484e-fa1b-f2ae57429e9a"
      },
      "execution_count": null,
      "outputs": [
        {
          "output_type": "execute_result",
          "data": {
            "text/plain": [
              "array([1, 0, 0, 1, 0, 1, 0, 1, 0, 1, 0, 1, 0, 0, 1, 1, 0, 0, 0, 1, 1, 1,\n",
              "       1, 0, 1, 0, 0, 0, 0, 0, 0, 0, 1, 0, 0, 0, 0, 0, 1, 1, 1, 0, 0, 0,\n",
              "       0, 0, 1, 1, 1, 1, 0, 1, 1, 0, 1, 0, 1, 0, 0, 1, 1, 0, 1, 0, 0, 1,\n",
              "       0, 0, 1, 1, 1, 1, 1, 0, 1, 1, 0, 1, 0, 0, 1, 0, 0, 1, 1, 1, 0, 1,\n",
              "       1, 1, 0, 1, 1, 0, 0, 0, 0, 0, 0, 1, 1, 0, 0, 1, 1, 0, 1, 1, 0, 0,\n",
              "       0, 0, 1, 0, 1, 0, 1, 0, 0, 1, 1, 0, 0, 0, 0, 0, 1, 0, 0, 0, 0, 0,\n",
              "       0, 1, 0, 0, 0, 0, 1, 1, 1, 0, 0, 0, 0, 0, 0, 0, 0, 0, 0, 0, 0, 1,\n",
              "       0, 0, 1, 0, 1, 0, 1, 0, 0, 1, 0, 0, 0, 0, 0, 0, 0, 0, 1, 0, 0, 0,\n",
              "       0, 0, 0, 0, 0, 0, 0, 0, 1, 0, 0, 0, 0, 0, 0, 0, 0, 0, 1, 0, 0, 0,\n",
              "       0, 0, 0, 0, 0, 1, 1, 0, 1, 1, 0, 0, 0, 0, 1, 1, 0, 0, 0, 0, 0, 1,\n",
              "       1, 0, 0, 1, 0, 0, 0, 1, 0, 1, 0, 0, 0, 1, 0, 0, 0, 0, 0, 0, 0, 0,\n",
              "       1, 0, 0, 0, 0, 0, 1, 1, 1, 0, 0, 0, 0, 1, 0, 0, 0, 0, 0, 0, 0, 1,\n",
              "       0, 0, 0, 1, 1, 1, 0, 0, 0, 0, 0, 1, 0, 1, 0, 0, 1, 1, 0, 0, 0, 0,\n",
              "       1, 0, 0, 0, 1, 0, 0, 1, 0, 1, 1, 1, 1, 1, 1, 0, 0, 1, 1, 1, 0, 1,\n",
              "       0, 0, 0, 0, 0, 0, 1, 1, 1, 0, 1, 0, 0, 1, 1, 1, 1, 0, 0, 1, 1, 1,\n",
              "       0, 1])"
            ]
          },
          "metadata": {},
          "execution_count": 51
        }
      ]
    },
    {
      "cell_type": "markdown",
      "source": [
        "### KNN 100"
      ],
      "metadata": {
        "id": "Dgwulq7Eg67C"
      }
    },
    {
      "cell_type": "code",
      "source": [
        "tense_knn_clf = neighbors.KNeighborsClassifier(n_neighbors=100)"
      ],
      "metadata": {
        "id": "rEzVZqvPg86N"
      },
      "execution_count": null,
      "outputs": []
    },
    {
      "cell_type": "code",
      "source": [
        "tense_knn_clf.fit(X_train, y_tense_train)"
      ],
      "metadata": {
        "colab": {
          "base_uri": "https://localhost:8080/",
          "height": 75
        },
        "outputId": "d74ebaa5-2df6-4da6-b64e-1cd84cc3dc32",
        "id": "zI5Ty3gyg86O"
      },
      "execution_count": null,
      "outputs": [
        {
          "output_type": "execute_result",
          "data": {
            "text/plain": [
              "KNeighborsClassifier(n_neighbors=100)"
            ],
            "text/html": [
              "<style>#sk-container-id-11 {color: black;background-color: white;}#sk-container-id-11 pre{padding: 0;}#sk-container-id-11 div.sk-toggleable {background-color: white;}#sk-container-id-11 label.sk-toggleable__label {cursor: pointer;display: block;width: 100%;margin-bottom: 0;padding: 0.3em;box-sizing: border-box;text-align: center;}#sk-container-id-11 label.sk-toggleable__label-arrow:before {content: \"▸\";float: left;margin-right: 0.25em;color: #696969;}#sk-container-id-11 label.sk-toggleable__label-arrow:hover:before {color: black;}#sk-container-id-11 div.sk-estimator:hover label.sk-toggleable__label-arrow:before {color: black;}#sk-container-id-11 div.sk-toggleable__content {max-height: 0;max-width: 0;overflow: hidden;text-align: left;background-color: #f0f8ff;}#sk-container-id-11 div.sk-toggleable__content pre {margin: 0.2em;color: black;border-radius: 0.25em;background-color: #f0f8ff;}#sk-container-id-11 input.sk-toggleable__control:checked~div.sk-toggleable__content {max-height: 200px;max-width: 100%;overflow: auto;}#sk-container-id-11 input.sk-toggleable__control:checked~label.sk-toggleable__label-arrow:before {content: \"▾\";}#sk-container-id-11 div.sk-estimator input.sk-toggleable__control:checked~label.sk-toggleable__label {background-color: #d4ebff;}#sk-container-id-11 div.sk-label input.sk-toggleable__control:checked~label.sk-toggleable__label {background-color: #d4ebff;}#sk-container-id-11 input.sk-hidden--visually {border: 0;clip: rect(1px 1px 1px 1px);clip: rect(1px, 1px, 1px, 1px);height: 1px;margin: -1px;overflow: hidden;padding: 0;position: absolute;width: 1px;}#sk-container-id-11 div.sk-estimator {font-family: monospace;background-color: #f0f8ff;border: 1px dotted black;border-radius: 0.25em;box-sizing: border-box;margin-bottom: 0.5em;}#sk-container-id-11 div.sk-estimator:hover {background-color: #d4ebff;}#sk-container-id-11 div.sk-parallel-item::after {content: \"\";width: 100%;border-bottom: 1px solid gray;flex-grow: 1;}#sk-container-id-11 div.sk-label:hover label.sk-toggleable__label {background-color: #d4ebff;}#sk-container-id-11 div.sk-serial::before {content: \"\";position: absolute;border-left: 1px solid gray;box-sizing: border-box;top: 0;bottom: 0;left: 50%;z-index: 0;}#sk-container-id-11 div.sk-serial {display: flex;flex-direction: column;align-items: center;background-color: white;padding-right: 0.2em;padding-left: 0.2em;position: relative;}#sk-container-id-11 div.sk-item {position: relative;z-index: 1;}#sk-container-id-11 div.sk-parallel {display: flex;align-items: stretch;justify-content: center;background-color: white;position: relative;}#sk-container-id-11 div.sk-item::before, #sk-container-id-11 div.sk-parallel-item::before {content: \"\";position: absolute;border-left: 1px solid gray;box-sizing: border-box;top: 0;bottom: 0;left: 50%;z-index: -1;}#sk-container-id-11 div.sk-parallel-item {display: flex;flex-direction: column;z-index: 1;position: relative;background-color: white;}#sk-container-id-11 div.sk-parallel-item:first-child::after {align-self: flex-end;width: 50%;}#sk-container-id-11 div.sk-parallel-item:last-child::after {align-self: flex-start;width: 50%;}#sk-container-id-11 div.sk-parallel-item:only-child::after {width: 0;}#sk-container-id-11 div.sk-dashed-wrapped {border: 1px dashed gray;margin: 0 0.4em 0.5em 0.4em;box-sizing: border-box;padding-bottom: 0.4em;background-color: white;}#sk-container-id-11 div.sk-label label {font-family: monospace;font-weight: bold;display: inline-block;line-height: 1.2em;}#sk-container-id-11 div.sk-label-container {text-align: center;}#sk-container-id-11 div.sk-container {/* jupyter's `normalize.less` sets `[hidden] { display: none; }` but bootstrap.min.css set `[hidden] { display: none !important; }` so we also need the `!important` here to be able to override the default hidden behavior on the sphinx rendered scikit-learn.org. See: https://github.com/scikit-learn/scikit-learn/issues/21755 */display: inline-block !important;position: relative;}#sk-container-id-11 div.sk-text-repr-fallback {display: none;}</style><div id=\"sk-container-id-11\" class=\"sk-top-container\"><div class=\"sk-text-repr-fallback\"><pre>KNeighborsClassifier(n_neighbors=100)</pre><b>In a Jupyter environment, please rerun this cell to show the HTML representation or trust the notebook. <br />On GitHub, the HTML representation is unable to render, please try loading this page with nbviewer.org.</b></div><div class=\"sk-container\" hidden><div class=\"sk-item\"><div class=\"sk-estimator sk-toggleable\"><input class=\"sk-toggleable__control sk-hidden--visually\" id=\"sk-estimator-id-11\" type=\"checkbox\" checked><label for=\"sk-estimator-id-11\" class=\"sk-toggleable__label sk-toggleable__label-arrow\">KNeighborsClassifier</label><div class=\"sk-toggleable__content\"><pre>KNeighborsClassifier(n_neighbors=100)</pre></div></div></div></div></div>"
            ]
          },
          "metadata": {},
          "execution_count": 101
        }
      ]
    },
    {
      "cell_type": "code",
      "source": [
        "tense_knn_predictions = tense_knn_clf.predict(X_test)"
      ],
      "metadata": {
        "id": "QVnTGPBCg86Q"
      },
      "execution_count": null,
      "outputs": []
    },
    {
      "cell_type": "code",
      "source": [
        "precision_recall_fscore_support(tense_knn_predictions, y_tense_test, average='weighted')"
      ],
      "metadata": {
        "colab": {
          "base_uri": "https://localhost:8080/"
        },
        "outputId": "7fd349ce-01b8-4e68-8129-df4f933d575b",
        "id": "OGtHn0nXg86c"
      },
      "execution_count": null,
      "outputs": [
        {
          "output_type": "stream",
          "name": "stderr",
          "text": [
            "/usr/local/lib/python3.10/dist-packages/sklearn/metrics/_classification.py:1344: UndefinedMetricWarning: Recall and F-score are ill-defined and being set to 0.0 in labels with no true samples. Use `zero_division` parameter to control this behavior.\n",
            "  _warn_prf(average, modifier, msg_start, len(result))\n"
          ]
        },
        {
          "output_type": "execute_result",
          "data": {
            "text/plain": [
              "(0.7858954822863209, 0.4999999999999999, 0.5993440517566603, None)"
            ]
          },
          "metadata": {},
          "execution_count": 103
        }
      ]
    },
    {
      "cell_type": "code",
      "source": [
        "aspect_knn_clf = neighbors.KNeighborsClassifier(n_neighbors=100)"
      ],
      "metadata": {
        "id": "h9DKCiv5g86c"
      },
      "execution_count": null,
      "outputs": []
    },
    {
      "cell_type": "code",
      "source": [
        "aspect_knn_clf.fit(X_train, y_aspect_train)"
      ],
      "metadata": {
        "colab": {
          "base_uri": "https://localhost:8080/",
          "height": 75
        },
        "outputId": "8d17900f-5fa8-4d6e-b2e8-cad157cd5143",
        "id": "vlJ4Q3MBg86d"
      },
      "execution_count": null,
      "outputs": [
        {
          "output_type": "execute_result",
          "data": {
            "text/plain": [
              "KNeighborsClassifier(n_neighbors=100)"
            ],
            "text/html": [
              "<style>#sk-container-id-12 {color: black;background-color: white;}#sk-container-id-12 pre{padding: 0;}#sk-container-id-12 div.sk-toggleable {background-color: white;}#sk-container-id-12 label.sk-toggleable__label {cursor: pointer;display: block;width: 100%;margin-bottom: 0;padding: 0.3em;box-sizing: border-box;text-align: center;}#sk-container-id-12 label.sk-toggleable__label-arrow:before {content: \"▸\";float: left;margin-right: 0.25em;color: #696969;}#sk-container-id-12 label.sk-toggleable__label-arrow:hover:before {color: black;}#sk-container-id-12 div.sk-estimator:hover label.sk-toggleable__label-arrow:before {color: black;}#sk-container-id-12 div.sk-toggleable__content {max-height: 0;max-width: 0;overflow: hidden;text-align: left;background-color: #f0f8ff;}#sk-container-id-12 div.sk-toggleable__content pre {margin: 0.2em;color: black;border-radius: 0.25em;background-color: #f0f8ff;}#sk-container-id-12 input.sk-toggleable__control:checked~div.sk-toggleable__content {max-height: 200px;max-width: 100%;overflow: auto;}#sk-container-id-12 input.sk-toggleable__control:checked~label.sk-toggleable__label-arrow:before {content: \"▾\";}#sk-container-id-12 div.sk-estimator input.sk-toggleable__control:checked~label.sk-toggleable__label {background-color: #d4ebff;}#sk-container-id-12 div.sk-label input.sk-toggleable__control:checked~label.sk-toggleable__label {background-color: #d4ebff;}#sk-container-id-12 input.sk-hidden--visually {border: 0;clip: rect(1px 1px 1px 1px);clip: rect(1px, 1px, 1px, 1px);height: 1px;margin: -1px;overflow: hidden;padding: 0;position: absolute;width: 1px;}#sk-container-id-12 div.sk-estimator {font-family: monospace;background-color: #f0f8ff;border: 1px dotted black;border-radius: 0.25em;box-sizing: border-box;margin-bottom: 0.5em;}#sk-container-id-12 div.sk-estimator:hover {background-color: #d4ebff;}#sk-container-id-12 div.sk-parallel-item::after {content: \"\";width: 100%;border-bottom: 1px solid gray;flex-grow: 1;}#sk-container-id-12 div.sk-label:hover label.sk-toggleable__label {background-color: #d4ebff;}#sk-container-id-12 div.sk-serial::before {content: \"\";position: absolute;border-left: 1px solid gray;box-sizing: border-box;top: 0;bottom: 0;left: 50%;z-index: 0;}#sk-container-id-12 div.sk-serial {display: flex;flex-direction: column;align-items: center;background-color: white;padding-right: 0.2em;padding-left: 0.2em;position: relative;}#sk-container-id-12 div.sk-item {position: relative;z-index: 1;}#sk-container-id-12 div.sk-parallel {display: flex;align-items: stretch;justify-content: center;background-color: white;position: relative;}#sk-container-id-12 div.sk-item::before, #sk-container-id-12 div.sk-parallel-item::before {content: \"\";position: absolute;border-left: 1px solid gray;box-sizing: border-box;top: 0;bottom: 0;left: 50%;z-index: -1;}#sk-container-id-12 div.sk-parallel-item {display: flex;flex-direction: column;z-index: 1;position: relative;background-color: white;}#sk-container-id-12 div.sk-parallel-item:first-child::after {align-self: flex-end;width: 50%;}#sk-container-id-12 div.sk-parallel-item:last-child::after {align-self: flex-start;width: 50%;}#sk-container-id-12 div.sk-parallel-item:only-child::after {width: 0;}#sk-container-id-12 div.sk-dashed-wrapped {border: 1px dashed gray;margin: 0 0.4em 0.5em 0.4em;box-sizing: border-box;padding-bottom: 0.4em;background-color: white;}#sk-container-id-12 div.sk-label label {font-family: monospace;font-weight: bold;display: inline-block;line-height: 1.2em;}#sk-container-id-12 div.sk-label-container {text-align: center;}#sk-container-id-12 div.sk-container {/* jupyter's `normalize.less` sets `[hidden] { display: none; }` but bootstrap.min.css set `[hidden] { display: none !important; }` so we also need the `!important` here to be able to override the default hidden behavior on the sphinx rendered scikit-learn.org. See: https://github.com/scikit-learn/scikit-learn/issues/21755 */display: inline-block !important;position: relative;}#sk-container-id-12 div.sk-text-repr-fallback {display: none;}</style><div id=\"sk-container-id-12\" class=\"sk-top-container\"><div class=\"sk-text-repr-fallback\"><pre>KNeighborsClassifier(n_neighbors=100)</pre><b>In a Jupyter environment, please rerun this cell to show the HTML representation or trust the notebook. <br />On GitHub, the HTML representation is unable to render, please try loading this page with nbviewer.org.</b></div><div class=\"sk-container\" hidden><div class=\"sk-item\"><div class=\"sk-estimator sk-toggleable\"><input class=\"sk-toggleable__control sk-hidden--visually\" id=\"sk-estimator-id-12\" type=\"checkbox\" checked><label for=\"sk-estimator-id-12\" class=\"sk-toggleable__label sk-toggleable__label-arrow\">KNeighborsClassifier</label><div class=\"sk-toggleable__content\"><pre>KNeighborsClassifier(n_neighbors=100)</pre></div></div></div></div></div>"
            ]
          },
          "metadata": {},
          "execution_count": 105
        }
      ]
    },
    {
      "cell_type": "code",
      "source": [
        "aspect_knn_predictions = aspect_knn_clf.predict(X_test)"
      ],
      "metadata": {
        "id": "v7upNZx4g86d"
      },
      "execution_count": null,
      "outputs": []
    },
    {
      "cell_type": "code",
      "source": [
        "precision_recall_fscore_support(aspect_knn_predictions, y_aspect_test, average='weighted')"
      ],
      "metadata": {
        "colab": {
          "base_uri": "https://localhost:8080/"
        },
        "outputId": "19bc973c-7a06-4de8-b4c1-faf3f9e89684",
        "id": "WODKsiFog86e"
      },
      "execution_count": null,
      "outputs": [
        {
          "output_type": "execute_result",
          "data": {
            "text/plain": [
              "(0.8900460331893612, 0.6144578313253012, 0.7195593416814887, None)"
            ]
          },
          "metadata": {},
          "execution_count": 107
        }
      ]
    },
    {
      "cell_type": "markdown",
      "source": [
        "### KNN 500"
      ],
      "metadata": {
        "id": "KG5M_deMhfb0"
      }
    },
    {
      "cell_type": "code",
      "source": [
        "tense_knn_clf = neighbors.KNeighborsClassifier(n_neighbors=500)"
      ],
      "metadata": {
        "id": "DSOh72GehiTU"
      },
      "execution_count": null,
      "outputs": []
    },
    {
      "cell_type": "code",
      "source": [
        "tense_knn_clf.fit(X_train, y_tense_train)"
      ],
      "metadata": {
        "colab": {
          "base_uri": "https://localhost:8080/",
          "height": 75
        },
        "outputId": "b11a3598-5541-4b29-da36-ee36eeccb463",
        "id": "_cdyqqZyhiTW"
      },
      "execution_count": null,
      "outputs": [
        {
          "output_type": "execute_result",
          "data": {
            "text/plain": [
              "KNeighborsClassifier(n_neighbors=500)"
            ],
            "text/html": [
              "<style>#sk-container-id-13 {color: black;background-color: white;}#sk-container-id-13 pre{padding: 0;}#sk-container-id-13 div.sk-toggleable {background-color: white;}#sk-container-id-13 label.sk-toggleable__label {cursor: pointer;display: block;width: 100%;margin-bottom: 0;padding: 0.3em;box-sizing: border-box;text-align: center;}#sk-container-id-13 label.sk-toggleable__label-arrow:before {content: \"▸\";float: left;margin-right: 0.25em;color: #696969;}#sk-container-id-13 label.sk-toggleable__label-arrow:hover:before {color: black;}#sk-container-id-13 div.sk-estimator:hover label.sk-toggleable__label-arrow:before {color: black;}#sk-container-id-13 div.sk-toggleable__content {max-height: 0;max-width: 0;overflow: hidden;text-align: left;background-color: #f0f8ff;}#sk-container-id-13 div.sk-toggleable__content pre {margin: 0.2em;color: black;border-radius: 0.25em;background-color: #f0f8ff;}#sk-container-id-13 input.sk-toggleable__control:checked~div.sk-toggleable__content {max-height: 200px;max-width: 100%;overflow: auto;}#sk-container-id-13 input.sk-toggleable__control:checked~label.sk-toggleable__label-arrow:before {content: \"▾\";}#sk-container-id-13 div.sk-estimator input.sk-toggleable__control:checked~label.sk-toggleable__label {background-color: #d4ebff;}#sk-container-id-13 div.sk-label input.sk-toggleable__control:checked~label.sk-toggleable__label {background-color: #d4ebff;}#sk-container-id-13 input.sk-hidden--visually {border: 0;clip: rect(1px 1px 1px 1px);clip: rect(1px, 1px, 1px, 1px);height: 1px;margin: -1px;overflow: hidden;padding: 0;position: absolute;width: 1px;}#sk-container-id-13 div.sk-estimator {font-family: monospace;background-color: #f0f8ff;border: 1px dotted black;border-radius: 0.25em;box-sizing: border-box;margin-bottom: 0.5em;}#sk-container-id-13 div.sk-estimator:hover {background-color: #d4ebff;}#sk-container-id-13 div.sk-parallel-item::after {content: \"\";width: 100%;border-bottom: 1px solid gray;flex-grow: 1;}#sk-container-id-13 div.sk-label:hover label.sk-toggleable__label {background-color: #d4ebff;}#sk-container-id-13 div.sk-serial::before {content: \"\";position: absolute;border-left: 1px solid gray;box-sizing: border-box;top: 0;bottom: 0;left: 50%;z-index: 0;}#sk-container-id-13 div.sk-serial {display: flex;flex-direction: column;align-items: center;background-color: white;padding-right: 0.2em;padding-left: 0.2em;position: relative;}#sk-container-id-13 div.sk-item {position: relative;z-index: 1;}#sk-container-id-13 div.sk-parallel {display: flex;align-items: stretch;justify-content: center;background-color: white;position: relative;}#sk-container-id-13 div.sk-item::before, #sk-container-id-13 div.sk-parallel-item::before {content: \"\";position: absolute;border-left: 1px solid gray;box-sizing: border-box;top: 0;bottom: 0;left: 50%;z-index: -1;}#sk-container-id-13 div.sk-parallel-item {display: flex;flex-direction: column;z-index: 1;position: relative;background-color: white;}#sk-container-id-13 div.sk-parallel-item:first-child::after {align-self: flex-end;width: 50%;}#sk-container-id-13 div.sk-parallel-item:last-child::after {align-self: flex-start;width: 50%;}#sk-container-id-13 div.sk-parallel-item:only-child::after {width: 0;}#sk-container-id-13 div.sk-dashed-wrapped {border: 1px dashed gray;margin: 0 0.4em 0.5em 0.4em;box-sizing: border-box;padding-bottom: 0.4em;background-color: white;}#sk-container-id-13 div.sk-label label {font-family: monospace;font-weight: bold;display: inline-block;line-height: 1.2em;}#sk-container-id-13 div.sk-label-container {text-align: center;}#sk-container-id-13 div.sk-container {/* jupyter's `normalize.less` sets `[hidden] { display: none; }` but bootstrap.min.css set `[hidden] { display: none !important; }` so we also need the `!important` here to be able to override the default hidden behavior on the sphinx rendered scikit-learn.org. See: https://github.com/scikit-learn/scikit-learn/issues/21755 */display: inline-block !important;position: relative;}#sk-container-id-13 div.sk-text-repr-fallback {display: none;}</style><div id=\"sk-container-id-13\" class=\"sk-top-container\"><div class=\"sk-text-repr-fallback\"><pre>KNeighborsClassifier(n_neighbors=500)</pre><b>In a Jupyter environment, please rerun this cell to show the HTML representation or trust the notebook. <br />On GitHub, the HTML representation is unable to render, please try loading this page with nbviewer.org.</b></div><div class=\"sk-container\" hidden><div class=\"sk-item\"><div class=\"sk-estimator sk-toggleable\"><input class=\"sk-toggleable__control sk-hidden--visually\" id=\"sk-estimator-id-13\" type=\"checkbox\" checked><label for=\"sk-estimator-id-13\" class=\"sk-toggleable__label sk-toggleable__label-arrow\">KNeighborsClassifier</label><div class=\"sk-toggleable__content\"><pre>KNeighborsClassifier(n_neighbors=500)</pre></div></div></div></div></div>"
            ]
          },
          "metadata": {},
          "execution_count": 109
        }
      ]
    },
    {
      "cell_type": "code",
      "source": [
        "tense_knn_predictions = tense_knn_clf.predict(X_test)"
      ],
      "metadata": {
        "id": "de5mS9jjhiTX"
      },
      "execution_count": null,
      "outputs": []
    },
    {
      "cell_type": "code",
      "source": [
        "precision_recall_fscore_support(tense_knn_predictions, y_tense_test, average='weighted')"
      ],
      "metadata": {
        "colab": {
          "base_uri": "https://localhost:8080/"
        },
        "outputId": "bca836a5-a75b-4cf9-c8a2-df73106552f6",
        "id": "X5nuVtqlhiTY"
      },
      "execution_count": null,
      "outputs": [
        {
          "output_type": "stream",
          "name": "stderr",
          "text": [
            "/usr/local/lib/python3.10/dist-packages/sklearn/metrics/_classification.py:1344: UndefinedMetricWarning: Recall and F-score are ill-defined and being set to 0.0 in labels with no true samples. Use `zero_division` parameter to control this behavior.\n",
            "  _warn_prf(average, modifier, msg_start, len(result))\n"
          ]
        },
        {
          "output_type": "execute_result",
          "data": {
            "text/plain": [
              "(0.718691829319292, 0.49096385542168675, 0.571269041988512, None)"
            ]
          },
          "metadata": {},
          "execution_count": 111
        }
      ]
    },
    {
      "cell_type": "code",
      "source": [
        "aspect_knn_clf = neighbors.KNeighborsClassifier(n_neighbors=500)"
      ],
      "metadata": {
        "id": "JZgexVgwhiTY"
      },
      "execution_count": null,
      "outputs": []
    },
    {
      "cell_type": "code",
      "source": [
        "aspect_knn_clf.fit(X_train, y_aspect_train)"
      ],
      "metadata": {
        "colab": {
          "base_uri": "https://localhost:8080/",
          "height": 75
        },
        "outputId": "b5faf7e4-6605-4863-9331-4bb7a2bd6298",
        "id": "4UIrGozGhiTY"
      },
      "execution_count": null,
      "outputs": [
        {
          "output_type": "execute_result",
          "data": {
            "text/plain": [
              "KNeighborsClassifier(n_neighbors=500)"
            ],
            "text/html": [
              "<style>#sk-container-id-14 {color: black;background-color: white;}#sk-container-id-14 pre{padding: 0;}#sk-container-id-14 div.sk-toggleable {background-color: white;}#sk-container-id-14 label.sk-toggleable__label {cursor: pointer;display: block;width: 100%;margin-bottom: 0;padding: 0.3em;box-sizing: border-box;text-align: center;}#sk-container-id-14 label.sk-toggleable__label-arrow:before {content: \"▸\";float: left;margin-right: 0.25em;color: #696969;}#sk-container-id-14 label.sk-toggleable__label-arrow:hover:before {color: black;}#sk-container-id-14 div.sk-estimator:hover label.sk-toggleable__label-arrow:before {color: black;}#sk-container-id-14 div.sk-toggleable__content {max-height: 0;max-width: 0;overflow: hidden;text-align: left;background-color: #f0f8ff;}#sk-container-id-14 div.sk-toggleable__content pre {margin: 0.2em;color: black;border-radius: 0.25em;background-color: #f0f8ff;}#sk-container-id-14 input.sk-toggleable__control:checked~div.sk-toggleable__content {max-height: 200px;max-width: 100%;overflow: auto;}#sk-container-id-14 input.sk-toggleable__control:checked~label.sk-toggleable__label-arrow:before {content: \"▾\";}#sk-container-id-14 div.sk-estimator input.sk-toggleable__control:checked~label.sk-toggleable__label {background-color: #d4ebff;}#sk-container-id-14 div.sk-label input.sk-toggleable__control:checked~label.sk-toggleable__label {background-color: #d4ebff;}#sk-container-id-14 input.sk-hidden--visually {border: 0;clip: rect(1px 1px 1px 1px);clip: rect(1px, 1px, 1px, 1px);height: 1px;margin: -1px;overflow: hidden;padding: 0;position: absolute;width: 1px;}#sk-container-id-14 div.sk-estimator {font-family: monospace;background-color: #f0f8ff;border: 1px dotted black;border-radius: 0.25em;box-sizing: border-box;margin-bottom: 0.5em;}#sk-container-id-14 div.sk-estimator:hover {background-color: #d4ebff;}#sk-container-id-14 div.sk-parallel-item::after {content: \"\";width: 100%;border-bottom: 1px solid gray;flex-grow: 1;}#sk-container-id-14 div.sk-label:hover label.sk-toggleable__label {background-color: #d4ebff;}#sk-container-id-14 div.sk-serial::before {content: \"\";position: absolute;border-left: 1px solid gray;box-sizing: border-box;top: 0;bottom: 0;left: 50%;z-index: 0;}#sk-container-id-14 div.sk-serial {display: flex;flex-direction: column;align-items: center;background-color: white;padding-right: 0.2em;padding-left: 0.2em;position: relative;}#sk-container-id-14 div.sk-item {position: relative;z-index: 1;}#sk-container-id-14 div.sk-parallel {display: flex;align-items: stretch;justify-content: center;background-color: white;position: relative;}#sk-container-id-14 div.sk-item::before, #sk-container-id-14 div.sk-parallel-item::before {content: \"\";position: absolute;border-left: 1px solid gray;box-sizing: border-box;top: 0;bottom: 0;left: 50%;z-index: -1;}#sk-container-id-14 div.sk-parallel-item {display: flex;flex-direction: column;z-index: 1;position: relative;background-color: white;}#sk-container-id-14 div.sk-parallel-item:first-child::after {align-self: flex-end;width: 50%;}#sk-container-id-14 div.sk-parallel-item:last-child::after {align-self: flex-start;width: 50%;}#sk-container-id-14 div.sk-parallel-item:only-child::after {width: 0;}#sk-container-id-14 div.sk-dashed-wrapped {border: 1px dashed gray;margin: 0 0.4em 0.5em 0.4em;box-sizing: border-box;padding-bottom: 0.4em;background-color: white;}#sk-container-id-14 div.sk-label label {font-family: monospace;font-weight: bold;display: inline-block;line-height: 1.2em;}#sk-container-id-14 div.sk-label-container {text-align: center;}#sk-container-id-14 div.sk-container {/* jupyter's `normalize.less` sets `[hidden] { display: none; }` but bootstrap.min.css set `[hidden] { display: none !important; }` so we also need the `!important` here to be able to override the default hidden behavior on the sphinx rendered scikit-learn.org. See: https://github.com/scikit-learn/scikit-learn/issues/21755 */display: inline-block !important;position: relative;}#sk-container-id-14 div.sk-text-repr-fallback {display: none;}</style><div id=\"sk-container-id-14\" class=\"sk-top-container\"><div class=\"sk-text-repr-fallback\"><pre>KNeighborsClassifier(n_neighbors=500)</pre><b>In a Jupyter environment, please rerun this cell to show the HTML representation or trust the notebook. <br />On GitHub, the HTML representation is unable to render, please try loading this page with nbviewer.org.</b></div><div class=\"sk-container\" hidden><div class=\"sk-item\"><div class=\"sk-estimator sk-toggleable\"><input class=\"sk-toggleable__control sk-hidden--visually\" id=\"sk-estimator-id-14\" type=\"checkbox\" checked><label for=\"sk-estimator-id-14\" class=\"sk-toggleable__label sk-toggleable__label-arrow\">KNeighborsClassifier</label><div class=\"sk-toggleable__content\"><pre>KNeighborsClassifier(n_neighbors=500)</pre></div></div></div></div></div>"
            ]
          },
          "metadata": {},
          "execution_count": 113
        }
      ]
    },
    {
      "cell_type": "code",
      "source": [
        "aspect_knn_predictions = aspect_knn_clf.predict(X_test)"
      ],
      "metadata": {
        "id": "m7IO1_wehiTY"
      },
      "execution_count": null,
      "outputs": []
    },
    {
      "cell_type": "code",
      "source": [
        "precision_recall_fscore_support(aspect_knn_predictions, y_aspect_test, average='weighted')"
      ],
      "metadata": {
        "colab": {
          "base_uri": "https://localhost:8080/"
        },
        "outputId": "5cc03275-30fa-462f-bf16-59b6eba25b69",
        "id": "BwIFEVUohiTY"
      },
      "execution_count": null,
      "outputs": [
        {
          "output_type": "execute_result",
          "data": {
            "text/plain": [
              "(0.5087017882852164, 0.5180722891566265, 0.5102607884972467, None)"
            ]
          },
          "metadata": {},
          "execution_count": 115
        }
      ]
    },
    {
      "cell_type": "markdown",
      "source": [
        "### Decision Tree"
      ],
      "metadata": {
        "id": "hiZGG3HTUOcb"
      }
    },
    {
      "cell_type": "code",
      "source": [
        "tense_tree_clf = tree.DecisionTreeClassifier()"
      ],
      "metadata": {
        "id": "Nlvx4wqEURbG"
      },
      "execution_count": null,
      "outputs": []
    },
    {
      "cell_type": "code",
      "source": [
        "tense_tree_clf.fit(X_train, y_tense_train)"
      ],
      "metadata": {
        "colab": {
          "base_uri": "https://localhost:8080/",
          "height": 75
        },
        "outputId": "faf07905-654c-4c8a-ca05-137a06c213f6",
        "id": "vXE4gAHQURbH"
      },
      "execution_count": null,
      "outputs": [
        {
          "output_type": "execute_result",
          "data": {
            "text/plain": [
              "DecisionTreeClassifier()"
            ],
            "text/html": [
              "<style>#sk-container-id-1 {color: black;background-color: white;}#sk-container-id-1 pre{padding: 0;}#sk-container-id-1 div.sk-toggleable {background-color: white;}#sk-container-id-1 label.sk-toggleable__label {cursor: pointer;display: block;width: 100%;margin-bottom: 0;padding: 0.3em;box-sizing: border-box;text-align: center;}#sk-container-id-1 label.sk-toggleable__label-arrow:before {content: \"▸\";float: left;margin-right: 0.25em;color: #696969;}#sk-container-id-1 label.sk-toggleable__label-arrow:hover:before {color: black;}#sk-container-id-1 div.sk-estimator:hover label.sk-toggleable__label-arrow:before {color: black;}#sk-container-id-1 div.sk-toggleable__content {max-height: 0;max-width: 0;overflow: hidden;text-align: left;background-color: #f0f8ff;}#sk-container-id-1 div.sk-toggleable__content pre {margin: 0.2em;color: black;border-radius: 0.25em;background-color: #f0f8ff;}#sk-container-id-1 input.sk-toggleable__control:checked~div.sk-toggleable__content {max-height: 200px;max-width: 100%;overflow: auto;}#sk-container-id-1 input.sk-toggleable__control:checked~label.sk-toggleable__label-arrow:before {content: \"▾\";}#sk-container-id-1 div.sk-estimator input.sk-toggleable__control:checked~label.sk-toggleable__label {background-color: #d4ebff;}#sk-container-id-1 div.sk-label input.sk-toggleable__control:checked~label.sk-toggleable__label {background-color: #d4ebff;}#sk-container-id-1 input.sk-hidden--visually {border: 0;clip: rect(1px 1px 1px 1px);clip: rect(1px, 1px, 1px, 1px);height: 1px;margin: -1px;overflow: hidden;padding: 0;position: absolute;width: 1px;}#sk-container-id-1 div.sk-estimator {font-family: monospace;background-color: #f0f8ff;border: 1px dotted black;border-radius: 0.25em;box-sizing: border-box;margin-bottom: 0.5em;}#sk-container-id-1 div.sk-estimator:hover {background-color: #d4ebff;}#sk-container-id-1 div.sk-parallel-item::after {content: \"\";width: 100%;border-bottom: 1px solid gray;flex-grow: 1;}#sk-container-id-1 div.sk-label:hover label.sk-toggleable__label {background-color: #d4ebff;}#sk-container-id-1 div.sk-serial::before {content: \"\";position: absolute;border-left: 1px solid gray;box-sizing: border-box;top: 0;bottom: 0;left: 50%;z-index: 0;}#sk-container-id-1 div.sk-serial {display: flex;flex-direction: column;align-items: center;background-color: white;padding-right: 0.2em;padding-left: 0.2em;position: relative;}#sk-container-id-1 div.sk-item {position: relative;z-index: 1;}#sk-container-id-1 div.sk-parallel {display: flex;align-items: stretch;justify-content: center;background-color: white;position: relative;}#sk-container-id-1 div.sk-item::before, #sk-container-id-1 div.sk-parallel-item::before {content: \"\";position: absolute;border-left: 1px solid gray;box-sizing: border-box;top: 0;bottom: 0;left: 50%;z-index: -1;}#sk-container-id-1 div.sk-parallel-item {display: flex;flex-direction: column;z-index: 1;position: relative;background-color: white;}#sk-container-id-1 div.sk-parallel-item:first-child::after {align-self: flex-end;width: 50%;}#sk-container-id-1 div.sk-parallel-item:last-child::after {align-self: flex-start;width: 50%;}#sk-container-id-1 div.sk-parallel-item:only-child::after {width: 0;}#sk-container-id-1 div.sk-dashed-wrapped {border: 1px dashed gray;margin: 0 0.4em 0.5em 0.4em;box-sizing: border-box;padding-bottom: 0.4em;background-color: white;}#sk-container-id-1 div.sk-label label {font-family: monospace;font-weight: bold;display: inline-block;line-height: 1.2em;}#sk-container-id-1 div.sk-label-container {text-align: center;}#sk-container-id-1 div.sk-container {/* jupyter's `normalize.less` sets `[hidden] { display: none; }` but bootstrap.min.css set `[hidden] { display: none !important; }` so we also need the `!important` here to be able to override the default hidden behavior on the sphinx rendered scikit-learn.org. See: https://github.com/scikit-learn/scikit-learn/issues/21755 */display: inline-block !important;position: relative;}#sk-container-id-1 div.sk-text-repr-fallback {display: none;}</style><div id=\"sk-container-id-1\" class=\"sk-top-container\"><div class=\"sk-text-repr-fallback\"><pre>DecisionTreeClassifier()</pre><b>In a Jupyter environment, please rerun this cell to show the HTML representation or trust the notebook. <br />On GitHub, the HTML representation is unable to render, please try loading this page with nbviewer.org.</b></div><div class=\"sk-container\" hidden><div class=\"sk-item\"><div class=\"sk-estimator sk-toggleable\"><input class=\"sk-toggleable__control sk-hidden--visually\" id=\"sk-estimator-id-1\" type=\"checkbox\" checked><label for=\"sk-estimator-id-1\" class=\"sk-toggleable__label sk-toggleable__label-arrow\">DecisionTreeClassifier</label><div class=\"sk-toggleable__content\"><pre>DecisionTreeClassifier()</pre></div></div></div></div></div>"
            ]
          },
          "metadata": {},
          "execution_count": 35
        }
      ]
    },
    {
      "cell_type": "code",
      "source": [
        "tense_tree_predictions = tense_tree_clf.predict(X_test)"
      ],
      "metadata": {
        "id": "j7VnoFieURbH"
      },
      "execution_count": null,
      "outputs": []
    },
    {
      "cell_type": "code",
      "source": [
        "precision_recall_fscore_support(tense_tree_predictions, y_tense_test, average='weighted')"
      ],
      "metadata": {
        "colab": {
          "base_uri": "https://localhost:8080/"
        },
        "outputId": "d136010a-4ae1-4f78-c873-08d27283c512",
        "id": "6Sh_8MtaURbH"
      },
      "execution_count": null,
      "outputs": [
        {
          "output_type": "execute_result",
          "data": {
            "text/plain": [
              "(0.4936282921688794, 0.4819277108433735, 0.48684211106248887, None)"
            ]
          },
          "metadata": {},
          "execution_count": 37
        }
      ]
    },
    {
      "cell_type": "code",
      "source": [
        "aspect_tree_clf = tree.DecisionTreeClassifier()"
      ],
      "metadata": {
        "id": "g6Ajt5fzURbI"
      },
      "execution_count": null,
      "outputs": []
    },
    {
      "cell_type": "code",
      "source": [
        "aspect_tree_clf.fit(X_train, y_aspect_train)"
      ],
      "metadata": {
        "colab": {
          "base_uri": "https://localhost:8080/",
          "height": 75
        },
        "outputId": "8bbaf647-bb73-43b9-e5db-bddd040f0817",
        "id": "JQYU7EcmURbI"
      },
      "execution_count": null,
      "outputs": [
        {
          "output_type": "execute_result",
          "data": {
            "text/plain": [
              "DecisionTreeClassifier()"
            ],
            "text/html": [
              "<style>#sk-container-id-2 {color: black;background-color: white;}#sk-container-id-2 pre{padding: 0;}#sk-container-id-2 div.sk-toggleable {background-color: white;}#sk-container-id-2 label.sk-toggleable__label {cursor: pointer;display: block;width: 100%;margin-bottom: 0;padding: 0.3em;box-sizing: border-box;text-align: center;}#sk-container-id-2 label.sk-toggleable__label-arrow:before {content: \"▸\";float: left;margin-right: 0.25em;color: #696969;}#sk-container-id-2 label.sk-toggleable__label-arrow:hover:before {color: black;}#sk-container-id-2 div.sk-estimator:hover label.sk-toggleable__label-arrow:before {color: black;}#sk-container-id-2 div.sk-toggleable__content {max-height: 0;max-width: 0;overflow: hidden;text-align: left;background-color: #f0f8ff;}#sk-container-id-2 div.sk-toggleable__content pre {margin: 0.2em;color: black;border-radius: 0.25em;background-color: #f0f8ff;}#sk-container-id-2 input.sk-toggleable__control:checked~div.sk-toggleable__content {max-height: 200px;max-width: 100%;overflow: auto;}#sk-container-id-2 input.sk-toggleable__control:checked~label.sk-toggleable__label-arrow:before {content: \"▾\";}#sk-container-id-2 div.sk-estimator input.sk-toggleable__control:checked~label.sk-toggleable__label {background-color: #d4ebff;}#sk-container-id-2 div.sk-label input.sk-toggleable__control:checked~label.sk-toggleable__label {background-color: #d4ebff;}#sk-container-id-2 input.sk-hidden--visually {border: 0;clip: rect(1px 1px 1px 1px);clip: rect(1px, 1px, 1px, 1px);height: 1px;margin: -1px;overflow: hidden;padding: 0;position: absolute;width: 1px;}#sk-container-id-2 div.sk-estimator {font-family: monospace;background-color: #f0f8ff;border: 1px dotted black;border-radius: 0.25em;box-sizing: border-box;margin-bottom: 0.5em;}#sk-container-id-2 div.sk-estimator:hover {background-color: #d4ebff;}#sk-container-id-2 div.sk-parallel-item::after {content: \"\";width: 100%;border-bottom: 1px solid gray;flex-grow: 1;}#sk-container-id-2 div.sk-label:hover label.sk-toggleable__label {background-color: #d4ebff;}#sk-container-id-2 div.sk-serial::before {content: \"\";position: absolute;border-left: 1px solid gray;box-sizing: border-box;top: 0;bottom: 0;left: 50%;z-index: 0;}#sk-container-id-2 div.sk-serial {display: flex;flex-direction: column;align-items: center;background-color: white;padding-right: 0.2em;padding-left: 0.2em;position: relative;}#sk-container-id-2 div.sk-item {position: relative;z-index: 1;}#sk-container-id-2 div.sk-parallel {display: flex;align-items: stretch;justify-content: center;background-color: white;position: relative;}#sk-container-id-2 div.sk-item::before, #sk-container-id-2 div.sk-parallel-item::before {content: \"\";position: absolute;border-left: 1px solid gray;box-sizing: border-box;top: 0;bottom: 0;left: 50%;z-index: -1;}#sk-container-id-2 div.sk-parallel-item {display: flex;flex-direction: column;z-index: 1;position: relative;background-color: white;}#sk-container-id-2 div.sk-parallel-item:first-child::after {align-self: flex-end;width: 50%;}#sk-container-id-2 div.sk-parallel-item:last-child::after {align-self: flex-start;width: 50%;}#sk-container-id-2 div.sk-parallel-item:only-child::after {width: 0;}#sk-container-id-2 div.sk-dashed-wrapped {border: 1px dashed gray;margin: 0 0.4em 0.5em 0.4em;box-sizing: border-box;padding-bottom: 0.4em;background-color: white;}#sk-container-id-2 div.sk-label label {font-family: monospace;font-weight: bold;display: inline-block;line-height: 1.2em;}#sk-container-id-2 div.sk-label-container {text-align: center;}#sk-container-id-2 div.sk-container {/* jupyter's `normalize.less` sets `[hidden] { display: none; }` but bootstrap.min.css set `[hidden] { display: none !important; }` so we also need the `!important` here to be able to override the default hidden behavior on the sphinx rendered scikit-learn.org. See: https://github.com/scikit-learn/scikit-learn/issues/21755 */display: inline-block !important;position: relative;}#sk-container-id-2 div.sk-text-repr-fallback {display: none;}</style><div id=\"sk-container-id-2\" class=\"sk-top-container\"><div class=\"sk-text-repr-fallback\"><pre>DecisionTreeClassifier()</pre><b>In a Jupyter environment, please rerun this cell to show the HTML representation or trust the notebook. <br />On GitHub, the HTML representation is unable to render, please try loading this page with nbviewer.org.</b></div><div class=\"sk-container\" hidden><div class=\"sk-item\"><div class=\"sk-estimator sk-toggleable\"><input class=\"sk-toggleable__control sk-hidden--visually\" id=\"sk-estimator-id-2\" type=\"checkbox\" checked><label for=\"sk-estimator-id-2\" class=\"sk-toggleable__label sk-toggleable__label-arrow\">DecisionTreeClassifier</label><div class=\"sk-toggleable__content\"><pre>DecisionTreeClassifier()</pre></div></div></div></div></div>"
            ]
          },
          "metadata": {},
          "execution_count": 39
        }
      ]
    },
    {
      "cell_type": "code",
      "source": [
        "aspect_tree_predictions = aspect_tree_clf.predict(X_test)"
      ],
      "metadata": {
        "id": "Gxy1gn69URbI"
      },
      "execution_count": null,
      "outputs": []
    },
    {
      "cell_type": "code",
      "source": [
        "precision_recall_fscore_support(aspect_tree_predictions, y_aspect_test, average='weighted')"
      ],
      "metadata": {
        "colab": {
          "base_uri": "https://localhost:8080/"
        },
        "outputId": "73e09a26-9c18-4f93-aac4-fef6ca8bd63b",
        "id": "O9RwhFNZURbI"
      },
      "execution_count": null,
      "outputs": [
        {
          "output_type": "execute_result",
          "data": {
            "text/plain": [
              "(0.5209413124194893, 0.5301204819277109, 0.5232501156500218, None)"
            ]
          },
          "metadata": {},
          "execution_count": 41
        }
      ]
    },
    {
      "cell_type": "markdown",
      "source": [
        "# Prediction\n",
        "\n",
        "## Data"
      ],
      "metadata": {
        "id": "CMuADBw9UL2D"
      }
    },
    {
      "cell_type": "code",
      "source": [
        "from nltk import CFG\n",
        "from nltk.parse.generate import generate\n",
        "from bs4 import BeautifulSoup\n",
        "import re\n",
        "import random\n",
        "from collections import defaultdict"
      ],
      "metadata": {
        "id": "Z5lRMMN3hO6I"
      },
      "execution_count": null,
      "outputs": []
    },
    {
      "cell_type": "code",
      "source": [
        "with open(GRAMMAR_PATH) as f:\n",
        "    grammar_string = f.read()"
      ],
      "metadata": {
        "id": "WTpyKGklb8vb"
      },
      "execution_count": null,
      "outputs": []
    },
    {
      "cell_type": "code",
      "source": [
        "grammar = CFG.fromstring(grammar_string)"
      ],
      "metadata": {
        "id": "ZBk4643Xb_nu"
      },
      "execution_count": null,
      "outputs": []
    },
    {
      "cell_type": "code",
      "source": [
        "generated_sentences = []\n",
        "for sentence in generate(grammar):\n",
        "     generated_sentences.append(sentence)"
      ],
      "metadata": {
        "id": "SJs13UKVcBIP"
      },
      "execution_count": null,
      "outputs": []
    },
    {
      "cell_type": "code",
      "source": [
        "len(generated_sentences)"
      ],
      "metadata": {
        "colab": {
          "base_uri": "https://localhost:8080/"
        },
        "id": "KGgb6qOgcH4J",
        "outputId": "9157e685-bb70-4fcc-9510-e4f3dc2765c9"
      },
      "execution_count": null,
      "outputs": [
        {
          "output_type": "execute_result",
          "data": {
            "text/plain": [
              "2121808"
            ]
          },
          "metadata": {},
          "execution_count": 14
        }
      ]
    },
    {
      "cell_type": "code",
      "source": [
        "def tags_in_sentence(tags, sentence):\n",
        "    return all(tag in sentence for tag in tags)\n",
        "\n",
        "def is_tag(string):\n",
        "    return (string.startswith('<') and string.endswith('>'))\n",
        "\n",
        "def prettify_sentence(sentence, full_stop='.'):\n",
        "    sentence = list(filter(lambda x: not is_tag(x), sentence))\n",
        "    sentence[0] = sentence[0][0].upper() + sentence[0][1:]\n",
        "    return ' '.join(sentence)+full_stop"
      ],
      "metadata": {
        "id": "59TXZXCgcSS8"
      },
      "execution_count": null,
      "outputs": []
    },
    {
      "cell_type": "code",
      "source": [
        "def random_sentences(sentences, tags, k=100, seed=None):\n",
        "    random.seed(seed)\n",
        "    sentences_with_tags = list(filter(lambda x: tags_in_sentence(tags, x), sentences))\n",
        "    sentence_strings = list(map(prettify_sentence, sentences_with_tags))\n",
        "    return random.choices(sentence_strings, k=k)"
      ],
      "metadata": {
        "id": "053wQ75OcfFT"
      },
      "execution_count": null,
      "outputs": []
    },
    {
      "cell_type": "code",
      "source": [
        "aspect_tags = ['<PERF>', '<IMPF>']\n",
        "\n",
        "cat_tags = {\n",
        "    '<PERF>': ['<SUDDENLY>', '<ATSOMEPOINT>', '<JUST>', '<INTIME>', '<K>', '<IMMEDIATELY>'],\n",
        "    '<IMPF>': ['<ONCE_A>', '<FOR>', '<LONG>']\n",
        "}\n",
        "\n",
        "trans_tags = ['<TRANS>', '<INTRANS>']\n",
        "\n",
        "pron_tags = {\n",
        "    '<TRANS>': [('<PRON_nomn>', '<NOUN_accs>'),\n",
        "    ('<NOUN_nomn>', '<PRON_accs>'),\n",
        "    ('<NOUN_nomn>', '<NOUN_accs>')],\n",
        "    '<INTRANS>':\n",
        "    [('<NOUN_nomn>',),\n",
        "     ('<PRON_nomn>',)]\n",
        "}"
      ],
      "metadata": {
        "id": "rv2GmjmOchAU"
      },
      "execution_count": null,
      "outputs": []
    },
    {
      "cell_type": "code",
      "source": [
        "sentence_samples = defaultdict(lambda: defaultdict(lambda: defaultdict(dict)))\n",
        "gridsearch_counter = 1\n",
        "\n",
        "for aspect in aspect_tags:\n",
        "    categories = cat_tags[aspect]\n",
        "    for cat in categories:\n",
        "        for trans in trans_tags:\n",
        "            tag_pairs = pron_tags[trans]\n",
        "            for tag_pair in tag_pairs:\n",
        "                print(f\"{gridsearch_counter}.\")\n",
        "                print([aspect, cat, trans, tag_pair])\n",
        "                rand_sents = random_sentences(\n",
        "                    generated_sentences,\n",
        "                    [aspect, cat, trans, *tag_pair],\n",
        "                    k=1000,\n",
        "                    seed=22\n",
        "                )\n",
        "                gridsearch_counter += 1\n",
        "                sentence_samples[aspect][cat][trans][tag_pair] = rand_sents"
      ],
      "metadata": {
        "colab": {
          "base_uri": "https://localhost:8080/"
        },
        "id": "GbWxaUo8ci5K",
        "outputId": "91f57457-0b5e-4a99-b51a-dcca6a949a65"
      },
      "execution_count": null,
      "outputs": [
        {
          "output_type": "stream",
          "name": "stdout",
          "text": [
            "1.\n",
            "['<PERF>', '<SUDDENLY>', '<TRANS>', ('<PRON_nomn>', '<NOUN_accs>')]\n",
            "2.\n",
            "['<PERF>', '<SUDDENLY>', '<TRANS>', ('<NOUN_nomn>', '<PRON_accs>')]\n",
            "3.\n",
            "['<PERF>', '<SUDDENLY>', '<TRANS>', ('<NOUN_nomn>', '<NOUN_accs>')]\n",
            "4.\n",
            "['<PERF>', '<SUDDENLY>', '<INTRANS>', ('<NOUN_nomn>',)]\n",
            "5.\n",
            "['<PERF>', '<SUDDENLY>', '<INTRANS>', ('<PRON_nomn>',)]\n",
            "6.\n",
            "['<PERF>', '<ATSOMEPOINT>', '<TRANS>', ('<PRON_nomn>', '<NOUN_accs>')]\n",
            "7.\n",
            "['<PERF>', '<ATSOMEPOINT>', '<TRANS>', ('<NOUN_nomn>', '<PRON_accs>')]\n",
            "8.\n",
            "['<PERF>', '<ATSOMEPOINT>', '<TRANS>', ('<NOUN_nomn>', '<NOUN_accs>')]\n",
            "9.\n",
            "['<PERF>', '<ATSOMEPOINT>', '<INTRANS>', ('<NOUN_nomn>',)]\n",
            "10.\n",
            "['<PERF>', '<ATSOMEPOINT>', '<INTRANS>', ('<PRON_nomn>',)]\n",
            "11.\n",
            "['<PERF>', '<JUST>', '<TRANS>', ('<PRON_nomn>', '<NOUN_accs>')]\n",
            "12.\n",
            "['<PERF>', '<JUST>', '<TRANS>', ('<NOUN_nomn>', '<PRON_accs>')]\n",
            "13.\n",
            "['<PERF>', '<JUST>', '<TRANS>', ('<NOUN_nomn>', '<NOUN_accs>')]\n",
            "14.\n",
            "['<PERF>', '<JUST>', '<INTRANS>', ('<NOUN_nomn>',)]\n",
            "15.\n",
            "['<PERF>', '<JUST>', '<INTRANS>', ('<PRON_nomn>',)]\n",
            "16.\n",
            "['<PERF>', '<INTIME>', '<TRANS>', ('<PRON_nomn>', '<NOUN_accs>')]\n",
            "17.\n",
            "['<PERF>', '<INTIME>', '<TRANS>', ('<NOUN_nomn>', '<PRON_accs>')]\n",
            "18.\n",
            "['<PERF>', '<INTIME>', '<TRANS>', ('<NOUN_nomn>', '<NOUN_accs>')]\n",
            "19.\n",
            "['<PERF>', '<INTIME>', '<INTRANS>', ('<NOUN_nomn>',)]\n",
            "20.\n",
            "['<PERF>', '<INTIME>', '<INTRANS>', ('<PRON_nomn>',)]\n",
            "21.\n",
            "['<PERF>', '<K>', '<TRANS>', ('<PRON_nomn>', '<NOUN_accs>')]\n",
            "22.\n",
            "['<PERF>', '<K>', '<TRANS>', ('<NOUN_nomn>', '<PRON_accs>')]\n",
            "23.\n",
            "['<PERF>', '<K>', '<TRANS>', ('<NOUN_nomn>', '<NOUN_accs>')]\n",
            "24.\n",
            "['<PERF>', '<K>', '<INTRANS>', ('<NOUN_nomn>',)]\n",
            "25.\n",
            "['<PERF>', '<K>', '<INTRANS>', ('<PRON_nomn>',)]\n",
            "26.\n",
            "['<PERF>', '<IMMEDIATELY>', '<TRANS>', ('<PRON_nomn>', '<NOUN_accs>')]\n",
            "27.\n",
            "['<PERF>', '<IMMEDIATELY>', '<TRANS>', ('<NOUN_nomn>', '<PRON_accs>')]\n",
            "28.\n",
            "['<PERF>', '<IMMEDIATELY>', '<TRANS>', ('<NOUN_nomn>', '<NOUN_accs>')]\n",
            "29.\n",
            "['<PERF>', '<IMMEDIATELY>', '<INTRANS>', ('<NOUN_nomn>',)]\n",
            "30.\n",
            "['<PERF>', '<IMMEDIATELY>', '<INTRANS>', ('<PRON_nomn>',)]\n",
            "31.\n",
            "['<IMPF>', '<ONCE_A>', '<TRANS>', ('<PRON_nomn>', '<NOUN_accs>')]\n",
            "32.\n",
            "['<IMPF>', '<ONCE_A>', '<TRANS>', ('<NOUN_nomn>', '<PRON_accs>')]\n",
            "33.\n",
            "['<IMPF>', '<ONCE_A>', '<TRANS>', ('<NOUN_nomn>', '<NOUN_accs>')]\n",
            "34.\n",
            "['<IMPF>', '<ONCE_A>', '<INTRANS>', ('<NOUN_nomn>',)]\n",
            "35.\n",
            "['<IMPF>', '<ONCE_A>', '<INTRANS>', ('<PRON_nomn>',)]\n",
            "36.\n",
            "['<IMPF>', '<FOR>', '<TRANS>', ('<PRON_nomn>', '<NOUN_accs>')]\n",
            "37.\n",
            "['<IMPF>', '<FOR>', '<TRANS>', ('<NOUN_nomn>', '<PRON_accs>')]\n",
            "38.\n",
            "['<IMPF>', '<FOR>', '<TRANS>', ('<NOUN_nomn>', '<NOUN_accs>')]\n",
            "39.\n",
            "['<IMPF>', '<FOR>', '<INTRANS>', ('<NOUN_nomn>',)]\n",
            "40.\n",
            "['<IMPF>', '<FOR>', '<INTRANS>', ('<PRON_nomn>',)]\n",
            "41.\n",
            "['<IMPF>', '<LONG>', '<TRANS>', ('<PRON_nomn>', '<NOUN_accs>')]\n",
            "42.\n",
            "['<IMPF>', '<LONG>', '<TRANS>', ('<NOUN_nomn>', '<PRON_accs>')]\n",
            "43.\n",
            "['<IMPF>', '<LONG>', '<TRANS>', ('<NOUN_nomn>', '<NOUN_accs>')]\n",
            "44.\n",
            "['<IMPF>', '<LONG>', '<INTRANS>', ('<NOUN_nomn>',)]\n",
            "45.\n",
            "['<IMPF>', '<LONG>', '<INTRANS>', ('<PRON_nomn>',)]\n"
          ]
        }
      ]
    },
    {
      "cell_type": "markdown",
      "source": [
        "## Model"
      ],
      "metadata": {
        "id": "cJD5SKhBc_J4"
      }
    },
    {
      "cell_type": "code",
      "source": [
        "from transformers import AutoTokenizer, BertForMaskedLM\n",
        "from tqdm import tqdm\n",
        "import pymorphy2\n",
        "import torch"
      ],
      "metadata": {
        "id": "u7OYqejCcmYg"
      },
      "execution_count": null,
      "outputs": []
    },
    {
      "cell_type": "code",
      "source": [
        "tokenizer = AutoTokenizer.from_pretrained(\"DeepPavlov/rubert-base-cased\")\n",
        "model = BertForMaskedLM.from_pretrained(\"DeepPavlov/rubert-base-cased\")"
      ],
      "metadata": {
        "colab": {
          "base_uri": "https://localhost:8080/",
          "height": 317,
          "referenced_widgets": [
            "05ae5d3d721941ec8afcdd05fc420b93",
            "9b22f6fdb9c2434f8223ffc64f23cc8e",
            "e49e05e209bb4f22857dd8f82fd952c0",
            "6f639d53fee5423dbea4cdb8ef480c7b",
            "e896db5b59bd44e18c0481e9e3c01161",
            "46796707de594ef297ab4ab3cb38b9ed",
            "892eca9aa090424083c61d45d1eb48f7",
            "4559c81ffb5f4b6e94116b2900968990",
            "52149857ad1f4c6b936956620d2b169d",
            "e44b59d75ddc48a4adf9325b28c6740f",
            "dad32aca732b475db1423794adbfb998",
            "7cdc3f78527b450fb1524c9089439a94",
            "2230a094660449539a58defc6602c34b",
            "05a91f8997564aa6a55698dea20cbb22",
            "16d542f343614241830e37a1198e8dfe",
            "0f1e3066491b475bb53e5ac6a467ec4a",
            "50aa12a70c3a467ea7bd42994f64a305",
            "a55edd13fed04a4bb0917ac84e81af7a",
            "5fe3ca82941e4297ae930e7d1cfd8025",
            "4c6085d2c2374e52a2fb989273928e4c",
            "6999f07d28094cf184b6541fdfef6d49",
            "a5e960a32d8f4948a087e3a57e3083a1",
            "734300c732ad41449b1d832d1569da19",
            "69426a03d1794d62a2b027052369b5a9",
            "52971293744143d89937ea2f17ee793b",
            "a05b73aa5a734cd1b66dbbfa724e0fb1",
            "5a6d6d1737184496b01e41c92966ff64",
            "c680b201e8274fada7608f07bd007c69",
            "28a7ce8ee2304742952688a263211a8e",
            "fb592de1b97b4269a3e15d079a1a7730",
            "ae12f0495be6466cad79b06521c7d486",
            "959c20fe4294457e8f493bcb13f2ff52",
            "f400b50840614199996bff071d3075e7",
            "07b4ee8a5ac4470c98221317f2e89e90",
            "b53dbe7bf4834061ad2d83d5867995e3",
            "9a873af2dc6d45eba5e5ace52a5ba1d4",
            "b25259f936e64a33acc29d916f01dc0e",
            "9b321cc65cf241db989faac856073a01",
            "af66b7fed37b4db998dbd8cf2c22b7ea",
            "7801fc94099540b0b65f236464abe27c",
            "6f8e0fd86778422ebb25f335dff611f0",
            "8011e1e6a48948da9e7fcaed854325e0",
            "8fcdc43e153d4cb5b4fce61c9be51582",
            "19c59e5d05184593a2d6e93456409386",
            "975fb7f128a748c6a236fbb8f631c94f",
            "e4a7f583912d447791d76911680235a3",
            "1dc8d54980384138bafa011c40a40119",
            "b9079550f0c944219bcefc1f09efb974",
            "9fe5eb3e2abc4bdfbc44bf3e452c6d17",
            "e0688d24cbd141a586ee7df601280f07",
            "9cf76efa6c8c4b4e858efb748f37b8a7",
            "8d4fd150f2c54072ae0b856b02cb9cd3",
            "745a73c7ce374f90bae353cff8dc7502",
            "778ba958475b468cb3a00630efc1a26d",
            "73812c426b00463f971391778f4a6d7d"
          ]
        },
        "id": "UbVjn8atdDIs",
        "outputId": "5d94fff5-dc46-4f7b-bda1-d824e6278899"
      },
      "execution_count": null,
      "outputs": [
        {
          "output_type": "display_data",
          "data": {
            "text/plain": [
              "Downloading (…)okenizer_config.json:   0%|          | 0.00/24.0 [00:00<?, ?B/s]"
            ],
            "application/vnd.jupyter.widget-view+json": {
              "version_major": 2,
              "version_minor": 0,
              "model_id": "05ae5d3d721941ec8afcdd05fc420b93"
            }
          },
          "metadata": {}
        },
        {
          "output_type": "display_data",
          "data": {
            "text/plain": [
              "Downloading (…)lve/main/config.json:   0%|          | 0.00/642 [00:00<?, ?B/s]"
            ],
            "application/vnd.jupyter.widget-view+json": {
              "version_major": 2,
              "version_minor": 0,
              "model_id": "7cdc3f78527b450fb1524c9089439a94"
            }
          },
          "metadata": {}
        },
        {
          "output_type": "display_data",
          "data": {
            "text/plain": [
              "Downloading (…)solve/main/vocab.txt:   0%|          | 0.00/1.65M [00:00<?, ?B/s]"
            ],
            "application/vnd.jupyter.widget-view+json": {
              "version_major": 2,
              "version_minor": 0,
              "model_id": "734300c732ad41449b1d832d1569da19"
            }
          },
          "metadata": {}
        },
        {
          "output_type": "display_data",
          "data": {
            "text/plain": [
              "Downloading (…)cial_tokens_map.json:   0%|          | 0.00/112 [00:00<?, ?B/s]"
            ],
            "application/vnd.jupyter.widget-view+json": {
              "version_major": 2,
              "version_minor": 0,
              "model_id": "07b4ee8a5ac4470c98221317f2e89e90"
            }
          },
          "metadata": {}
        },
        {
          "output_type": "display_data",
          "data": {
            "text/plain": [
              "Downloading pytorch_model.bin:   0%|          | 0.00/714M [00:00<?, ?B/s]"
            ],
            "application/vnd.jupyter.widget-view+json": {
              "version_major": 2,
              "version_minor": 0,
              "model_id": "975fb7f128a748c6a236fbb8f631c94f"
            }
          },
          "metadata": {}
        }
      ]
    },
    {
      "cell_type": "code",
      "source": [
        "def topn_predictions(sentence, model, tokenizer, n=10):\n",
        "    inputs = tokenizer(sentence, return_tensors=\"pt\")\n",
        "    with torch.no_grad():\n",
        "        logits = model(**inputs).logits\n",
        "    mask_token_index = (inputs.input_ids == tokenizer.mask_token_id)[0].nonzero(as_tuple=True)[0]\n",
        "    predicted_token_ids = logits[0, mask_token_index].argsort(axis=-1, descending=True)[0, :n]\n",
        "    return predicted_token_ids\n",
        "\n",
        "def predicted_grid(sentences, tokenizer, model, n=10):\n",
        "    for i, sent in enumerate(tqdm(sentences)):\n",
        "        predicted_ids = torch.unsqueeze(topn_predictions(sent, model, tokenizer, n), 0)\n",
        "        if i == 0:\n",
        "            grid = predicted_ids\n",
        "        else:\n",
        "            grid = torch.cat((grid, predicted_ids), 0)\n",
        "    return grid"
      ],
      "metadata": {
        "id": "IpsU6z44dEhS"
      },
      "execution_count": null,
      "outputs": []
    },
    {
      "cell_type": "code",
      "source": [
        "gridsearch_counter = 1\n",
        "\n",
        "aspect = '<IMPF>'\n",
        "# for aspect in aspect_tags:\n",
        "categories = cat_tags[aspect]\n",
        "for cat in categories:\n",
        "    # for trans in trans_tags:\n",
        "        trans = '<INTRANS>'\n",
        "        tag_pairs = pron_tags[trans]\n",
        "        for tag_pair in tag_pairs:\n",
        "          print(f\"{gridsearch_counter}.\")\n",
        "          sentences = sentence_samples[aspect][cat][trans][tag_pair]\n",
        "          predicted_tensor = predicted_grid(sentences, tokenizer, model)\n",
        "          pred_save_path = f'/content/drive/MyDrive/Think-BERT/data/experiment2/results/{aspect}_{cat}_{trans}_{tag_pair}.pt'\n",
        "          torch.save(predicted_tensor, pred_save_path)\n",
        "          gridsearch_counter += 1"
      ],
      "metadata": {
        "id": "gKMpaSvndJKu"
      },
      "execution_count": null,
      "outputs": []
    },
    {
      "cell_type": "markdown",
      "source": [
        "### Loading"
      ],
      "metadata": {
        "id": "2ZpYyRFN5Uhx"
      }
    },
    {
      "cell_type": "code",
      "source": [
        "import pymorphy2"
      ],
      "metadata": {
        "id": "MhLT0h_x5WFB"
      },
      "execution_count": null,
      "outputs": []
    },
    {
      "cell_type": "code",
      "source": [
        "morph = pymorphy2.MorphAnalyzer()"
      ],
      "metadata": {
        "id": "90Tymm-BfZDY"
      },
      "execution_count": null,
      "outputs": []
    },
    {
      "cell_type": "code",
      "source": [
        "def perf_at_1(preds, tokenizer, morph):\n",
        "    return perf_at_n(preds, tokenizer, morph) == 0\n",
        "\n",
        "def perf_at_n(preds, tokenizer, morph):\n",
        "    for i, pred in enumerate(preds):\n",
        "        word = tokenizer.decode(pred)\n",
        "        parse = morph.parse(word)[0]\n",
        "        if parse.tag.aspect == 'perf':\n",
        "            return i\n",
        "    return None\n",
        "\n",
        "def impf_at_n(preds, tokenizer, morph):\n",
        "    for i, pred in enumerate(preds):\n",
        "        word = tokenizer.decode(pred)\n",
        "        parse = morph.parse(word)[0]\n",
        "        if parse.tag.aspect == 'impf':\n",
        "            return i\n",
        "    return None\n",
        "\n",
        "def impf_before_perf(preds, tokenizer, morph):\n",
        "    for pred in preds:\n",
        "        word = tokenizer.decode(pred)\n",
        "        parse = morph.parse(word)[0]\n",
        "        aspect = parse.tag.aspect\n",
        "        if aspect == 'impf':\n",
        "            return True\n",
        "        if aspect == 'perf':\n",
        "            return False\n",
        "    return None\n",
        "\n",
        "def pres_before_past(preds, tokenizer, morph):\n",
        "    for pred in preds:\n",
        "        word = tokenizer.decode(pred)\n",
        "        parse = morph.parse(word)[0]\n",
        "        tense = parse.tag.tense\n",
        "        if tense == 'pres':\n",
        "            return True\n",
        "        if tense == 'past':\n",
        "            return False\n",
        "    return None\n",
        "\n",
        "def verb_at_n(preds, tokenizer, morph):\n",
        "    for i, pred in enumerate(preds):\n",
        "        word = tokenizer.decode(pred)\n",
        "        parse = morph.parse(word)[0]\n",
        "        if parse.tag.POS == 'VERB':\n",
        "            return i\n",
        "    return None"
      ],
      "metadata": {
        "id": "jwCqUsx-5Q-n"
      },
      "execution_count": null,
      "outputs": []
    },
    {
      "cell_type": "code",
      "source": [
        "sentence_samples['<IMPF>']['<FOR>']['<INTRANS>'][('<NOUN_nomn>',)][5]"
      ],
      "metadata": {
        "colab": {
          "base_uri": "https://localhost:8080/",
          "height": 36
        },
        "id": "HtCTm3O4UR8z",
        "outputId": "6d039dbe-78b6-4267-cc95-c6a5afb9ec43"
      },
      "execution_count": null,
      "outputs": [
        {
          "output_type": "execute_result",
          "data": {
            "text/plain": [
              "'Председатели [MASK] на протяжении четырёх лет.'"
            ],
            "application/vnd.google.colaboratory.intrinsic+json": {
              "type": "string"
            }
          },
          "metadata": {},
          "execution_count": 56
        }
      ]
    },
    {
      "cell_type": "code",
      "source": [
        "x = torch.load(\"/content/drive/MyDrive/Think-BERT/data/experiment2/results/<PERF>_<K>_<INTRANS>_('<NOUN_nomn>',).pt\")"
      ],
      "metadata": {
        "id": "RLgjjQbF5Z7U"
      },
      "execution_count": null,
      "outputs": []
    },
    {
      "cell_type": "code",
      "source": [
        "tokenizer.decode(x[5])"
      ],
      "metadata": {
        "colab": {
          "base_uri": "https://localhost:8080/",
          "height": 55
        },
        "id": "SutxXSGU6aQz",
        "outputId": "ae15bb86-a734-4b83-ccef-e601d6237318"
      },
      "execution_count": null,
      "outputs": [
        {
          "output_type": "execute_result",
          "data": {
            "text/plain": [
              "'избирались избираются менялись работали назначались действуют существуют работают меняются назначаются'"
            ],
            "application/vnd.google.colaboratory.intrinsic+json": {
              "type": "string"
            }
          },
          "metadata": {},
          "execution_count": 57
        }
      ]
    },
    {
      "cell_type": "code",
      "source": [
        "perf_at_1(x[1], tokenizer, morph)"
      ],
      "metadata": {
        "colab": {
          "base_uri": "https://localhost:8080/"
        },
        "id": "6PdQ_C4j5djP",
        "outputId": "c1aab18b-cb63-4d44-d922-f5aa59e52b4c"
      },
      "execution_count": null,
      "outputs": [
        {
          "output_type": "execute_result",
          "data": {
            "text/plain": [
              "False"
            ]
          },
          "metadata": {},
          "execution_count": 120
        }
      ]
    },
    {
      "cell_type": "code",
      "source": [
        "perf_at_n(x[1], tokenizer, morph)"
      ],
      "metadata": {
        "colab": {
          "base_uri": "https://localhost:8080/"
        },
        "id": "4Vhs6R5Z7Gu2",
        "outputId": "c6d5389c-cb41-4e18-adf1-4840f600c948"
      },
      "execution_count": null,
      "outputs": [
        {
          "output_type": "execute_result",
          "data": {
            "text/plain": [
              "8"
            ]
          },
          "metadata": {},
          "execution_count": 121
        }
      ]
    },
    {
      "cell_type": "code",
      "source": [
        "impf_before_perf(x[1], tokenizer, morph)"
      ],
      "metadata": {
        "colab": {
          "base_uri": "https://localhost:8080/"
        },
        "id": "9ZrfRLP17NS0",
        "outputId": "4729f59d-f874-4a4b-ad92-4fbbe56c307f"
      },
      "execution_count": null,
      "outputs": [
        {
          "output_type": "execute_result",
          "data": {
            "text/plain": [
              "True"
            ]
          },
          "metadata": {},
          "execution_count": 122
        }
      ]
    },
    {
      "cell_type": "code",
      "source": [
        "pres_before_past(x[1], tokenizer, morph)"
      ],
      "metadata": {
        "colab": {
          "base_uri": "https://localhost:8080/"
        },
        "id": "_yFzPNrf7DbY",
        "outputId": "cd834441-d763-435e-e34e-bc38592565ea"
      },
      "execution_count": null,
      "outputs": [
        {
          "output_type": "execute_result",
          "data": {
            "text/plain": [
              "False"
            ]
          },
          "metadata": {},
          "execution_count": 123
        }
      ]
    },
    {
      "cell_type": "code",
      "source": [
        "verb_at_n(x[1], tokenizer, morph)"
      ],
      "metadata": {
        "colab": {
          "base_uri": "https://localhost:8080/"
        },
        "id": "-i0rHahC7Rxc",
        "outputId": "fee254a4-4e40-4b32-936a-8254d68b9f15"
      },
      "execution_count": null,
      "outputs": [
        {
          "output_type": "execute_result",
          "data": {
            "text/plain": [
              "0"
            ]
          },
          "metadata": {},
          "execution_count": 124
        }
      ]
    },
    {
      "cell_type": "code",
      "source": [
        "def map_array(arr, func, dtype):\n",
        "  results = np.array([], dtype=dtype)\n",
        "  for row in arr:\n",
        "    results = np.append(results, func(row, tokenizer, morph))\n",
        "  return results"
      ],
      "metadata": {
        "id": "a_aSDRUm_d5Q"
      },
      "execution_count": null,
      "outputs": []
    },
    {
      "cell_type": "code",
      "source": [
        "torch.load(\"/content/drive/MyDrive/Think-BERT/data/experiment2/results/<IMPF>_<FOR>_<INTRANS>_('<NOUN_nomn>',).pt\", map_location=torch.device('cpu'))"
      ],
      "metadata": {
        "colab": {
          "base_uri": "https://localhost:8080/"
        },
        "id": "ltUxEHeQVRuf",
        "outputId": "41a8cde0-0395-4e5a-a4c8-16d9a4e1bdad"
      },
      "execution_count": null,
      "outputs": [
        {
          "output_type": "execute_result",
          "data": {
            "text/plain": [
              "tensor([[ 32820,  10845,  88098,  ..., 115271,  11727,  58734],\n",
              "        [ 91836,  60354,  54346,  ..., 100028,  30070,  19666],\n",
              "        [ 33678,  22330,  17854,  ...,  11841,  22845,  26735],\n",
              "        ...,\n",
              "        [ 63583,  13563,  18426,  ...,  14265,  26534,  19415],\n",
              "        [ 38621,  22330,  38897,  ...,  73982,  68942,  22845],\n",
              "        [ 68312,  21937,  69038,  ...,  26579,  16397,  30910]])"
            ]
          },
          "metadata": {},
          "execution_count": 63
        }
      ]
    },
    {
      "cell_type": "code",
      "source": [
        "sentence_results = defaultdict(\n",
        "    lambda: defaultdict(\n",
        "        lambda: defaultdict(\n",
        "            lambda: defaultdict(dict)\n",
        "        )\n",
        "      )\n",
        "    )\n",
        "aspect_tag_to_func = {'<PERF>': perf_at_n, '<IMPF>': impf_at_n}\n",
        "gridsearch_counter = 1\n",
        "\n",
        "for aspect in aspect_tags:\n",
        "    categories = cat_tags[aspect]\n",
        "    for cat in categories:\n",
        "        for trans in trans_tags:\n",
        "            tag_pairs = pron_tags[trans]\n",
        "            for tag_pair in tag_pairs:\n",
        "              print(f\"\\n{gridsearch_counter}.\")\n",
        "              print(f\"{aspect}_{cat}_{trans}_{tag_pair}\")\n",
        "              pred_save_path = f'/content/drive/MyDrive/Think-BERT/data/experiment2/results/{aspect}_{cat}_{trans}_{tag_pair}.pt'\n",
        "              preds = torch.load(pred_save_path, map_location=torch.device('cpu'))\n",
        "\n",
        "              impf_before_perf_arr = map_array(preds, impf_before_perf, bool)\n",
        "              pres_before_past_arr = map_array(preds, pres_before_past, bool)\n",
        "              asp_n_arr = map_array(preds, aspect_tag_to_func[aspect], int)\n",
        "              verb_n_arr = map_array(preds, verb_at_n, int)\n",
        "\n",
        "              print(\"ImpfBeforePerf\", impf_before_perf_arr[impf_before_perf_arr != np.array(None)].mean())\n",
        "              print(\"PresBeforePast\", pres_before_past_arr[pres_before_past_arr != np.array(None)].mean())\n",
        "\n",
        "              (perf_ix, perf_counts) = np.unique(asp_n_arr[asp_n_arr != np.array(None)], return_counts=True)\n",
        "              (verb_ix, verb_counts) = np.unique(verb_n_arr[verb_n_arr != np.array(None)], return_counts=True)\n",
        "              print(\"Asp1\", (asp_n_arr == 0).mean())\n",
        "              print(\"Verb1\", (verb_n_arr == 0).mean())\n",
        "              print(\"AspAtAll\", 1 - (asp_n_arr != np.array(None)).mean())\n",
        "              print(\"VerbAtAll\", 1 - (verb_n_arr != np.array(None)).mean())\n",
        "\n",
        "              sentence_results[aspect][cat][trans][tag_pair]['impf_before_perf'] = impf_before_perf_arr\n",
        "              sentence_results[aspect][cat][trans][tag_pair]['pres_before_past'] = pres_before_past_arr\n",
        "              sentence_results[aspect][cat][trans][tag_pair]['perf_n'] = asp_n_arr\n",
        "              sentence_results[aspect][cat][trans][tag_pair]['verb_at_n'] = verb_at_n\n",
        "\n",
        "              gridsearch_counter += 1"
      ],
      "metadata": {
        "colab": {
          "base_uri": "https://localhost:8080/"
        },
        "id": "cKkgOMpX9rBb",
        "outputId": "a974b01b-8cf9-4688-f9f2-f7f1ba784dd7"
      },
      "execution_count": null,
      "outputs": [
        {
          "output_type": "stream",
          "name": "stdout",
          "text": [
            "\n",
            "1.\n",
            "<PERF>_<SUDDENLY>_<TRANS>_('<PRON_nomn>', '<NOUN_accs>')\n",
            "ImpfBeforePerf 0.437\n",
            "PresBeforePast 0.43229689067201604\n",
            "Asp1 0.523\n",
            "Verb1 0.941\n",
            "AspAtAll 0.029000000000000026\n",
            "VerbAtAll 0.0\n",
            "\n",
            "2.\n",
            "<PERF>_<SUDDENLY>_<TRANS>_('<NOUN_nomn>', '<PRON_accs>')\n",
            "ImpfBeforePerf 0.703\n",
            "PresBeforePast 0.742\n",
            "Asp1 0.297\n",
            "Verb1 1.0\n",
            "AspAtAll 0.14\n",
            "VerbAtAll 0.0\n",
            "\n",
            "3.\n",
            "<PERF>_<SUDDENLY>_<TRANS>_('<NOUN_nomn>', '<NOUN_accs>')\n",
            "ImpfBeforePerf 0.4678714859437751\n",
            "PresBeforePast 0.464321608040201\n",
            "Asp1 0.507\n",
            "Verb1 0.951\n",
            "AspAtAll 0.05700000000000005\n",
            "VerbAtAll 0.007000000000000006\n",
            "\n",
            "4.\n",
            "<PERF>_<SUDDENLY>_<INTRANS>_('<NOUN_nomn>',)\n",
            "ImpfBeforePerf 0.6201005025125628\n",
            "PresBeforePast 0.6673366834170854\n",
            "Asp1 0.375\n",
            "Verb1 0.989\n",
            "AspAtAll 0.015000000000000013\n",
            "VerbAtAll 0.0050000000000000044\n",
            "\n",
            "5.\n",
            "<PERF>_<SUDDENLY>_<INTRANS>_('<PRON_nomn>',)\n",
            "ImpfBeforePerf 0.56\n",
            "PresBeforePast 0.56\n",
            "Asp1 0.44\n",
            "Verb1 1.0\n",
            "AspAtAll 0.0\n",
            "VerbAtAll 0.0\n",
            "\n",
            "6.\n",
            "<PERF>_<ATSOMEPOINT>_<TRANS>_('<PRON_nomn>', '<NOUN_accs>')\n",
            "ImpfBeforePerf 0.021\n",
            "PresBeforePast 0.002\n",
            "Asp1 0.957\n",
            "Verb1 0.977\n",
            "AspAtAll 0.0\n",
            "VerbAtAll 0.0\n",
            "\n",
            "7.\n",
            "<PERF>_<ATSOMEPOINT>_<TRANS>_('<NOUN_nomn>', '<PRON_accs>')\n",
            "ImpfBeforePerf 0.002\n",
            "PresBeforePast 0.002\n",
            "Asp1 0.998\n",
            "Verb1 1.0\n",
            "AspAtAll 0.0\n",
            "VerbAtAll 0.0\n",
            "\n",
            "8.\n",
            "<PERF>_<ATSOMEPOINT>_<TRANS>_('<NOUN_nomn>', '<NOUN_accs>')\n",
            "ImpfBeforePerf 0.021\n",
            "PresBeforePast 0.002\n",
            "Asp1 0.959\n",
            "Verb1 0.977\n",
            "AspAtAll 0.0010000000000000009\n",
            "VerbAtAll 0.0\n",
            "\n",
            "9.\n",
            "<PERF>_<ATSOMEPOINT>_<INTRANS>_('<NOUN_nomn>',)\n",
            "ImpfBeforePerf 0.001\n",
            "PresBeforePast 0.001\n",
            "Asp1 0.999\n",
            "Verb1 1.0\n",
            "AspAtAll 0.0\n",
            "VerbAtAll 0.0\n",
            "\n",
            "10.\n",
            "<PERF>_<ATSOMEPOINT>_<INTRANS>_('<PRON_nomn>',)\n",
            "ImpfBeforePerf 0.0\n",
            "PresBeforePast 0.0\n",
            "Asp1 1.0\n",
            "Verb1 1.0\n",
            "AspAtAll 0.0\n",
            "VerbAtAll 0.0\n",
            "\n",
            "11.\n",
            "<PERF>_<JUST>_<TRANS>_('<PRON_nomn>', '<NOUN_accs>')\n",
            "ImpfBeforePerf 0.018\n",
            "PresBeforePast 0.014\n",
            "Asp1 0.932\n",
            "Verb1 0.949\n",
            "AspAtAll 0.0\n",
            "VerbAtAll 0.0\n",
            "\n",
            "12.\n",
            "<PERF>_<JUST>_<TRANS>_('<NOUN_nomn>', '<PRON_accs>')\n",
            "ImpfBeforePerf 0.0\n",
            "PresBeforePast 0.0\n",
            "Asp1 1.0\n",
            "Verb1 1.0\n",
            "AspAtAll 0.0\n",
            "VerbAtAll 0.0\n",
            "\n",
            "13.\n",
            "<PERF>_<JUST>_<TRANS>_('<NOUN_nomn>', '<NOUN_accs>')\n",
            "ImpfBeforePerf 0.02404809619238477\n",
            "PresBeforePast 0.01905717151454363\n",
            "Asp1 0.939\n",
            "Verb1 0.947\n",
            "AspAtAll 0.0020000000000000018\n",
            "VerbAtAll 0.01100000000000001\n",
            "\n",
            "14.\n",
            "<PERF>_<JUST>_<INTRANS>_('<NOUN_nomn>',)\n",
            "ImpfBeforePerf 0.0\n",
            "PresBeforePast 0.0\n",
            "Asp1 0.973\n",
            "Verb1 0.926\n",
            "AspAtAll 0.0\n",
            "VerbAtAll 0.0\n",
            "\n",
            "15.\n",
            "<PERF>_<JUST>_<INTRANS>_('<PRON_nomn>',)\n",
            "ImpfBeforePerf 0.0\n",
            "PresBeforePast 0.0\n",
            "Asp1 1.0\n",
            "Verb1 1.0\n",
            "AspAtAll 0.0\n",
            "VerbAtAll 0.0\n",
            "\n",
            "16.\n",
            "<PERF>_<INTIME>_<TRANS>_('<PRON_nomn>', '<NOUN_accs>')\n",
            "ImpfBeforePerf 0.341\n",
            "PresBeforePast 0.257\n",
            "Asp1 0.65\n",
            "Verb1 0.984\n",
            "AspAtAll 0.01200000000000001\n",
            "VerbAtAll 0.0\n",
            "\n",
            "17.\n",
            "<PERF>_<INTIME>_<TRANS>_('<NOUN_nomn>', '<PRON_accs>')\n",
            "ImpfBeforePerf 0.208\n",
            "PresBeforePast 0.182\n",
            "Asp1 0.79\n",
            "Verb1 0.997\n",
            "AspAtAll 0.006000000000000005\n",
            "VerbAtAll 0.0\n",
            "\n",
            "18.\n",
            "<PERF>_<INTIME>_<TRANS>_('<NOUN_nomn>', '<NOUN_accs>')\n",
            "ImpfBeforePerf 0.4065040650406504\n",
            "PresBeforePast 0.34826883910386963\n",
            "Asp1 0.554\n",
            "Verb1 0.922\n",
            "AspAtAll 0.06399999999999995\n",
            "VerbAtAll 0.016000000000000014\n",
            "\n",
            "19.\n",
            "<PERF>_<INTIME>_<INTRANS>_('<NOUN_nomn>',)\n",
            "ImpfBeforePerf 0.208\n",
            "PresBeforePast 0.163\n",
            "Asp1 0.756\n",
            "Verb1 0.945\n",
            "AspAtAll 0.04500000000000004\n",
            "VerbAtAll 0.0\n",
            "\n",
            "20.\n",
            "<PERF>_<INTIME>_<INTRANS>_('<PRON_nomn>',)\n",
            "ImpfBeforePerf 0.0\n",
            "PresBeforePast 0.0\n",
            "Asp1 1.0\n",
            "Verb1 1.0\n",
            "AspAtAll 0.0\n",
            "VerbAtAll 0.0\n",
            "\n",
            "21.\n",
            "<PERF>_<K>_<TRANS>_('<PRON_nomn>', '<NOUN_accs>')\n",
            "ImpfBeforePerf 0.1790722761596548\n",
            "PresBeforePast 0.10140237324703344\n",
            "Asp1 0.623\n",
            "Verb1 0.724\n",
            "AspAtAll 0.10299999999999998\n",
            "VerbAtAll 0.07399999999999995\n",
            "\n",
            "22.\n",
            "<PERF>_<K>_<TRANS>_('<NOUN_nomn>', '<PRON_accs>')\n",
            "ImpfBeforePerf 0.1718907987866532\n",
            "PresBeforePast 0.15874620829120323\n",
            "Asp1 0.727\n",
            "Verb1 0.848\n",
            "AspAtAll 0.03500000000000003\n",
            "VerbAtAll 0.01100000000000001\n",
            "\n",
            "23.\n",
            "<PERF>_<K>_<TRANS>_('<NOUN_nomn>', '<NOUN_accs>')\n",
            "ImpfBeforePerf 0.2926829268292683\n",
            "PresBeforePast 0.19634146341463415\n",
            "Asp1 0.458\n",
            "Verb1 0.605\n",
            "AspAtAll 0.23199999999999998\n",
            "VerbAtAll 0.18700000000000006\n",
            "\n",
            "24.\n",
            "<PERF>_<K>_<INTRANS>_('<NOUN_nomn>',)\n",
            "ImpfBeforePerf 0.08125\n",
            "PresBeforePast 0.06885758998435054\n",
            "Asp1 0.424\n",
            "Verb1 0.381\n",
            "AspAtAll 0.38\n",
            "VerbAtAll 0.375\n",
            "\n",
            "25.\n",
            "<PERF>_<K>_<INTRANS>_('<PRON_nomn>',)\n",
            "ImpfBeforePerf 0.018\n",
            "PresBeforePast 0.018\n",
            "Asp1 0.539\n",
            "Verb1 0.539\n",
            "AspAtAll 0.0\n",
            "VerbAtAll 0.0\n",
            "\n",
            "26.\n",
            "<PERF>_<IMMEDIATELY>_<TRANS>_('<PRON_nomn>', '<NOUN_accs>')\n",
            "ImpfBeforePerf 0.264\n",
            "PresBeforePast 0.255\n",
            "Asp1 0.701\n",
            "Verb1 0.945\n",
            "AspAtAll 0.015000000000000013\n",
            "VerbAtAll 0.0\n",
            "\n",
            "27.\n",
            "<PERF>_<IMMEDIATELY>_<TRANS>_('<NOUN_nomn>', '<PRON_accs>')\n",
            "ImpfBeforePerf 0.447\n",
            "PresBeforePast 0.474\n",
            "Asp1 0.553\n",
            "Verb1 1.0\n",
            "AspAtAll 0.03700000000000003\n",
            "VerbAtAll 0.0\n",
            "\n",
            "28.\n",
            "<PERF>_<IMMEDIATELY>_<TRANS>_('<NOUN_nomn>', '<NOUN_accs>')\n",
            "ImpfBeforePerf 0.36243654822335025\n",
            "PresBeforePast 0.3537832310838446\n",
            "Asp1 0.572\n",
            "Verb1 0.879\n",
            "AspAtAll 0.05900000000000005\n",
            "VerbAtAll 0.025000000000000022\n",
            "\n",
            "29.\n",
            "<PERF>_<IMMEDIATELY>_<INTRANS>_('<NOUN_nomn>',)\n",
            "ImpfBeforePerf 0.2695390781563126\n",
            "PresBeforePast 0.2695390781563126\n",
            "Asp1 0.723\n",
            "Verb1 0.992\n",
            "AspAtAll 0.0020000000000000018\n",
            "VerbAtAll 0.0020000000000000018\n",
            "\n",
            "30.\n",
            "<PERF>_<IMMEDIATELY>_<INTRANS>_('<PRON_nomn>',)\n",
            "ImpfBeforePerf 0.0\n",
            "PresBeforePast 0.0\n",
            "Asp1 1.0\n",
            "Verb1 1.0\n",
            "AspAtAll 0.0\n",
            "VerbAtAll 0.0\n",
            "\n",
            "31.\n",
            "<IMPF>_<ONCE_A>_<TRANS>_('<PRON_nomn>', '<NOUN_accs>')\n",
            "ImpfBeforePerf 0.901\n",
            "PresBeforePast 0.007\n",
            "Asp1 0.885\n",
            "Verb1 0.982\n",
            "AspAtAll 0.0\n",
            "VerbAtAll 0.0\n",
            "\n",
            "32.\n",
            "<IMPF>_<ONCE_A>_<TRANS>_('<NOUN_nomn>', '<PRON_accs>')\n",
            "ImpfBeforePerf 0.995\n",
            "PresBeforePast 0.001\n",
            "Asp1 0.995\n",
            "Verb1 0.991\n",
            "AspAtAll 0.0\n",
            "VerbAtAll 0.0\n",
            "\n",
            "33.\n",
            "<IMPF>_<ONCE_A>_<TRANS>_('<NOUN_nomn>', '<NOUN_accs>')\n",
            "ImpfBeforePerf 0.8737270875763747\n",
            "PresBeforePast 0.023421588594704685\n",
            "Asp1 0.831\n",
            "Verb1 0.947\n",
            "AspAtAll 0.019000000000000017\n",
            "VerbAtAll 0.018000000000000016\n",
            "\n",
            "34.\n",
            "<IMPF>_<ONCE_A>_<INTRANS>_('<NOUN_nomn>',)\n",
            "ImpfBeforePerf 0.8288934426229508\n",
            "PresBeforePast 0.0\n",
            "Asp1 0.784\n",
            "Verb1 0.942\n",
            "AspAtAll 0.031000000000000028\n",
            "VerbAtAll 0.02400000000000002\n",
            "\n",
            "35.\n",
            "<IMPF>_<ONCE_A>_<INTRANS>_('<PRON_nomn>',)\n",
            "ImpfBeforePerf 0.406\n",
            "PresBeforePast 0.0\n",
            "Asp1 0.406\n",
            "Verb1 1.0\n",
            "AspAtAll 0.0\n",
            "VerbAtAll 0.0\n",
            "\n",
            "36.\n",
            "<IMPF>_<FOR>_<TRANS>_('<PRON_nomn>', '<NOUN_accs>')\n",
            "ImpfBeforePerf 0.799\n",
            "PresBeforePast 0.119\n",
            "Asp1 0.783\n",
            "Verb1 0.979\n",
            "AspAtAll 0.0\n",
            "VerbAtAll 0.0\n",
            "\n",
            "37.\n",
            "<IMPF>_<FOR>_<TRANS>_('<NOUN_nomn>', '<PRON_accs>')\n",
            "ImpfBeforePerf 0.978\n",
            "PresBeforePast 0.14\n",
            "Asp1 0.969\n",
            "Verb1 0.991\n",
            "AspAtAll 0.0\n",
            "VerbAtAll 0.0\n",
            "\n",
            "38.\n",
            "<IMPF>_<FOR>_<TRANS>_('<NOUN_nomn>', '<NOUN_accs>')\n",
            "ImpfBeforePerf 0.8482688391038696\n",
            "PresBeforePast 0.2\n",
            "Asp1 0.782\n",
            "Verb1 0.917\n",
            "AspAtAll 0.020000000000000018\n",
            "VerbAtAll 0.020000000000000018\n",
            "\n",
            "39.\n",
            "<IMPF>_<FOR>_<INTRANS>_('<NOUN_nomn>',)\n",
            "ImpfBeforePerf 0.9488977955911824\n",
            "PresBeforePast 0.17935871743486975\n",
            "Asp1 0.86\n",
            "Verb1 0.906\n",
            "AspAtAll 0.0020000000000000018\n",
            "VerbAtAll 0.0020000000000000018\n",
            "\n",
            "40.\n",
            "<IMPF>_<FOR>_<INTRANS>_('<PRON_nomn>',)\n",
            "ImpfBeforePerf 0.894\n",
            "PresBeforePast 0.013\n",
            "Asp1 0.889\n",
            "Verb1 0.995\n",
            "AspAtAll 0.0\n",
            "VerbAtAll 0.0\n",
            "\n",
            "41.\n",
            "<IMPF>_<LONG>_<TRANS>_('<PRON_nomn>', '<NOUN_accs>')\n",
            "ImpfBeforePerf 0.942\n",
            "PresBeforePast 0.04\n",
            "Asp1 0.935\n",
            "Verb1 0.989\n",
            "AspAtAll 0.0\n",
            "VerbAtAll 0.0\n",
            "\n",
            "42.\n",
            "<IMPF>_<LONG>_<TRANS>_('<NOUN_nomn>', '<PRON_accs>')\n",
            "ImpfBeforePerf 1.0\n",
            "PresBeforePast 0.022\n",
            "Asp1 1.0\n",
            "Verb1 1.0\n",
            "AspAtAll 0.0\n",
            "VerbAtAll 0.0\n",
            "\n",
            "43.\n",
            "<IMPF>_<LONG>_<TRANS>_('<NOUN_nomn>', '<NOUN_accs>')\n",
            "ImpfBeforePerf 0.963\n",
            "PresBeforePast 0.06106106106106106\n",
            "Asp1 0.936\n",
            "Verb1 0.97\n",
            "AspAtAll 0.0\n",
            "VerbAtAll 0.0020000000000000018\n",
            "\n",
            "44.\n",
            "<IMPF>_<LONG>_<INTRANS>_('<NOUN_nomn>',)\n",
            "ImpfBeforePerf 1.0\n",
            "PresBeforePast 0.115\n",
            "Asp1 0.989\n",
            "Verb1 0.989\n",
            "AspAtAll 0.0\n",
            "VerbAtAll 0.0\n",
            "\n",
            "45.\n",
            "<IMPF>_<LONG>_<INTRANS>_('<PRON_nomn>',)\n",
            "ImpfBeforePerf 1.0\n",
            "PresBeforePast 0.0\n",
            "Asp1 1.0\n",
            "Verb1 1.0\n",
            "AspAtAll 0.0\n",
            "VerbAtAll 0.0\n"
          ]
        }
      ]
    },
    {
      "cell_type": "code",
      "source": [
        "x = sentence_results[aspect][cat][trans][tag_pair]['perf_n']"
      ],
      "metadata": {
        "id": "fWIkPrZuArB8"
      },
      "execution_count": null,
      "outputs": []
    },
    {
      "cell_type": "code",
      "source": [
        "hm = torch.load(\"/content/drive/MyDrive/Think-BERT/data/experiment2/results/<PERF>_<K>_<INTRANS>_('<NOUN_nomn>',).pt\",\n",
        "                map_location=torch.device('cpu'))"
      ],
      "metadata": {
        "id": "lU4BW3WeWkO-"
      },
      "execution_count": null,
      "outputs": []
    },
    {
      "cell_type": "code",
      "source": [
        "for i, row in enumerate(hm):\n",
        "  if verb_at_n(row, tokenizer, morph) != 0:\n",
        "    print(row)\n",
        "    print(i)"
      ],
      "metadata": {
        "colab": {
          "base_uri": "https://localhost:8080/"
        },
        "id": "UQXOG6l1FZTx",
        "outputId": "f215b9a9-cd49-4ce4-d49d-2094f1801e88"
      },
      "execution_count": null,
      "outputs": [
        {
          "output_type": "stream",
          "name": "stdout",
          "text": [
            "tensor([21853, 10753, 24790, 28657, 21899, 36799, 40559, 30855, 58868, 37037])\n",
            "1\n",
            "tensor([  326, 16170,   866,   108,  2077, 37293, 51163,  1565,   122,  3422])\n",
            "2\n",
            "tensor([21853, 28657, 10753, 24790, 36085, 54992, 24930, 11537, 10862, 54774])\n",
            "5\n",
            "tensor([46644, 14872, 18067, 36222,  8959, 14072, 36836, 32855, 26727, 95240])\n",
            "6\n",
            "tensor([16170, 80281, 59182, 87419, 31096, 89389,   326, 68644, 51163, 40625])\n",
            "8\n",
            "tensor([  326,   866, 21853,   108, 16170, 89389,  6300,  5746,   132, 51163])\n",
            "11\n",
            "tensor([46644, 14872,  8959, 27968, 18067, 26727, 62344, 36222, 32855, 40592])\n",
            "12\n",
            "tensor([16170, 51163,   866,   326, 26251,   108,  3422,  3521, 89389, 21853])\n",
            "13\n",
            "tensor([ 16170,  51163,  89389,  51624, 111134,  47233, 110530,  50867,  26019,\n",
            "         80420])\n",
            "14\n",
            "tensor([16170,   326,   108,   122, 51163,  3422,   866, 26251, 37293,  4414])\n",
            "15\n",
            "tensor([16170, 51163,  3422, 89389, 26251, 26019, 74366, 96717,   866,  6496])\n",
            "16\n",
            "tensor([51163,   866, 16170, 26251, 31096, 89389, 81931,   326,  9699, 38213])\n",
            "18\n",
            "tensor([  326,   108,   866, 16170,   122,   132,  3451, 21853, 36440,  3422])\n",
            "20\n",
            "tensor([24790, 21853, 43600, 10753, 24994, 44837, 63787, 28657, 31977,   326])\n",
            "21\n",
            "tensor([16170, 51163, 89389, 26019, 51624, 65733, 26251, 74366, 47390, 81615])\n",
            "22\n",
            "tensor([  326, 16170, 38213, 31096, 59182, 33715, 80281, 48683,   108, 74366])\n",
            "23\n",
            "tensor([16170,   326, 51163, 26251, 68644, 74366, 80281, 89389, 53909, 40625])\n",
            "26\n",
            "tensor([16170, 40625, 80281,   326, 51163, 59182, 87419, 89389, 26251, 33715])\n",
            "27\n",
            "tensor([14224, 16170, 26727, 63386, 40083, 36222, 37415, 89983, 53827, 71087])\n",
            "28\n",
            "tensor([   866,  87419,  30806,    326,   1565,  35375,  32606, 104416, 116458,\n",
            "         65733])\n",
            "30\n",
            "tensor([46644, 14872, 18067,  8959, 36222, 14072, 26727, 32855, 21899, 36836])\n",
            "35\n",
            "tensor([10753, 21853, 24790, 28657, 21899, 36799, 30855, 40559, 58868,  8953])\n",
            "36\n",
            "tensor([ 40625, 104416, 118680,  51962,  71950, 103969,  87419,  42346, 105588,\n",
            "         39874])\n",
            "38\n",
            "tensor([16170,   326, 51163, 80420, 26251, 74366, 38213,   108, 89389,   122])\n",
            "39\n",
            "tensor([26251, 74366, 16170, 40324, 58468, 68644, 43238, 14847, 40625, 93343])\n",
            "41\n",
            "tensor([ 26251,  16170,  74366,  40625,  51163,  40324,  68644,  58468, 104416,\n",
            "         93343])\n",
            "42\n",
            "tensor([   326,  89389,  16170,    108, 110530,  51163, 111134,  59694,  53909,\n",
            "         42346])\n",
            "46\n",
            "tensor([46644, 21853, 14872, 36836,  8959, 50047, 15320, 13108,  9620, 18067])\n",
            "48\n",
            "tensor([   326,  38213,    122,    108,  74366,  57044,  32606,  12138,  90068,\n",
            "        116459])\n",
            "49\n",
            "tensor([  326, 16170, 38213, 31096, 59182, 33715, 80281, 48683,   108, 74366])\n",
            "51\n",
            "tensor([ 57044,  89389,  67065,  98423,  80146,  25268,  48623,  52878, 109964,\n",
            "         45856])\n",
            "52\n",
            "tensor([ 3521,   866, 70782, 96717, 65733,   326, 51259, 74366, 24092, 87419])\n",
            "53\n",
            "tensor([ 16170,  51163,   3422,  44278,  48683,  85527,  26727,  15472,    326,\n",
            "        111178])\n",
            "54\n",
            "tensor([  108,   326, 16170,   866, 29895, 17989, 51163,  3422, 88149,   132])\n",
            "55\n",
            "tensor([42095, 58868, 21899, 24930, 40559, 20557, 36278, 30855, 36799,   326])\n",
            "58\n",
            "tensor([21853, 24790, 40028, 31702, 14072,  8959, 57111, 10753, 51083, 46644])\n",
            "59\n",
            "tensor([ 18393,  20557, 107480,  57090,  37258,  31977,  43600,  24994,  59168,\n",
            "         21899])\n",
            "60\n",
            "tensor([  108,   326,   866, 21853, 29460, 16170,   132,   842,  6300,   122])\n",
            "61\n",
            "tensor([ 53909,  24790,  21853,   3451,  28657,    866, 102160,  12507,  16170,\n",
            "           326])\n",
            "62\n",
            "tensor([16170, 26251, 74366,   326, 40324, 68644, 51163, 93343, 43238, 80420])\n",
            "63\n",
            "tensor([16170, 26251, 51163,   866,   326,  3422, 74366,   108, 40625, 89389])\n",
            "64\n",
            "tensor([16170, 31096, 51163, 82897, 99700, 74366, 89389,   326, 44266, 48683])\n",
            "65\n",
            "tensor([ 53909,  21853,  24790,   3451,  28657, 102160,  12507,  21899,  35098,\n",
            "         29895])\n",
            "66\n",
            "tensor([   326,    866,  16170,    108,  87419,    122, 109403,  32606,  74366,\n",
            "         40625])\n",
            "67\n",
            "tensor([18067, 14872, 46644, 36836, 14072, 21899,  8959, 32855, 40592, 27968])\n",
            "68\n",
            "tensor([21853, 28657, 24790, 10753, 10862,   122,   108, 43600, 24994, 63787])\n",
            "69\n",
            "tensor([16170, 74366, 26251, 51163,   326, 58468, 80420,   122, 38213, 89389])\n",
            "72\n",
            "tensor([ 21853,  10753,  24790,  28657,  24994,  43600,  63787,  44837, 108546,\n",
            "         31977])\n",
            "74\n",
            "tensor([24790, 21853, 10753, 21937, 31014, 44837, 24994, 31485,  8959, 33764])\n",
            "75\n",
            "tensor([16170, 51163, 26251, 74366,  3422,  9386,   866, 14847,   326, 58468])\n",
            "76\n",
            "tensor([81907, 50887, 36836, 61251, 12837, 50284, 42105, 52552,  8047, 13108])\n",
            "77\n",
            "tensor([ 33715,  87419,  48683,  59182, 111134,  40625,  67875,  16170,  80281,\n",
            "         89389])\n",
            "78\n",
            "tensor([  108,   326, 53909, 29895,   866, 21853, 12507,  6300, 16170, 89983])\n",
            "82\n",
            "tensor([ 16170,  40625,  51163,  42346,  26251,    326,  85006,  89389,  31096,\n",
            "        104416])\n",
            "83\n",
            "tensor([16170, 51163,   326,   108,   866, 26251,   122, 74366,   867, 81931])\n",
            "84\n",
            "tensor([  326, 16170,   108, 26251, 51163,   132,  1020, 74366, 53909, 38213])\n",
            "85\n",
            "tensor([46644, 14872, 18067,  8959, 36222, 14072, 40592, 15320, 36836, 95240])\n",
            "86\n",
            "tensor([16170, 51163, 89389, 26251, 74366,   326, 26019,  9386, 65733,  3422])\n",
            "88\n",
            "tensor([16170,   326,   108,   866, 51163, 87419, 48683, 80281,  3451, 59182])\n",
            "89\n",
            "tensor([72655, 82897, 55020, 33715, 40625, 46736, 44266, 49419, 48776, 35375])\n",
            "90\n",
            "tensor([  866, 21853,   326, 51163, 16170, 53909, 31938,   108, 47233, 38213])\n",
            "92\n",
            "tensor([16170, 51163, 89389, 31096,   326, 37293, 26251, 80420, 74366, 96717])\n",
            "93\n",
            "tensor([ 18393,  20557, 107480,  43600,  57090,  24994,  31977,  63787,  21899,\n",
            "         40559])\n",
            "95\n",
            "tensor([16170, 51163,  3422, 26251,   866, 74366,   326, 12258,  9386, 21853])\n",
            "97\n",
            "tensor([46644,  8959, 21853, 21085, 14872, 29023, 14072, 62344, 15320,  9620])\n",
            "98\n",
            "tensor([16170, 51163, 26251, 89389,  9386,  3422, 33715,   326, 26019,  3451])\n",
            "99\n",
            "tensor([21853, 28657, 18393, 24790, 49634, 43600, 10753, 24994, 63787, 31977])\n",
            "100\n",
            "tensor([16170, 89389, 68032, 38213, 40625, 51163, 80420, 98606, 74366, 42346])\n",
            "102\n",
            "tensor([  326, 21853, 29895, 23049, 70479, 16170, 53909,   108, 30729, 31732])\n",
            "103\n",
            "tensor([21853, 28657, 24790, 10753, 10862,   122,   108, 43600, 24994, 63787])\n",
            "104\n",
            "tensor([16170, 38213, 26251,   326, 74366, 80420, 51163,   108, 43238, 89389])\n",
            "108\n",
            "tensor([46644, 14872, 15320,  8959,  7431, 52552, 36836, 44508, 27968, 81907])\n",
            "109\n",
            "tensor([16170,   326, 53909,  3451, 46850,   108, 51163, 89389,   866, 51624])\n",
            "110\n",
            "tensor([21853, 10753, 24790, 36085, 28657, 54992, 24930, 10862, 31274, 72414])\n",
            "111\n",
            "tensor([ 16170,  89389,  51163,  51624,  26019,  37293,  37770,  32606, 104416,\n",
            "         67875])\n",
            "112\n",
            "tensor([ 73316,    326,  47390,  89389,  38213,  32606,  49419, 112049,  96717,\n",
            "           108])\n",
            "116\n",
            "tensor([   326,  16170,    108,    122,    866,  51163,  87419, 109403,  65733,\n",
            "         74366])\n",
            "117\n",
            "tensor([46644, 14872,  8959, 27968, 40592, 15320, 11346, 18067, 36222, 89721])\n",
            "123\n",
            "tensor([ 21853,  24790,  10753,  28657,  31014,  21937, 103978,  44837,  43600,\n",
            "         24994])\n",
            "124\n",
            "tensor([16170, 89389, 74366, 65733, 26251, 51624, 51163, 26019, 37293, 47390])\n",
            "126\n",
            "tensor([16170, 26251,  9386, 51163, 14847, 74366, 40625,  3422, 25770,   866])\n",
            "127\n",
            "tensor([16170,   326,   108,   866, 51163,  3422, 26251, 89389,   122, 16340])\n",
            "130\n",
            "tensor([ 65733,  87419,  58864,  51229,  71950,    866,  16170, 104416, 116458,\n",
            "           326])\n",
            "131\n",
            "tensor([16170, 51163, 74366, 26251,   108,   326,   122,  3422, 87419, 81931])\n",
            "132\n",
            "tensor([16170,   326,   108,  3422, 29895, 53909,   866, 16340,   132, 26251])\n",
            "133\n",
            "tensor([  326,   108, 37293,   866, 53909, 16170, 21853, 89389, 96717, 29460])\n",
            "134\n",
            "tensor([ 40625, 104416, 118680,  71950,  87419,  51962,  42346, 105588,    866,\n",
            "         41313])\n",
            "138\n",
            "tensor([63427, 48683,   326, 39188,  4724, 16170, 87419,  3451,   866, 28518])\n",
            "139\n",
            "tensor([ 80281,  59182,  16170,  31096,    326,  51163, 116560,  89389,  87419,\n",
            "         40625])\n",
            "140\n",
            "tensor([ 40625,  33715, 111134,  67875,  81615,  87419,  59182,  89389,  51624,\n",
            "         48683])\n",
            "141\n",
            "tensor([51163, 16170, 31096, 89389, 44266, 82897, 59683, 40324, 74366, 55020])\n",
            "144\n",
            "tensor([  326, 16170,   108, 51163, 89389, 38213, 80420, 26251, 32606, 53909])\n",
            "145\n",
            "tensor([21853, 10753, 24790, 28657, 43600, 54774,   108, 18393,   326, 12507])\n",
            "147\n",
            "tensor([47390, 89389, 96717, 38213, 37293, 80420, 32606, 64039, 73316, 58468])\n",
            "148\n",
            "tensor([16170, 51163, 26251,  3422, 74366,  9386, 14847, 37293, 89389,   326])\n",
            "154\n",
            "tensor([21853, 10753, 24790, 28657, 21899, 36799, 40559, 30855, 58868, 37037])\n",
            "155\n",
            "tensor([16170, 51163, 26251, 74366,   326, 80420, 58468, 43238, 68250,  2077])\n",
            "158\n",
            "tensor([16170,   866,   326, 21927,   108, 16340, 32606, 51163, 30729, 80420])\n",
            "160\n",
            "tensor([21853, 10753, 28657, 24790,  9620, 14072, 46644, 37504, 15320, 54774])\n",
            "161\n",
            "tensor([ 89389,  40625,  16170,  71950,  53909,  32606, 110530,  72231,    326,\n",
            "        114379])\n",
            "162\n",
            "tensor([21853, 24790, 10753,   326, 15320, 28657,  8959, 88812, 14872, 49295])\n",
            "163\n",
            "tensor([16170,   326,   866, 80281, 53909, 51163,   108, 59182,  3451, 87419])\n",
            "164\n",
            "tensor([16170, 51624,  3451, 65733, 20744, 51163, 89389,   326, 26251,   866])\n",
            "166\n",
            "tensor([ 16170,  89389,  51624,  51163,  74366,  65733, 104416,  26251,  26019,\n",
            "         47390])\n",
            "167\n",
            "tensor([51163, 16170,   326,   108, 31096,  3451, 99700, 82897, 26251, 80492])\n",
            "168\n",
            "tensor([16170,  3422,   326,   866,   108, 26251,  8221, 21853, 51163,   132])\n",
            "169\n",
            "tensor([  866,   326, 37293, 44278, 89389, 14631,   108, 11298, 47390,   867])\n",
            "170\n",
            "tensor([ 18393,  58868,  43600,  44254,  24994,  40559,  35098,  13736, 107480,\n",
            "         50978])\n",
            "171\n",
            "tensor([16170, 40625, 89389, 26251, 80281, 51624, 68032, 59182, 17032, 42346])\n",
            "172\n",
            "tensor([16170, 14224, 51163, 63386, 40083, 19076, 33715, 85924, 89983, 56752])\n",
            "174\n",
            "tensor([74366, 26251, 16170, 51163, 58468, 80420, 43238, 68644, 14847, 93343])\n",
            "175\n",
            "tensor([  326,   866, 16170,  4414, 26593,   842,   108,   898,  3231, 29656])\n",
            "176\n",
            "tensor([ 21853,  24790,  10753,  28657,  43600,  24994, 108546,  63787,  40559,\n",
            "         18829])\n",
            "177\n",
            "tensor([21853, 24790, 28657, 10753, 18393, 21899, 11537, 24994, 35804, 35098])\n",
            "178\n",
            "tensor([16170, 51163, 26251,   108,   326,   866, 74366,  9386, 37293, 81931])\n",
            "182\n",
            "tensor([111134,  12507,  16170,  38213,  57044,  68032,  71087,    326,  39680,\n",
            "           108])\n",
            "183\n",
            "tensor([ 18393, 107480,  63787,  37258,  43600,  13736,  23049,  35098,  58868,\n",
            "         24994])\n",
            "184\n",
            "tensor([16170,   866,   326, 21927,   108, 16340, 32606, 51163, 30729, 80420])\n",
            "186\n",
            "tensor([89389, 38213, 32606,   326, 31096, 16170, 80420, 59182, 67875, 96717])\n",
            "187\n",
            "tensor([21853, 43600, 24790, 64204, 36085, 18393, 10753, 37500, 54992, 37258])\n",
            "190\n",
            "tensor([21853, 10753, 24790, 28657,   326, 18876, 12352, 72414, 39457,   122])\n",
            "193\n",
            "tensor([37293, 64039, 89389, 96717, 26019, 47390, 73771, 44278, 80420, 16170])\n",
            "195\n",
            "tensor([  326, 16170, 51163,   108, 80420, 89389,   122, 74366, 63292,  2077])\n",
            "196\n",
            "tensor([ 16170,  51163,  89389,  51624,  50867,  74366,  26019, 109403, 104416,\n",
            "         33715])\n",
            "198\n",
            "tensor([21853, 24790, 10753, 43600, 28657, 12507, 10862,   326,   122, 44254])\n",
            "201\n",
            "tensor([16170,   326, 29895,   108,  3422,   866, 51163, 35098, 53909, 16340])\n",
            "202\n",
            "tensor([ 40625, 104416,    866, 109403,  71950,    326,  89389, 118680,    108,\n",
            "          4724])\n",
            "203\n",
            "tensor([16170, 51163, 26251,  3422,  9386, 33715, 74366,   866,   326, 89389])\n",
            "204\n",
            "tensor([ 40324,  26251,  38213,  68644,    326,  16170,  59182,  17032, 104416,\n",
            "         71950])\n",
            "206\n",
            "tensor([   108,    326,    866,  53909,  21853,  12507,  89389,  16170,  29895,\n",
            "        111134])\n",
            "207\n",
            "tensor([16170,   326, 51163, 96717, 89389, 37293,   108,   866,  3422, 74366])\n",
            "209\n",
            "tensor([24790, 10753, 21853, 43600, 24994, 40559, 36799, 31014, 21899, 12507])\n",
            "210\n",
            "tensor([ 67065,  36831,  38213,  81744,  31096,  47390,  80146, 105680,  65735,\n",
            "         37770])\n",
            "211\n",
            "tensor([ 16170,  51163,  26251,  40625,  89389, 104416,  33715,  74366,  96398,\n",
            "         87419])\n",
            "212\n",
            "tensor([16170, 89389, 37293,   326, 51163, 31096, 96717, 74366, 80420, 26019])\n",
            "213\n",
            "tensor([ 16170,    108,    326,    866,  51163,  89983, 111134,  53909,   4724,\n",
            "         48683])\n",
            "214\n",
            "tensor([16170, 51163, 26251, 74366,   326,   108,  9386, 89389, 80420,   122])\n",
            "215\n",
            "tensor([  326, 16170,   108,   866, 51163, 26251, 89389,   122, 21853,  3422])\n",
            "217\n",
            "tensor([16170, 51163,   326, 89389,   108,   866, 37293, 21853, 38213,   122])\n",
            "219\n",
            "tensor([  866, 45856, 21853,   326, 53909, 31938, 28657, 27779,  9217,  8953])\n",
            "222\n",
            "tensor([16170,   326, 51163,   866,  2077,   108,   122, 53909, 89389, 74366])\n",
            "223\n",
            "tensor([21853, 43600, 24790, 28657, 10753, 18393, 24994, 31977,   108, 44837])\n",
            "224\n",
            "tensor([24790, 10753, 21853, 43600, 24994, 40559, 36799, 31014, 21899, 12507])\n",
            "227\n",
            "tensor([ 89389,  40625,  16170,  71950,  53909,  32606, 110530,  72231,    326,\n",
            "        114379])\n",
            "228\n",
            "tensor([ 18393,  20557, 107480,  43600,  57090,  24994,  31977,  63787,  21899,\n",
            "         40559])\n",
            "231\n",
            "tensor([21853, 27843, 81632, 33764, 23027, 24790, 23263, 40150,   108, 50858])\n",
            "232\n",
            "tensor([  108,   326, 49634, 31977, 44837, 24994,   122, 43600, 43590,   132])\n",
            "233\n",
            "tensor([ 21853,  24790,  10753,  31014,  28657,  21937,  44837,  24994, 103978,\n",
            "         43600])\n",
            "238\n",
            "tensor([26251, 16170, 93343, 58468, 74366, 47519, 40625, 68644, 40324, 42346])\n",
            "239\n",
            "tensor([16170, 51163,   108,   326, 26251,   866, 89389, 99700, 31096, 74366])\n",
            "240\n",
            "tensor([ 16170,  89389,  26019,  51163,  51624,    866,  81615, 104416,   3422,\n",
            "         93611])\n",
            "241\n",
            "tensor([   326,  16170,    108,    866,   3422,   5419,  37293,    132,   3451,\n",
            "        115193])\n",
            "243\n",
            "tensor([  326,   108,   866, 16170,   122,   132,  3451, 21853, 36440,  3422])\n",
            "244\n",
            "tensor([24790, 10753, 21853, 21899, 36799, 28657,   326, 40559, 30855, 37037])\n",
            "245\n",
            "tensor([33715,   866, 48683, 35375, 55020, 16170, 87419, 91823, 99700, 82897])\n",
            "247\n",
            "tensor([16170, 51163,  3422, 26251,   326, 74366,   866,  9386, 12258, 33270])\n",
            "248\n",
            "tensor([16170, 89389, 38213, 55020, 31096, 51163, 82897, 46075, 40324, 74366])\n",
            "249\n",
            "tensor([ 67065,  36831,  38213,  80146, 109964,  89389,  52878,  47390,  37770,\n",
            "         81744])\n",
            "250\n",
            "tensor([16170,   326, 74366, 51163, 26251,   108,   122, 65733,  9386, 80420])\n",
            "251\n",
            "tensor([16170,   326, 26727,   108, 51163,   866, 15472,  3422, 31702,   132])\n",
            "252\n",
            "tensor([  326, 29895, 23049, 29460, 70479, 21853,   866, 19096, 31732, 47178])\n",
            "254\n",
            "tensor([16170,   326,   866,   108, 51163, 80420, 32606, 89389,   842,  3422])\n",
            "255\n",
            "tensor([ 46644,  13108,  21853,   9620,  24790,  36836, 113045,  58868,  81907,\n",
            "         15320])\n",
            "256\n",
            "tensor([  326, 16170, 38213, 31096, 59182, 33715, 80281, 48683,   108, 74366])\n",
            "257\n",
            "tensor([16170, 89389, 51163, 51624,   866, 50867, 26019, 33715, 13325, 74366])\n",
            "261\n",
            "tensor([  326, 16170, 89389, 32606, 51163, 46736,   108,   122, 80420, 67875])\n",
            "262\n",
            "tensor([16170, 51624, 89389, 51163,  3451, 26019, 65733, 74366,   866, 47390])\n",
            "264\n",
            "tensor([   326,  63427,  46736,  48683,  16170,  37770,  32606, 111134,  67875,\n",
            "         52826])\n",
            "268\n",
            "tensor([16170, 26251,  9386, 51163, 74366,   866,   326, 40625, 14847,  3451])\n",
            "270\n",
            "tensor([16170, 51163, 89389, 26019, 51624, 81615, 37770,   866,  3422, 37293])\n",
            "271\n",
            "tensor([51163, 21853,   326,   866, 16170, 53909,   108, 31938, 38213, 29460])\n",
            "272\n",
            "tensor([16170, 89389, 51163, 68032, 26019,   866, 40625, 98606, 13325,   326])\n",
            "273\n",
            "tensor([16170,   326,   108,   866,   122,   867, 74366, 81931, 37293, 51163])\n",
            "276\n",
            "tensor([  326,   866, 16170,   108,   122, 51163, 87419, 53909,  3451,   867])\n",
            "277\n",
            "tensor([ 30604, 108546,  83253,  54584,  44970,  77970,  34961,  46717,  44462,\n",
            "        104475])\n",
            "278\n",
            "tensor([   326,  16170,    108,    866,   3422,   5419,  37293,    132,   3451,\n",
            "        115193])\n",
            "279\n",
            "tensor([16170, 51163, 89389,  3422,   326, 51624, 53909, 74366, 26251, 47233])\n",
            "280\n",
            "tensor([16170,   326, 51163, 26251,   866,   108,  3422, 89389,   842, 26019])\n",
            "281\n",
            "tensor([ 89389,  40625,  16170,  71950,    326,  32606, 104416,  53909,  51163,\n",
            "        110530])\n",
            "285\n",
            "tensor([21853, 24790, 28657, 10753, 18393, 21899, 11537, 24994, 35804, 35098])\n",
            "286\n",
            "tensor([46644, 14872,  8959, 15320, 18067, 36836, 36222, 27968, 95240, 32855])\n",
            "287\n",
            "tensor([16170, 51163, 26251,  3422,   326,  9386, 74366, 40625,   866, 71950])\n",
            "288\n",
            "tensor([21853, 24790, 10753, 28657, 54774, 55304, 11537, 43600,   326, 49634])\n",
            "290\n",
            "tensor([  326, 16170, 32606, 80420, 51163,   108, 89389, 47390, 14789, 26251])\n",
            "291\n",
            "tensor([38213,   122, 74366, 16170, 12138, 80281, 57044,   108,   326,   869])\n",
            "293\n",
            "tensor([ 16170,  51163,  57813,  33715,  87419,  39874,  48683,  28518, 108047,\n",
            "         80492])\n",
            "296\n",
            "tensor([21853, 24790, 10753,   326, 28657, 46644, 14872, 26727, 39457,  9620])\n",
            "297\n",
            "tensor([16170,   326, 51163,   108, 37293, 89389,   866,  3422, 53909, 96717])\n",
            "298\n",
            "tensor([16170, 51163, 40625, 26251, 74366, 71950,  9386,   326,   108,   866])\n",
            "299\n",
            "tensor([ 18393,  43600,  20557,  24994, 107480,  31977,  57090,  63787,  37258,\n",
            "         21899])\n",
            "300\n",
            "tensor([74366, 16170,   326, 80420, 32606, 26251,   122, 89389, 38213, 65733])\n",
            "301\n",
            "tensor([16170,  3422, 51163, 26251, 74366,   866, 80420,  9386,   326,   122])\n",
            "302\n",
            "tensor([28672, 80334, 68241, 86188, 50858, 19644, 33340, 94074, 33736, 36721])\n",
            "303\n",
            "tensor([26727, 18067, 14072, 89721, 46644, 14872,  8959, 29111, 32855, 56405])\n",
            "304\n",
            "tensor([16170,   108,   122,   866,   326, 38213, 51163,   867, 63292, 47233])\n",
            "305\n",
            "tensor([   326,  16170,  37293,  96717, 110530,  89389,    108,  74366,  20876,\n",
            "         51163])\n",
            "308\n",
            "tensor([16170, 51163,   326,  3422, 26251,   108,   866, 33270, 53909, 74366])\n",
            "309\n",
            "tensor([51163, 31096, 16170, 59683, 89389,  3451, 32928, 82897, 38213, 55020])\n",
            "310\n",
            "tensor([  326, 74366,   122, 38213, 80420, 16170, 32606,   108, 89389, 26251])\n",
            "311\n",
            "tensor([26251, 93343, 68644, 74366, 40324, 40625, 58468, 16170, 80281, 71950])\n",
            "312\n",
            "tensor([16170,   326, 37293,   108,  3422,   866, 74366,  2077, 80420, 89389])\n",
            "313\n",
            "tensor([ 21853,  28657,  24790,  10753, 102055,   7089,  61937,  21992,  31751,\n",
            "         16927])\n",
            "315\n",
            "tensor([16170,  3422, 51163, 26251, 74366,   866, 80420,  9386,   326,   122])\n",
            "318\n",
            "tensor([46644, 14072, 31702,  8959, 26727, 14872, 18067, 29023, 32855, 36222])\n",
            "319\n",
            "tensor([ 24790,  21853,  49634,  43600, 108546,  10753,  31977,  55304,  18393,\n",
            "         63787])\n",
            "320\n",
            "tensor([51163,   326, 16170,   866,   108, 89389, 21853, 29460, 26251, 80420])\n",
            "322\n",
            "tensor([  326, 21853,   108, 51163,  6300,   866, 16170, 47233,  5746, 22283])\n",
            "323\n",
            "tensor([63427, 48683,   326, 39188,  4724, 16170, 87419,  3451,   866, 28518])\n",
            "324\n",
            "tensor([ 40625,  16170,  42346, 104416,  26251,  89501,  99347, 118680, 100226,\n",
            "         65040])\n",
            "325\n",
            "tensor([ 18393,  63787, 107480,  58868,  43600,  24994,  35098,  13736,  23049,\n",
            "         37258])\n",
            "327\n",
            "tensor([21853, 24790, 10753, 28657, 43600, 12507, 15320,   108, 18393, 44837])\n",
            "328\n",
            "tensor([16170, 51163,  3422, 74366, 26251, 89389,   866, 32606, 80420, 38213])\n",
            "329\n",
            "tensor([  866,   326, 40625, 89389, 53909, 16170,   108, 21853, 71950, 26019])\n",
            "331\n",
            "tensor([ 87419,  16170,  48683,  51163,  57813,    866,  59182,  33715, 106953,\n",
            "          1648])\n",
            "332\n",
            "tensor([16170, 33715, 51163, 80281, 48683, 87419, 59182, 74366, 40324, 26251])\n",
            "333\n",
            "tensor([16170, 14224, 51163, 40083, 19076, 85924, 33715, 89389, 63386, 26251])\n",
            "337\n",
            "tensor([31702, 26727, 14072, 18067, 56405, 29111, 41576, 14872, 89721, 37415])\n",
            "338\n",
            "tensor([  122,   866,   108,   326, 16170,   869,   867, 47233, 53909, 14631])\n",
            "339\n",
            "tensor([16170, 26251, 51163, 74366,   326, 80420, 68644, 40324,  9386, 43218])\n",
            "341\n",
            "tensor([16170,   326,   108,   122, 51163,  3422,   866, 26251, 37293,  4414])\n",
            "347\n",
            "tensor([  326,   866,   108,  3451, 16170,   132, 53909,  9699, 21853,   867])\n",
            "348\n",
            "tensor([21853, 10753, 24790, 28657, 43600, 40559, 36799, 24994,   108, 31014])\n",
            "349\n",
            "tensor([   326,    108,  16170,    122,  89389,  51163,  32606, 110530,  38213,\n",
            "         80420])\n",
            "350\n",
            "tensor([21853, 24790, 10753, 28657, 15320, 14872,   108,  8959,   326, 44508])\n",
            "353\n",
            "tensor([24790, 21853, 28657, 10753, 11537, 18393, 35098, 21899, 71247, 53909])\n",
            "354\n",
            "tensor([  326, 16170,   108, 51163, 89389, 38213, 80420, 26251, 32606, 53909])\n",
            "355\n",
            "tensor([16170,   866, 51163,  3451, 89389, 21853, 53909, 38213,   326, 57044])\n",
            "358\n",
            "tensor([ 44266, 110530,    326,  17032, 103961,  82897,    108,  38213,  74366,\n",
            "        115213])\n",
            "361\n",
            "tensor([63427, 48683,   326, 39188,  4724, 16170, 87419,  3451,   866, 28518])\n",
            "365\n",
            "tensor([16170, 51163, 26251,   326,  3422,   108,   866, 53909, 89389, 26019])\n",
            "366\n",
            "tensor([74366,   326, 16170, 39680,   108,   122, 26251, 80281, 38213, 32606])\n",
            "367\n",
            "tensor([40625,   326, 59182,   108, 87419,   866,  9953, 16170, 80281, 31096])\n",
            "370\n",
            "tensor([   326,  53909,  38213,  16170,  73634,  51163,    108,  57044, 102080,\n",
            "         32606])\n",
            "373\n",
            "tensor([16170, 26251, 74366,   866,   326, 40625, 89389, 65733, 80420, 51163])\n",
            "374\n",
            "tensor([81907, 36836, 50887, 61251, 42105, 12837, 52552, 71396, 13108,  8047])\n",
            "376\n",
            "tensor([21853, 24790, 10753, 28657,   326, 10862,   122, 43600, 54774, 24994])\n",
            "377\n",
            "tensor([21853, 14072, 15320, 10753, 14872, 44508,  8959, 36836, 46644, 24790])\n",
            "379\n",
            "tensor([46644, 14872,  8959, 27968, 40592, 11346, 15320, 18067, 22793, 36222])\n",
            "383\n",
            "tensor([16170, 89389, 37293,   326, 74366,   866, 32606, 87419,   108, 80420])\n",
            "385\n",
            "tensor([21853, 28657, 49634, 24790, 18393, 43600,   108,   326, 31977, 10753])\n",
            "386\n",
            "tensor([16170, 89389, 38213, 55020, 31096, 51163, 82897, 46075, 40324, 74366])\n",
            "387\n",
            "tensor([   326,    866,  87419,  65733, 104416,  16170,  51229, 109403,  58864,\n",
            "         71950])\n",
            "388\n",
            "tensor([81907, 50887, 36836, 61251, 12837, 42105, 52552,  8047, 50284, 71396])\n",
            "390\n",
            "tensor([   326,  38213,    122,    108,  74366,  57044,  32606,  12138,  90068,\n",
            "        116459])\n",
            "392\n",
            "tensor([21853, 49859, 24790, 43600, 59734, 23049, 28657, 37500, 43590, 18393])\n",
            "398\n",
            "tensor([16170, 51163,  3422,   866, 33270, 26251, 53909, 70783,   326, 74366])\n",
            "399\n",
            "tensor([51163,   326,   866, 16170, 21853, 53909,  6300, 11298,   108,  3451])\n",
            "400\n",
            "tensor([40625,   866,   326, 87419,   108, 59182, 16170, 80281,  9953, 31096])\n",
            "401\n",
            "tensor([18067, 46644, 36836, 14872, 14072,  8959, 21899, 32855, 40592, 15320])\n",
            "402\n",
            "tensor([  326, 37293,   108, 14631, 96717,   866, 44278, 16170, 89389,  3422])\n",
            "403\n",
            "tensor([ 16170,    326,  96717,  37293,  89389,  51163,    108, 110530,  58864,\n",
            "         53909])\n",
            "405\n",
            "tensor([   326,  16170,  51163,    108, 110530, 111134,  53909,    132,  48683,\n",
            "         89389])\n",
            "407\n",
            "tensor([21853,   326,   866,   108, 16170, 47233,  6300,  5746,   842, 89389])\n",
            "408\n",
            "tensor([16170, 51163, 26251, 89389,  3422, 74366,   326, 96717, 37293,  9386])\n",
            "409\n",
            "tensor([ 46644, 113045,  81907,   9620,  36836,  90773,   8959, 118793,  91185,\n",
            "         14872])\n",
            "410\n",
            "tensor([ 30604,  41504,  43600,  58162,  44837,  83253,  55061,  36085, 108546,\n",
            "         49634])\n",
            "411\n",
            "tensor([16170, 51163,   326, 26251,   866,  3422,  2077, 74366,   108, 89389])\n",
            "412\n",
            "tensor([  326,   108,   866, 16170,   122,   132,  3451, 21853, 36440,  3422])\n",
            "414\n",
            "tensor([ 26251,  35847,  31014, 114629,  51163,  94606,  39188,  43566,  46915,\n",
            "         71087])\n",
            "415\n",
            "tensor([16170, 51163,   326,   866, 26251,   108,  3451, 29460, 40625, 31096])\n",
            "416\n",
            "tensor([21853, 10753, 24790, 36085, 28657, 54992, 24930, 10862, 31274, 72414])\n",
            "417\n",
            "tensor([ 16170,  39188,  48683,  51163,  78997,  59182,    326,   3451,  39680,\n",
            "        102080])\n",
            "418\n",
            "tensor([16170,   108,   326,   122, 51163,   866, 38213, 53909, 74366, 28972])\n",
            "420\n",
            "tensor([16170,   326, 53909,  3451, 46850,   108, 51163, 89389,   866, 51624])\n",
            "421\n",
            "tensor([16170,   326,   108,  3422,   866,   132, 21853, 26251, 37170, 37293])\n",
            "424\n",
            "tensor([16170, 14072, 18067,  3451, 89721,   326, 26727, 59182,   108, 64163])\n",
            "426\n",
            "tensor([ 67065,  36831,  89389,  38213, 109964,  52878,  80146,  37770,  40675,\n",
            "         33061])\n",
            "427\n",
            "tensor([   326,    108, 110530,  88149, 107428,  57044,  38213,  16170, 111134,\n",
            "           132])\n",
            "428\n",
            "tensor([  326, 14872,   108,  8959, 15320,   122,   132, 52005, 25182,  7431])\n",
            "429\n",
            "tensor([ 18393,  31977,  43600, 108546,  24994,  44837,  63787,  49634,  42153,\n",
            "         59168])\n",
            "430\n",
            "tensor([89389, 40625,   326, 87419, 32606, 67875, 38213, 49419, 31096, 42346])\n",
            "431\n",
            "tensor([ 18393, 107480,  24994,  43600,  20557,  31977,  57090,  37258,  63787,\n",
            "         21899])\n",
            "436\n",
            "tensor([16170, 51163,  3422, 89389, 26251, 26019,   866, 74366, 96717, 37293])\n",
            "437\n",
            "tensor([ 30604,  83253,  44970, 108546,  54584,  77970,  36085,  73924,  34961,\n",
            "         58162])\n",
            "440\n",
            "tensor([  326, 53909, 16170,   866, 51163,   108,  3451, 11298, 38213, 12507])\n",
            "441\n",
            "tensor([16170, 51163, 26251, 38213, 74366, 80420, 40625, 68644, 89389,   326])\n",
            "442\n",
            "tensor([16170, 51163,   326, 89389,   108, 50867, 46850,   866, 46075,  3422])\n",
            "443\n",
            "tensor([63427,   326,  4724, 48683, 71801, 22158, 29895, 39188, 16170,   108])\n",
            "445\n",
            "tensor([16170,   326, 26251, 80281, 40324, 38213, 51163, 59182, 68644,   108])\n",
            "447\n",
            "tensor([16170,   326,   866, 26251, 51163,   108, 89389,   842,  3422, 74366])\n",
            "448\n",
            "tensor([16170,   108,   122,   866,   326, 38213, 51163,   867, 63292, 47233])\n",
            "449\n",
            "tensor([  326,   866, 16170, 87419,   108, 31096, 89389, 96717,  1565, 30806])\n",
            "452\n",
            "tensor([30806, 37293, 96717,  9227, 89389, 80420, 35375, 49135, 65121, 38213])\n",
            "455\n",
            "tensor([  326, 29895, 63427, 16170, 48683, 40625, 76291, 18930, 51163,   108])\n",
            "456\n",
            "tensor([16170,   108,   326,   122,   866, 51163, 74366,   132, 53909, 81931])\n",
            "457\n",
            "tensor([ 16170,  51163, 111134,  51624,  33715,  74366,  68032,  89389, 104416,\n",
            "        110530])\n",
            "458\n",
            "tensor([16170,   326,   866,   108,  3422, 26251, 53909, 29895, 51163, 16340])\n",
            "461\n",
            "tensor([16170,   326,   866, 53909,   108, 21853, 51163,   122,  3451,   130])\n",
            "463\n",
            "tensor([16170, 51163,   326,   108,   866, 26251, 31096, 89389, 74366, 44266])\n",
            "464\n",
            "tensor([16170,   326, 51163,   108, 89389, 37293,   866, 96717,  3422, 26251])\n",
            "465\n",
            "tensor([  326,   108,   866, 16170,   132, 21853,  6300, 11298,  5419,  5746])\n",
            "466\n",
            "tensor([16170, 51163,   326,  3422,   108, 26251,   866, 33270, 74366, 16340])\n",
            "467\n",
            "tensor([  326, 63427, 16170,  4724,   108,  3451, 48683, 22158,   132, 71801])\n",
            "468\n",
            "tensor([16170,   326, 89389, 51163, 37293, 80420,   108, 38213, 96717, 32606])\n",
            "471\n",
            "tensor([16170,  3422,   326, 51163,  9699, 40625, 15472, 25887, 26251,   108])\n",
            "472\n",
            "tensor([16170, 51163, 26251, 74366,  9386, 33715,   866,   326, 87419, 40625])\n",
            "473\n",
            "tensor([16170,   326, 37293,   108,  3422,   866, 74366,  2077, 80420, 89389])\n",
            "475\n",
            "tensor([96717,   326, 65733, 16170, 74366, 26251,   866, 51163, 89389,  3521])\n",
            "476\n",
            "tensor([16170,  3422, 51163, 26251,   866,   326,  9386, 21853, 33270,  2077])\n",
            "477\n",
            "tensor([26727, 18067, 14072, 14872, 46644, 89721,  8959, 29111, 32855, 56405])\n",
            "480\n",
            "tensor([16170,   326, 51163,  2077,   108, 53909,   866,   122,  3422,   867])\n",
            "481\n",
            "tensor([16170, 51163, 26251, 74366,   326,   108,  9386, 89389, 80420,   122])\n",
            "483\n",
            "tensor([16170, 71950, 40625, 51163, 38213,   326, 87419, 29895, 74366, 89389])\n",
            "485\n",
            "tensor([  866, 16170,   326,   108,  3451, 31246,  9699,  8953, 26251, 59182])\n",
            "486\n",
            "tensor([46644, 14872,  8959, 27968, 40592, 15320, 11346, 18067, 36222, 89721])\n",
            "487\n",
            "tensor([21853, 24790, 10753, 43600, 44254, 28657, 12507,   326, 31977, 10862])\n",
            "488\n",
            "tensor([16170,   326,   108, 51163,  3422,   866, 26251,   132, 14789,   122])\n",
            "491\n",
            "tensor([51163,   326,   866, 16170, 21853, 53909,  6300, 11298,   108,  3451])\n",
            "492\n",
            "tensor([  326,   866, 37293,   108, 96717, 89389, 87419, 16170, 30806, 53909])\n",
            "493\n",
            "tensor([37293, 89389, 64039, 47390, 96717, 80420, 16170, 26019, 38213, 44278])\n",
            "494\n",
            "tensor([  326,   866,   108,   122, 16170, 38213, 32606, 89389, 87419,   867])\n",
            "495\n",
            "tensor([21853, 10753, 24790, 28657,   326, 18876, 12352, 72414, 39457,   122])\n",
            "497\n",
            "tensor([16170, 89389, 26019, 51624, 51163, 65733, 26251, 74366, 37293, 47390])\n",
            "498\n",
            "tensor([ 16170, 114629,   3422,  67488,  43566,  31014,  35847,  21937, 111704,\n",
            "         26251])\n",
            "499\n",
            "tensor([21853, 10753, 28657, 24790, 36085, 24930, 37500, 54992, 11537, 18393])\n",
            "503\n",
            "tensor([ 37258,  43600,  24994,  20557,  31977, 107480,  18393,  63787,  59168,\n",
            "         57090])\n",
            "504\n",
            "tensor([47390, 89389, 96717, 38213, 37293, 80420, 32606, 64039, 73316, 58468])\n",
            "505\n",
            "tensor([28672, 68241, 94074, 86188, 50858, 80334, 33736, 19644, 94143, 33340])\n",
            "506\n",
            "tensor([59182, 40625,   326, 16170, 80281,   108, 87419, 38213, 17032, 31096])\n",
            "508\n",
            "tensor([ 16170,  89389,  96717,  51163,  37293,    326,  74366,    866,  65121,\n",
            "        108829])\n",
            "509\n",
            "tensor([46644, 52552, 15320, 14872, 36836,  8959, 44508,  7431, 81907, 27968])\n",
            "510\n",
            "tensor([81907, 50887, 36836, 61251, 12837, 42105, 52552,  8047, 50284, 71396])\n",
            "511\n",
            "tensor([  326,   108,   866, 53909, 21853,  9688, 16170,   132, 87701, 17989])\n",
            "512\n",
            "tensor([16170, 51163, 53909,   326,   866,  3451,  3422,   876,   108, 26251])\n",
            "514\n",
            "tensor([ 80420,  51163,  32606,  16170,  38213,    866,   9814, 104729,   9490,\n",
            "         19282])\n",
            "516\n",
            "tensor([16170, 26251,  9386,  3422, 51163,   866, 74366,   326, 65733,  5653])\n",
            "518\n",
            "tensor([  326,   108,   866, 21853, 29460, 16170,   132, 29895, 17989, 31246])\n",
            "520\n",
            "tensor([74366, 26251, 16170, 51163, 58468, 80420, 43238, 68644, 14847, 93343])\n",
            "523\n",
            "tensor([ 34961,  21853, 109582,  30604,  28217,  24790,  36085,  44462,  46717,\n",
            "         77794])\n",
            "524\n",
            "tensor([16170, 26251, 51163, 89389,   326, 74366,  9386, 26019,  3422, 37293])\n",
            "525\n",
            "tensor([16170, 26251,  9386, 51163,   866, 74366,   326,  3422,  3451, 14847])\n",
            "526\n",
            "tensor([67065, 45856, 94337,   866, 31938, 80146,  8464, 25268, 52878, 37770])\n",
            "529\n",
            "tensor([ 51163,  80420,  32606,  16170,   9814,  38213,    866, 104729,   9490,\n",
            "         29906])\n",
            "530\n",
            "tensor([ 16170,  51163, 111134,  51624,  33715,  74366,  68032,  89389, 104416,\n",
            "        110530])\n",
            "531\n",
            "tensor([24790, 21853, 10753, 15320, 49295, 88812, 43600,   108,  7431, 14872])\n",
            "533\n",
            "tensor([16170, 51163,  3422, 26251, 29656, 47390, 44278, 89389, 74366, 33715])\n",
            "534\n",
            "tensor([ 3521, 65733, 96717,   326,   866, 51259, 26251, 24092, 70782, 74366])\n",
            "538\n",
            "tensor([   326,    866,  40625,  96717,  70782,  16170,  37293,   3521, 104416,\n",
            "         35375])\n",
            "539\n",
            "tensor([ 18393,  37258,  24994,  31977,  43600,  50978,  44837,  49634, 107480,\n",
            "        108546])\n",
            "540\n",
            "tensor([ 38213,  40324,  26251,  68644,  80281,    326,  59182,  16170, 104416,\n",
            "         71950])\n",
            "541\n",
            "tensor([89389, 16170, 30806, 96717, 31096, 80420, 74366, 37293, 51163, 70782])\n",
            "545\n",
            "tensor([  9620,  70713,   8959,  24943,  24790,  21853,  21085,  11346,  20780,\n",
            "        108527])\n",
            "546\n",
            "tensor([16170, 51163,  3422, 89389, 26251, 26019,   866, 74366, 96717, 37293])\n",
            "547\n",
            "tensor([14072, 18067, 14872,  8959, 32855, 46644, 36222, 36836, 15320, 89721])\n",
            "548\n",
            "tensor([21853, 28657, 18393, 24790, 49634, 43600, 10753, 24994, 63787, 31977])\n",
            "550\n",
            "tensor([21853, 28657, 24790, 10753,   326,   122, 54774, 17985,   132, 26324])\n",
            "552\n",
            "tensor([21853, 44508, 15320, 14872, 49295,  8959, 36836, 82624, 46644,  7431])\n",
            "553\n",
            "tensor([16170, 51163, 26251,  9386,  3422, 74366, 14847,   866,  2077,   326])\n",
            "555\n",
            "tensor([  326,   866,  5419, 11298, 37293,   108, 14631,   132,  3422, 16170])\n",
            "557\n",
            "tensor([32606,   326, 93211, 63427, 47390, 89389, 45304, 31096, 65735, 80420])\n",
            "559\n",
            "tensor([24790, 21853, 28657, 18393, 10753, 21899, 11537, 35098, 40559, 35804])\n",
            "560\n",
            "tensor([16170, 89389,   326, 26019, 26251, 74366, 37293, 50867,   866,   108])\n",
            "566\n",
            "tensor([ 48683,  87419,  16170,    326,  59182, 106953,  33715,  28518,    866,\n",
            "         57813])\n",
            "569\n",
            "tensor([ 67065,  36831,  38213,  81744,  31096,  47390,  80146, 105680,  65735,\n",
            "         37770])\n",
            "571\n",
            "tensor([ 65733,  87419,  58864,  51229,  71950,    866,  16170, 104416, 116458,\n",
            "           326])\n",
            "572\n",
            "tensor([16170, 51163, 31096, 26251, 89389, 99700, 74366,  3422,   866,   326])\n",
            "573\n",
            "tensor([16170,   326,   108, 40625,   866, 87419, 53909, 59182, 37293, 80281])\n",
            "577\n",
            "tensor([ 44266, 110530,    326,  17032, 103961,  82897,    108,  38213,  74366,\n",
            "        115213])\n",
            "578\n",
            "tensor([ 16170,   3422, 114629,  21937,   9386,  26251,  23027,  31014,  23263,\n",
            "           326])\n",
            "579\n",
            "tensor([  326,   108,   866, 16170,   122,   132,  3451, 21853, 36440,  3422])\n",
            "580\n",
            "tensor([24790, 10753, 21853, 43600, 24994, 40559, 36799, 31014, 21899, 12507])\n",
            "582\n",
            "tensor([46644, 14872, 15320, 52552,  7431,  8959, 44508, 36836, 81907, 27968])\n",
            "583\n",
            "tensor([ 16170,    326,  37293,  96717,  89389,    108,  51163,    866,  53909,\n",
            "        110530])\n",
            "584\n",
            "tensor([ 51163,  16170,  80420,  32606,   3422,  70783,  71724,    866, 104729,\n",
            "          7214])\n",
            "586\n",
            "tensor([   866,  16170,  46075,  12507,    326, 109403,    108,    867,  89389,\n",
            "         50867])\n",
            "588\n",
            "tensor([ 16170,  51163,   3422,  85527,  44278,  26251,  26727, 111178,  15472,\n",
            "         27183])\n",
            "590\n",
            "tensor([21853, 44508, 49295, 15320, 14872, 82624, 36836,  8959, 46644, 43600])\n",
            "591\n",
            "tensor([16170,   326,   122,   108, 51163,   866, 38213, 14631, 53909, 74366])\n",
            "592\n",
            "tensor([26727, 18067, 14072, 14872, 46644, 29111, 29783, 89721,  8959, 31702])\n",
            "593\n",
            "tensor([21853, 24790, 10753, 28657, 15320, 14872,   108, 44508,  8959,   326])\n",
            "597\n",
            "tensor([16170, 51163, 40625, 26251, 74366, 71950,  9386,   326,   108,   866])\n",
            "598\n",
            "tensor([ 18393, 107480,  24994,  43600,  20557,  31977,  57090,  37258,  63787,\n",
            "         21899])\n",
            "599\n",
            "tensor([ 57044,    326,    122,  67065,    866,  52878,  38213,  37770,  33039,\n",
            "        116459])\n",
            "600\n",
            "tensor([89389, 51624, 16170, 51163, 65733, 37770, 26019, 47390, 38213, 81615])\n",
            "601\n",
            "tensor([ 53909,  24790,  87419,  12507, 102160,  16170,  39680,  21853,  80281,\n",
            "         42462])\n",
            "602\n",
            "tensor([  326, 16170,   108,   866,   122, 26251, 51163, 74366, 89389, 65733])\n",
            "604\n",
            "tensor([16170,   108,   122, 51163,   326, 38213,   866, 53909,   867, 63292])\n",
            "605\n",
            "tensor([  326,   108,  3451,   866, 16170, 53909,   132, 39188,   867, 15472])\n",
            "608\n",
            "tensor([16170,   326,   108,   866, 53909,   132, 21853,  3451, 26727, 15472])\n",
            "609\n",
            "tensor([ 40625, 104416, 118680,  71950,  87419,  51962,  42346,  41313, 105588,\n",
            "           866])\n",
            "611\n",
            "tensor([24790, 21853, 24994, 21899, 35098, 43600, 40559, 20557, 18393, 10753])\n",
            "613\n",
            "tensor([16170, 51163, 89389, 26251, 74366,   326, 26019,  9386, 65733,  3422])\n",
            "614\n",
            "tensor([   326,  71950,  36831,  40625,  31096, 110062,  72176,    866,  63292,\n",
            "        104416])\n",
            "615\n",
            "tensor([38213,   326, 32606, 16170,   108, 80281,   122, 31096, 40625, 59182])\n",
            "617\n",
            "tensor([30604, 41504, 43600, 58162, 36085, 44837, 79398, 46717, 77970, 49634])\n",
            "618\n",
            "tensor([16170, 74366, 26251, 68644, 40324, 51163, 58468,   326, 89389, 80420])\n",
            "619\n",
            "tensor([16170, 26251, 51163,  9386, 74366, 14847,  3422, 40625,   866, 25770])\n",
            "623\n",
            "tensor([16170, 51163, 26251, 74366, 33715, 40625,   866,   326,  9386, 87419])\n",
            "624\n",
            "tensor([ 87419, 104416,  40625,  58864,  71950,    866, 118680,  65733,  42346,\n",
            "         33715])\n",
            "625\n",
            "tensor([16170, 51163, 89389, 26251,   326, 74366, 26019, 50867, 80420, 37293])\n",
            "627\n",
            "tensor([ 3521, 65733, 96717,   326,   866, 51259, 26251, 24092, 70782, 74366])\n",
            "628\n",
            "tensor([  326, 16170, 38213, 80420,   108, 74366,   122, 26251, 51163, 32606])\n",
            "632\n",
            "tensor([ 30604,  83253,  44970, 108546,  54584,  77970,  36085,  73924,  34961,\n",
            "         58162])\n",
            "633\n",
            "tensor([18067, 46644, 14872, 36836, 14072, 40592, 32855, 21899,  8959, 27968])\n",
            "634\n",
            "tensor([ 38213,  40324,  26251,  68644,  80281,    326,  59182,  16170, 104416,\n",
            "         71950])\n",
            "635\n",
            "tensor([16170,   326,   866,   108, 87419, 48683, 59182,  3451, 33715, 80281])\n",
            "638\n",
            "tensor([16170, 26251,   326, 38213, 80420, 89389, 51163, 68644, 40625, 74366])\n",
            "639\n",
            "tensor([16170, 59182, 80281, 40625, 40324, 26251, 87419, 33715, 17032, 68644])\n",
            "640\n",
            "tensor([ 16170,  59182,  33715,  87419,  80281,  48683,  51163,  17032,  89389,\n",
            "        102080])\n",
            "641\n",
            "tensor([21853, 10753, 24790, 28657, 43600, 24994, 40559, 36799,   108, 31014])\n",
            "642\n",
            "tensor([63427,   326,  4724, 48683, 22158, 16170,   108, 71801,   866,  3451])\n",
            "643\n",
            "tensor([ 53909,  24790,  21853,  16170,  57044,  38213,  80281,  87419, 102160,\n",
            "           326])\n",
            "647\n",
            "tensor([21853, 24790, 43600, 10753, 28657, 12507,   108, 15320, 44837, 18393])\n",
            "648\n",
            "tensor([14072, 29023,  8959, 14872, 31702, 46644, 18067, 32855, 48794, 31044])\n",
            "649\n",
            "tensor([36836, 88624, 26613, 81907, 50887, 50284, 63412, 15320, 73924, 61251])\n",
            "650\n",
            "tensor([16170, 14224, 51163, 40083, 19076, 85924, 33715, 89389, 63386, 26251])\n",
            "652\n",
            "tensor([ 16170,    326,  89389,  96717,  37293,    866,  51163,    108, 110530,\n",
            "        108829])\n",
            "653\n",
            "tensor([16170,  3422,   326, 51163,   108, 26251,   866,  9386,   132,  2077])\n",
            "654\n",
            "tensor([16170, 51163, 89389, 53909, 68032, 65733, 38213, 59694, 26251,  5653])\n",
            "655\n",
            "tensor([  866, 67065, 51163,   326,  3521, 16170, 37293, 94337, 31096, 45304])\n",
            "656\n",
            "tensor([74366, 16170, 26251, 38213,   122, 51163, 40324,   326, 68644, 80281])\n",
            "657\n",
            "tensor([ 40625,  16170,  89389,  67875,  33715,  48683,  87419, 111134,  42346,\n",
            "         31658])\n",
            "660\n",
            "tensor([  326,   108, 16170,   866, 31246,  8221, 21853,  3451,  9699,   132])\n",
            "663\n",
            "tensor([28672, 80334, 19644, 68241, 86188, 50858, 33340, 27843, 21853, 34417])\n",
            "664\n",
            "tensor([16170, 51163, 12507, 38213,   108, 29895, 51624, 10800, 89389,   326])\n",
            "665\n",
            "tensor([30604, 41504, 58162, 43600, 76062, 36085, 77970, 44462, 55061, 46717])\n",
            "666\n",
            "tensor([16170,   326,   108,   866,  3422, 26251,   132, 21853, 16340, 31246])\n",
            "667\n",
            "tensor([16170, 51163,  3422,   326, 37293, 74366,  2077,   108, 26251, 89389])\n",
            "671\n",
            "tensor([21853, 28657, 24790, 10753, 10862,   122,   108, 43600, 24994, 63787])\n",
            "673\n",
            "tensor([16170, 51163, 33715,   326, 87419, 48683, 26251, 40625, 26727, 59182])\n",
            "674\n",
            "tensor([21853, 49859, 23049, 59734, 24790, 43600,   326, 43590, 28657, 18393])\n",
            "675\n",
            "tensor([  866, 21853, 28657, 53909,  8953, 57044, 12507, 45856, 39188,   326])\n",
            "678\n",
            "tensor([26251, 74366, 16170, 40324, 58468, 68644, 43238, 14847, 40625, 93343])\n",
            "681\n",
            "tensor([16170, 51163, 26251, 74366,   326,   108,  9386, 89389, 80420,   122])\n",
            "682\n",
            "tensor([16170,  3451, 53909, 14072, 18067,   326,   108,   866, 80281, 87419])\n",
            "683\n",
            "tensor([46644, 14872, 15320,  8959,  7431, 52552, 36836, 44508, 27968, 81907])\n",
            "684\n",
            "tensor([16170, 74366, 89389, 80420,   326, 26251, 38213, 32606,   122, 51163])\n",
            "685\n",
            "tensor([67065, 94337, 45856,  8464, 31938,   866, 38213, 37770, 52878, 36831])\n",
            "686\n",
            "tensor([21853, 10753, 24790, 36085, 28657, 54992, 24930, 10862, 31274, 72414])\n",
            "687\n",
            "tensor([14224, 16170, 26727, 63386, 40083, 36222, 37415, 89983, 53827, 71087])\n",
            "688\n",
            "tensor([ 18393,  37258,  24994,  31977,  43600,  50978,  44837,  49634, 107480,\n",
            "        108546])\n",
            "689\n",
            "tensor([16170, 51163, 89389, 26019, 51624, 65733, 26251, 74366, 47390, 81615])\n",
            "690\n",
            "tensor([67065, 45856, 94337,   866, 31938, 80146,  8464, 25268, 52878, 37770])\n",
            "691\n",
            "tensor([16170,   326, 74366, 32606,   108,   866,   122, 89389, 80420, 26251])\n",
            "692\n",
            "tensor([  326,   108, 16170, 89389, 53909, 46850,   866, 51163,  3451, 59694])\n",
            "695\n",
            "tensor([46644,  8959,  9620, 14872, 15320, 21085, 24943, 11346, 14072, 22042])\n",
            "696\n",
            "tensor([16170, 51163, 89389,  3422, 26019, 51624, 50867, 47233,   326, 74366])\n",
            "699\n",
            "tensor([24790, 21853, 10753, 28657, 35098, 11537, 24994, 21899, 58868, 73924])\n",
            "702\n",
            "tensor([  326,   108, 16170, 26251, 38213,   866, 51163,   132,   122, 74366])\n",
            "704\n",
            "tensor([46644,  8959,  9620, 14872, 15320, 21085, 24943, 11346, 14072, 22042])\n",
            "705\n",
            "tensor([59182, 16170, 33715, 48683, 87419, 17032, 80281, 89389, 51163, 40625])\n",
            "706\n",
            "tensor([16170,   326,   866,   108,  3422, 26251,  3451,   132,  9386,   106])\n",
            "709\n",
            "tensor([16170, 51163, 31096, 26251, 89389, 99700, 74366,  3422,   866,   326])\n",
            "710\n",
            "tensor([18067, 46644, 36836, 14072, 14872,  8959, 21899, 15320, 32855, 63412])\n",
            "711\n",
            "tensor([ 46644,  14872,   9620,   8959, 118793,  81907,  36222,  11346,  15320,\n",
            "         27968])\n",
            "712\n",
            "tensor([30604, 58162, 41504, 43600, 36085, 77970, 83253, 55061, 76062, 46717])\n",
            "713\n",
            "tensor([21853, 24790, 10753, 31014, 21937, 28657, 44837, 33764,  8959, 43600])\n",
            "716\n",
            "tensor([ 16170,  38213,  89389,  68032,  40625,  40324, 104416,  59182,  51624,\n",
            "         80420])\n",
            "717\n",
            "tensor([81907, 36836, 50887, 61251, 42105, 71396, 12837, 73924, 52552, 99897])\n",
            "718\n",
            "tensor([16170, 51163,   326,   108, 26251,   866, 21853, 53909, 89389, 74366])\n",
            "719\n",
            "tensor([ 40625,  33715, 111134,  67875,  59182,  48683,  87419,  16170,  89389,\n",
            "         51624])\n",
            "721\n",
            "tensor([21853, 24790, 10753, 28657, 54774, 55304, 11537, 43600,   326, 49634])\n",
            "725\n",
            "tensor([  326, 16170, 32606, 80420, 51163,   108, 89389, 47390, 14789, 26251])\n",
            "726\n",
            "tensor([  326, 16170, 32606, 80420, 51163,   108, 89389, 47390, 14789, 26251])\n",
            "733\n",
            "tensor([46644, 14872, 18067, 36222,  8959, 14072, 40592, 48215, 11346, 32855])\n",
            "734\n",
            "tensor([   866,    326,  53909,    108,  89389,  12507,  40625, 109403,  71950,\n",
            "         16170])\n",
            "735\n",
            "tensor([16170, 51163, 26251, 74366, 33715, 40625,   866,   326,  9386, 87419])\n",
            "736\n",
            "tensor([21853, 28657, 24790, 10753,   326,   122, 37504, 54774, 46644, 14710])\n",
            "737\n",
            "tensor([18067, 14872, 46644, 36836, 14072, 32855,  8959, 40592, 21899, 36222])\n",
            "738\n",
            "tensor([ 40625,  33715, 111134,  59182,  87419,  67875,  48683, 118680,  81615,\n",
            "         51624])\n",
            "741\n",
            "tensor([ 40625, 104416, 118680,    866,  71950,  16170,    326,  51962,  87419,\n",
            "         42346])\n",
            "742\n",
            "tensor([18067, 46644, 14872, 14072,  8959, 21899, 36836, 32855, 40592, 36222])\n",
            "743\n",
            "tensor([72655, 82897, 55020, 33715, 40625, 46736, 44266, 49419, 48776, 35375])\n",
            "745\n",
            "tensor([16170, 80420, 89389, 37293, 74366, 51163, 96717, 18203, 46850,   326])\n",
            "746\n",
            "tensor([16170, 74366, 51163,   108,   326,   122, 26251, 38213, 87419,   866])\n",
            "747\n",
            "tensor([  326, 37293,   108, 44278,   866, 89389,   867, 14631, 96717, 11298])\n",
            "749\n",
            "tensor([21853, 24790, 10753, 28657, 43600, 12507, 15320,   108, 36799, 21899])\n",
            "750\n",
            "tensor([16170, 51163,   326, 26251,   108, 21853,   866,  3451, 31246, 53909])\n",
            "751\n",
            "tensor([18067, 46644, 14872, 14072,  8959, 21899, 36836, 32855, 40592, 36222])\n",
            "752\n",
            "tensor([ 39680,  71087,  12507, 111134,  39188,  57044,  46915,  38213,  35820,\n",
            "         29895])\n",
            "755\n",
            "tensor([16170, 51163,   326, 89389, 74366,   108, 26251, 37293, 87419,   866])\n",
            "758\n",
            "tensor([16170, 51163, 87419, 48683, 57813, 33715,  3422, 39874,   866, 80492])\n",
            "759\n",
            "tensor([24790, 21853, 10753, 19157, 40028, 31702, 57111, 14072, 17603, 48215])\n",
            "760\n",
            "tensor([ 21853,  24790,  43600,  18393,  49634,  28657, 108546,  37500,  55304,\n",
            "         71801])\n",
            "761\n",
            "tensor([16170,  3422,   866, 26251, 80420,   326, 74366,   108, 51163, 89389])\n",
            "764\n",
            "tensor([16170, 51163, 31096, 89389, 38213,  3451, 55020, 32928, 74366, 46850])\n",
            "765\n",
            "tensor([46644, 14872, 14072, 18067,  8959, 36222, 29023, 48215, 32855, 31702])\n",
            "770\n",
            "tensor([40625, 71950,   326, 36831, 65733, 31096, 42346, 74366, 87419, 72176])\n",
            "771\n",
            "tensor([ 26251,  35847,  31014, 114629,  51163,  94606,  39188,  43566,  46915,\n",
            "         71087])\n",
            "772\n",
            "tensor([ 48683,    326,  16170,  46736,  63427,  32606,  67875,  89389, 111134,\n",
            "         37770])\n",
            "773\n",
            "tensor([81907, 50887, 36836, 61251, 42105, 52552, 99897, 12837, 50284, 71396])\n",
            "774\n",
            "tensor([ 21853,  24790,  10753,    326,  28657,  43600, 108546,  31977,  44837,\n",
            "         63787])\n",
            "776\n",
            "tensor([21853, 24790, 10753, 43600, 28657, 12507, 15320,   108, 36799, 44837])\n",
            "778\n",
            "tensor([ 53909,  21853,  24790,  28657,   3451,  12507,  18930, 102160,  30729,\n",
            "         35098])\n",
            "783\n",
            "tensor([21853, 14072,  9620, 46644, 10753, 15320, 36836, 24790, 48215, 18067])\n",
            "785\n",
            "tensor([16170, 51163, 26251, 89389, 40625, 51624, 80281, 65733, 26019, 33715])\n",
            "787\n",
            "tensor([ 53909,    326,    866,  40625,    108,  71950,  16170, 109403, 104416,\n",
            "         89389])\n",
            "788\n",
            "tensor([16170,   326,   866,   108, 31246,  3451, 26251, 21853, 51163,  9699])\n",
            "789\n",
            "tensor([63427,   326,  4724, 48683, 71801, 22158, 29895, 39188, 16170,   108])\n",
            "791\n",
            "tensor([16170, 26251,   326, 51163, 74366, 80420, 89389, 40625, 68644, 37293])\n",
            "793\n",
            "tensor([ 51163,  16170,  31096,  32606,  89389,  80420,  38213,  85006, 119229,\n",
            "         26251])\n",
            "794\n",
            "tensor([21853, 24790, 10753, 28657,   326,   122, 17985, 54774, 26324, 18928])\n",
            "795\n",
            "tensor([16170, 51163, 26251,  3422, 74366,  9386, 14847, 37293, 89389,   326])\n",
            "797\n",
            "tensor([16170,  3422, 51163,   326, 26251,  9386,   866, 33270,  1020, 23027])\n",
            "799\n",
            "tensor([16170, 51163, 53909,  3451, 89389, 38213,   326,   866, 68032, 55020])\n",
            "801\n",
            "tensor([ 46644,  14872,   8959,   9620,  36222,  81907,  70713, 108527, 118793,\n",
            "         11346])\n",
            "803\n",
            "tensor([ 21853,  49634,  18393,  43600,  24790,  31977,  28657,  24994,  63787,\n",
            "        108546])\n",
            "806\n",
            "tensor([16170, 14224, 51163, 40083, 63386, 33715, 44278, 26727, 19076, 85924])\n",
            "807\n",
            "tensor([  326, 16170,   866,   108, 38981,  3451,   842, 14789,  9814, 37293])\n",
            "809\n",
            "tensor([16170,   326,   108,   866,  3422, 26251, 21853, 51163, 53909,  3451])\n",
            "810\n",
            "tensor([ 21853,  28657,  24790,  10753, 102055,   7089,  31751,  61937,  21992,\n",
            "          7214])\n",
            "811\n",
            "tensor([ 26251,  74366,  40324,  68644,  16170,  80281,  93343,  40625, 104416,\n",
            "         71950])\n",
            "813\n",
            "tensor([   326,    108, 110530,  88149, 107428,  57044,  38213,  16170, 111134,\n",
            "           132])\n",
            "815\n",
            "tensor([ 63427,  22158,    326,  23049,   4724,  29895,    108,  31732, 111470,\n",
            "         43432])\n",
            "821\n",
            "tensor([24790, 21853, 43600, 10753, 12507, 28657, 24994,   108, 44837, 10862])\n",
            "824\n",
            "tensor([16170, 51163,  3422, 80420,  9814, 32606, 11507,   866,  7214, 70783])\n",
            "825\n",
            "tensor([ 16170,    326,    108,  48683,  89983,    866,  26727,  51163, 111134,\n",
            "         87419])\n",
            "826\n",
            "tensor([16170, 74366, 89389, 80420,   326, 26251, 38213, 32606,   122, 51163])\n",
            "827\n",
            "tensor([  326, 16170,   108, 51163,   866, 26251, 89389, 21853,   132,  3422])\n",
            "830\n",
            "tensor([67065, 45856, 94337,   866, 31938, 80146,  8464, 25268, 52878, 37770])\n",
            "831\n",
            "tensor([ 21853,  43600,  49634,  24790,  18393, 108546,  37500,  31977,  63787,\n",
            "         44837])\n",
            "834\n",
            "tensor([16170, 51163,  3422, 89389,   866, 26019, 26251, 51624, 74366, 96717])\n",
            "836\n",
            "tensor([  326,   866, 16170, 36440,   108, 37293,   867,   122,  2077, 14631])\n",
            "838\n",
            "tensor([ 21853,  43600, 108546,  31977,  44837,  24994,  63787,  41504,  24790,\n",
            "           108])\n",
            "839\n",
            "tensor([16170,   326,   866, 51163, 53909,   108,  3422, 65733,   122, 26251])\n",
            "841\n",
            "tensor([24790, 24994, 21853, 43600, 63787, 44837, 43590, 37500, 10753, 31977])\n",
            "842\n",
            "tensor([ 18393,  37258,  24994,  31977,  43600,  50978, 107480,  44837,  63787,\n",
            "        108546])\n",
            "843\n",
            "tensor([ 57044,  89389,  67065,  98423,  80146,  25268,  48623,  52878, 109964,\n",
            "         45856])\n",
            "844\n",
            "tensor([81907, 36836, 50887, 61251, 71396, 42105, 12837, 52552, 13108,  8047])\n",
            "848\n",
            "tensor([ 26251,  74366,  40324,  68644,  16170,  80281,  93343,  40625, 104416,\n",
            "         71950])\n",
            "849\n",
            "tensor([16170, 89389, 26019, 51624, 13325,  7436, 14510, 56752, 67875, 51163])\n",
            "851\n",
            "tensor([21853,  8959, 14872, 46644, 24790, 14072, 18067, 12675, 15320, 36836])\n",
            "852\n",
            "tensor([ 87419,    866,    326,  59182,  40625, 104416,  32606,  31096,  71950,\n",
            "         37770])\n",
            "853\n",
            "tensor([16170, 51163,  3422, 89389,   866, 26251,  6496, 26019, 74366, 59018])\n",
            "854\n",
            "tensor([16170,   326, 51163, 80281, 26251,   108, 80420, 53909, 40625, 89389])\n",
            "856\n",
            "tensor([  326, 16170,   108, 51163,   866, 26251, 89389, 21853,   132,  3422])\n",
            "857\n",
            "tensor([16170,   326, 51163,   866, 26251,   108,  3422,  9386,  9699, 74366])\n",
            "860\n",
            "tensor([46644, 14872,  8959, 36222,  7431, 40592, 18067, 27968, 22793, 11346])\n",
            "861\n",
            "tensor([74366, 26251, 16170, 51163, 58468, 68644, 43238, 80420, 40324, 93343])\n",
            "862\n",
            "tensor([46644, 14072,  8959, 14872, 31702, 18067, 26727, 29023, 36222, 32855])\n",
            "863\n",
            "tensor([89389,   326, 16170, 37293, 32606, 96717, 80420, 51163,   108, 40625])\n",
            "866\n",
            "tensor([21853, 44508, 14872, 15320, 49295,  8959, 24790, 46644, 82624, 27968])\n",
            "868\n",
            "tensor([  326, 63427, 16170,  4724,   108,  3451, 48683, 22158,   132, 71801])\n",
            "869\n",
            "tensor([21853, 10753, 24790, 28657, 36085, 24930, 37500, 72414, 31274, 70935])\n",
            "870\n",
            "tensor([16170, 59182, 80281, 40625, 40324, 26251, 87419, 33715, 17032, 68644])\n",
            "871\n",
            "tensor([21853, 10753, 24790, 28657,   326, 18876, 12352, 72414, 39457,   122])\n",
            "872\n",
            "tensor([16170, 74366, 26251, 51163,   326, 58468, 80420,   122, 38213, 89389])\n",
            "873\n",
            "tensor([16170, 53909,   866,   326, 51163,  3451, 89389, 38213, 57044,   108])\n",
            "875\n",
            "tensor([ 16170,  51163,  87419,  33715,  48683,  39874,  57813, 106953,  80281,\n",
            "        108047])\n",
            "876\n",
            "tensor([16170, 51163, 26251,  3422, 74366,  9386, 14847, 37293, 89389,   326])\n",
            "877\n",
            "tensor([16170, 51163, 26251,   326,   866,  3422, 89389, 40625,   108, 58864])\n",
            "878\n",
            "tensor([18393, 43600, 37500, 64204, 20557, 44837, 63787, 24930, 24994, 57090])\n",
            "880\n",
            "tensor([16170,   326, 37293,   108,  3422,   866, 74366,  2077, 80420, 89389])\n",
            "882\n",
            "tensor([16170, 51163,  3422, 26251,   866,   326, 33270,  6496, 37293,  9386])\n",
            "884\n",
            "tensor([  326,   108,   132,   122, 15320,   138,  7214,   140, 78099, 77148])\n",
            "885\n",
            "tensor([ 26251,  16170,  74366,  58468,  40625,  51163,  40324, 104416,  93343,\n",
            "         43238])\n",
            "887\n",
            "tensor([ 89389,  32606,  16170, 110530,  34866, 102080,  37770,  71950,  73634,\n",
            "        104416])\n",
            "888\n",
            "tensor([ 80420,  51163,  32606,  16170,  38213,    866,   9814, 104729,   9490,\n",
            "         19282])\n",
            "890\n",
            "tensor([ 34961, 109582,  28217,  54584,  30604,  46717,  58015,  44462,  76062,\n",
            "         79398])\n",
            "891\n",
            "tensor([ 67065,  57044,  52878,  45856, 109964,  80146,  89389,  98423,  25268,\n",
            "         37293])\n",
            "893\n",
            "tensor([   326,  89389,  37293,    108,  16170,  96717, 110530,  51163,  42346,\n",
            "         80420])\n",
            "895\n",
            "tensor([ 16170,  51163,    326,  12507,    866,    108, 109403,  89389,  50867,\n",
            "         10800])\n",
            "896\n",
            "tensor([  326, 63427, 16170,  4724,   108,  3451, 48683, 22158,   132, 71801])\n",
            "898\n",
            "tensor([16170,   326,   108, 51163, 74366, 26251,   122,   866, 89389, 65733])\n",
            "899\n",
            "tensor([16170, 89389, 38213, 55020, 31096, 51163, 82897, 46075, 40324, 74366])\n",
            "901\n",
            "tensor([ 98423,  57044,    326,  36831,    866, 101016,  52878,  80146,  27779,\n",
            "         45856])\n",
            "902\n",
            "tensor([  326,   108, 49634, 68111,   122, 43600, 18393,   132, 44837, 24994])\n",
            "903\n",
            "tensor([16170, 74366, 26251, 68644, 40324, 51163, 58468,   326, 89389, 80420])\n",
            "905\n",
            "tensor([21853, 24790, 49634, 43600, 24994, 31977, 87403, 10753, 63787, 18393])\n",
            "906\n",
            "tensor([16170, 59182, 80281, 40625, 40324, 26251, 87419, 33715, 17032, 68644])\n",
            "908\n",
            "tensor([28672, 50858, 80334, 68241, 19644, 86188, 33340, 94074, 43451, 36721])\n",
            "909\n",
            "tensor([21853, 24790, 43600, 10753, 28657, 12507, 31977,   326, 24994, 44837])\n",
            "910\n",
            "tensor([16170, 51163,   326,   866, 26251,   108,  3451, 29460, 40625, 31096])\n",
            "911\n",
            "tensor([32606, 80420, 51163, 38213, 16170, 89389, 84430, 65735, 81744, 31096])\n",
            "912\n",
            "tensor([16170,   326, 40625, 59182,   108,   866, 87419, 80281,  9953, 37293])\n",
            "914\n",
            "tensor([23049,   326, 86064, 31732,  8221, 70479, 47178, 29895,   108, 19096])\n",
            "915\n",
            "tensor([ 21853,  27843,  33764,  81632,  23027,  23263,  50858,    108,  48967,\n",
            "        106855])\n",
            "916\n",
            "tensor([37504, 20070, 34196,   122, 52005,   326, 78400, 12837, 65583,   156])\n",
            "918\n",
            "tensor([16170,   326, 51163, 96717, 89389, 37293,   108,   866,  3422, 74366])\n",
            "920\n",
            "tensor([16170, 51163, 74366,  3422, 26251, 80420, 32606, 89389, 38213,   866])\n",
            "921\n",
            "tensor([16170, 89389, 55020, 31096, 38213, 51163, 82897, 46075, 51624, 74366])\n",
            "923\n",
            "tensor([ 30604,  77970, 104475,  54584,  46717,  34961,  58162,  83253,  44970,\n",
            "         44462])\n",
            "925\n",
            "tensor([ 16170,  89389,  26019,  51163,  51624,    866,  81615, 104416,   3422,\n",
            "         93611])\n",
            "927\n",
            "tensor([16170,   326,   108,   866,  3422, 15472,   122,   132,  5419,   867])\n",
            "930\n",
            "tensor([21853, 10753, 28657, 24790, 43600, 54774,   108, 83684,   326, 18393])\n",
            "931\n",
            "tensor([16170, 53909,   866,   326, 51163,  3451, 89389, 38213, 57044,   108])\n",
            "933\n",
            "tensor([21853, 24790, 10753,   326, 28657, 49634, 43600, 10862, 31977, 36085])\n",
            "936\n",
            "tensor([51163,   866, 16170, 26251, 31096, 89389, 81931,   326,  9699, 38213])\n",
            "938\n",
            "tensor([16170,   326,   866,   108, 51163,  3422, 53909, 21853, 26251, 29895])\n",
            "939\n",
            "tensor([ 3521,   866, 70782, 96717, 65733,   326, 51259, 74366, 24092, 87419])\n",
            "940\n",
            "tensor([81907, 36836, 50887, 61251, 71396, 42105, 12837, 52552, 13108,  8047])\n",
            "941\n",
            "tensor([38213,   122, 74366, 16170, 12138, 80281, 57044,   108,   326,   869])\n",
            "943\n",
            "tensor([16170, 51163,  3422, 89389, 26251, 26019, 74366, 96717,   866,  6496])\n",
            "944\n",
            "tensor([37500, 18393, 20557, 63787, 43600, 64204, 24930, 44837, 57090, 23049])\n",
            "945\n",
            "tensor([16170, 51163,   326, 26251,   108, 21853,   866,  3451, 31246, 53909])\n",
            "947\n",
            "tensor([16170,   326,   866,   108, 26251, 65733,  9386, 53909, 51163,   132])\n",
            "948\n",
            "tensor([16170, 26251, 51163, 74366,  3422,  9386, 14847,   866, 40625, 89389])\n",
            "949\n",
            "tensor([ 37258,  31977,  49634,  18393, 108546,  24994,  42153,  20557,  63787,\n",
            "         29895])\n",
            "951\n",
            "tensor([ 16170,  40625, 104416,  89389,  33715,  26251,  51163,  96398,  42346,\n",
            "           326])\n",
            "954\n",
            "tensor([10753, 21853, 24790, 28657, 36085, 54992, 72414, 24930, 10862, 70935])\n",
            "955\n",
            "tensor([16170, 51163, 26251,  9386,  3422, 74366, 14847,  2077,   866, 25770])\n",
            "956\n",
            "tensor([  326,   866,   108,  3451, 16170,   132,  9699, 39680, 26727, 15472])\n",
            "957\n",
            "tensor([   326,    108, 110530,  88149, 107428,  57044,  38213,  16170, 111134,\n",
            "           132])\n",
            "959\n",
            "tensor([ 87419,  16170,  48683,  51163,  57813,    866,  59182,  33715, 106953,\n",
            "          1648])\n",
            "960\n",
            "tensor([ 40625,  16170,  89389,  67875,  33715,  48683,  87419, 111134,  42346,\n",
            "         31658])\n",
            "961\n",
            "tensor([16170, 51163,   866, 26251,   326,   108, 74366, 81931,  3422, 21853])\n",
            "962\n",
            "tensor([21853, 43600, 24790, 44254, 31977, 10753, 28657, 18393, 24994, 44837])\n",
            "963\n",
            "tensor([21853, 27843, 33764, 23027, 81632, 23263, 50858,   108, 21937, 48967])\n",
            "964\n",
            "tensor([16170, 51163, 37293, 26251, 89389, 47390, 40625, 74366, 96717,  3422])\n",
            "965\n",
            "tensor([   108,  44837,    326,  31977,  49634,  43600,  64204,  44254,  24994,\n",
            "        108546])\n",
            "967\n",
            "tensor([16170, 51624,  3451, 65733, 20744, 51163, 89389,   326, 26251,   866])\n",
            "968\n",
            "tensor([ 40625, 104416, 118680,  51962,  71950, 103969, 105588,  42346,  39874,\n",
            "         51775])\n",
            "970\n",
            "tensor([ 16170,  26251,  51163,  33715,   3422,    326,  40625, 104416,    866,\n",
            "         26019])\n",
            "972\n",
            "tensor([ 40625, 104416, 118680,  71950,  87419,  51962,  42346,  41313, 105588,\n",
            "           866])\n",
            "976\n",
            "tensor([16170, 26251,  9386,  3422, 51163,   326,   866, 74366,   108,  6496])\n",
            "977\n",
            "tensor([21853, 43600, 24790, 28657, 10753, 12507, 44837, 18393,   108, 31977])\n",
            "978\n",
            "tensor([26727, 18067, 14072, 89721, 46644, 14872,  8959, 29111, 32855, 56405])\n",
            "980\n",
            "tensor([ 21853,  24790,  28657,  10753,  43600,  24994, 108546,  63787,  18829,\n",
            "         44837])\n",
            "981\n",
            "tensor([16170,   326,   122,   108, 51163,   866, 38213, 14631, 53909, 74366])\n",
            "983\n",
            "tensor([ 51163,  31096,  16170,  38213,  32606,  26251,  89389,    326, 102080,\n",
            "         52826])\n",
            "984\n",
            "tensor([21853, 10753, 24790, 28657, 43600,   326, 54774,   108, 24911,   122])\n",
            "985\n",
            "tensor([ 51163,  31096,  16170,  38213,  32606,  26251,  89389,    326, 102080,\n",
            "         52826])\n",
            "987\n",
            "tensor([21853, 10753, 28657, 24790, 54774, 18624, 14072, 52005, 11537, 20070])\n",
            "988\n",
            "tensor([51163, 16170,  3451, 89389, 38213,   866, 53909, 57044, 21853,   326])\n",
            "989\n",
            "tensor([ 21853,  27843,  33764,  81632,  50858,  23263,    108,  23027,    326,\n",
            "        106855])\n",
            "994\n",
            "tensor([16170,   326,   108,   866, 51163,  3422, 26251, 89389,   122, 16340])\n",
            "995\n",
            "tensor([ 16170,  80420, 110530,  74366,  89389,  37293,    326,  96717,  32606,\n",
            "         57044])\n",
            "996\n",
            "tensor([ 67065,  36831,  38213,  80146, 109964,  89389,  52878,  47390,  37770,\n",
            "         81744])\n",
            "998\n",
            "tensor([16170, 51163, 26251, 74366,   326, 80420, 58468, 43238, 68250,  2077])\n",
            "999\n"
          ]
        }
      ]
    },
    {
      "cell_type": "code",
      "source": [],
      "metadata": {
        "id": "JOiJaUKuXLTB"
      },
      "execution_count": null,
      "outputs": []
    }
  ]
}